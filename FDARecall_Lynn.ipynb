{
 "cells": [
  {
   "cell_type": "code",
   "execution_count": 26,
   "metadata": {},
   "outputs": [],
   "source": [
    "import requests\n",
    "import pandas as pd\n",
    "from pymongo import MongoClient\n",
    "from datetime import datetime\n",
    "import plotly.express as px\n",
    "import ipywidgets as widgets\n",
    "from ipywidgets import interact\n",
    "import dash\n",
    "from dash import dcc, html\n",
    "from dash.dependencies import Input, Output\n",
    "\n",
    "\n",
    "\n",
    "# Define the API endpoint and parameters\n",
    "url = \"https://api.fda.gov/food/enforcement.json?search=report_date:[20200101+TO+20241005]&limit=500\"\n",
    "\n",
    "# Send a GET request to the API\n",
    "response = requests.get(url)\n",
    "\n",
    "if response.status_code == 200:\n",
    "    data = response.json()\n",
    "    recalls = data.get('results', [])\n",
    "    recall_df = pd.DataFrame(recalls)\n",
    "\n",
    "    clean_df = recall_df.rename(columns={\n",
    "        \"status\": \"Status\", \n",
    "        \"city\": \"City\",\n",
    "        \"state\": \"State\",\n",
    "        \"country\":\"Country\",\n",
    "        \"classification\":\"Classification\",\n",
    "        \"openfda\":\"Open FDA\",\n",
    "        \"product_type\":\"Product Type\",\n",
    "        \"event_id\":\"Event ID\",\n",
    "        \"recalling_firm\":\"Recalling Firm\",\n",
    "        \"address_1\":\"Address 1\",\n",
    "        \"address_2\":\"Address 2\",\n",
    "        \"postal_code\":\"Postal Code\",\n",
    "        \"voluntary_mandated\":\"Voluntary Mandated\",\n",
    "        \"initial_firm_notification\":\"Initial Firm Notification\",\n",
    "        \"distribution_pattern\":\"Distribution Pattern\",\n",
    "        \"recall_number\":\"Recall Number\",\n",
    "        \"product_description\":\"Product Description\",\n",
    "        \"product_quantity\":\"Product Quantity\",\n",
    "        \"reason_for_recall\":\"Reason for Recall\",\n",
    "        \"recall_initiation_date\":\"Recall Initiation Date\",\n",
    "        \"center_classification_date\":\"Center Classification Date\",\n",
    "        \"termination_date\":\"Termination Date\",\n",
    "        \"report_date\":\"Report Date\",\n",
    "        \"code_info\":\"Code Info\",\n",
    "        \"more_code_info\":\"More Code Info\",\n",
    "    })\n",
    "\n",
    "    # Convert DataFrame to dictionary format for MongoDB\n",
    "    recall_records = clean_df.to_dict(\"records\")\n",
    "\n",
    "    # Modify records to ensure the correct structure\n",
    "    for record in recall_records:\n",
    "        record['recall_number'] = record.get('recall_number', '')  # Primary key\n",
    "        record['recall_initiation_date'] = datetime.strptime(record.get('recall_initiation_date', '1900-01-01'), '%Y%m%d') if record.get('recall_initiation_date') else None\n",
    "        record['recall_classification'] = record.get('classification', '')  # Classification as VARCHAR(50)\n",
    "        record['status'] = record.get('status', '')  # Status as VARCHAR(50)\n",
    "        record['product_description'] = record.get('product_description', '')  # Description as TEXT\n",
    "        record['code_info'] = record.get('code_info', '')  # Code info as TEXT\n",
    "        record['recalling_firm'] = record.get('recalling_firm', '')  # Firm as VARCHAR(50)\n",
    "        record['reason_for_recall'] = record.get('reason_for_recall', '')  # Reason as TEXT\n",
    "        record['distribution_pattern'] = record.get('distribution_pattern', '')  # Pattern as TEXT\n",
    "        record['state'] = record.get('state', '')  # State as VARCHAR(50)\n",
    "        record['report_date'] = datetime.strptime(record.get('report_date', '1900-01-01'), '%Y%m%d') if record.get('report_date') else None\n",
    "        record['voluntary_mandated'] = record.get('voluntary_mandated', '')  # Voluntary/Mandated as VARCHAR(50)\n",
    "        record['event_id'] = record.get('event_id', '')  # Event ID as VARCHAR(50)\n",
    "\n",
    "    # Connect to MongoDB\n",
    "    client = MongoClient('mongodb://localhost:27017/')  # Or use your MongoDB URI\n",
    "    db = client['fda_recall_data']  # Database name\n",
    "    collection = db['recalls']  # Collection name\n",
    "\n",
    "    # Insert modified data into MongoDB\n",
    "    collection.insert_many(recall_records)\n",
    "\n",
    "    # Example: Query data back from MongoDB\n",
    "    recalls_from_db = list(collection.find())\n",
    "\n",
    "    # Convert back to DataFrame if needed\n",
    "    db_df = pd.DataFrame(recalls_from_db)"
   ]
  },
  {
   "cell_type": "code",
   "execution_count": 29,
   "metadata": {},
   "outputs": [
    {
     "data": {
      "application/vnd.jupyter.widget-view+json": {
       "model_id": "813f81309b954a15b46c5d9f192685bb",
       "version_major": 2,
       "version_minor": 0
      },
      "text/plain": [
       "interactive(children=(Dropdown(description='Select Firm:', options=(None, '(33) FRESH IDEATION FOOD GROUP, LLC…"
      ]
     },
     "metadata": {},
     "output_type": "display_data"
    },
    {
     "data": {
      "application/vnd.plotly.v1+json": {
       "config": {
        "plotlyServerURL": "https://plot.ly"
       },
       "data": [
        {
         "branchvalues": "total",
         "customdata": [
          [
           "Class II",
           "Cajun Style Chicken Meal PLU# 24658700000. Expiration date 8/5/2020.Ingredients: MEAL [CAJUN STYLE BOWTIE PASTA (BOWTIE PASTA (COOKED ENRICHED MACARONI PRODUCT [WATER, SEMOLINA, EGG WHITES, NIACIN, FERROUS SULFATE, THIAMIN MONONITRATE, RIBOFLAVIN, FOLIC ACID], SOYBEAN OIL, CONTAINS LESS THAN 2% OF CULTURED DEXTROSE, SALT), ALFREDO SAUCE [MILK (MILK, VITAMIN D3), HEAVY CREAM (CREAM, MILK), WATER, PARMESAN CHEESE (PASTEURIZED PART-SKIM MILK, CHEESE CULTURE, SALT, ENZYMES, POWDERED CELLULOSE [ANTI-CAKING AGENT]), CORNSTARCH, ROMANO CHEESE (PASTEURIZED SHEEP S MILK, CHEESE CULTURES, SALT, ENZYMES, POWDERED CELLULOSE [ANTI-CAKING AGENT]), CONTAINS 2% OR LESS OF ENRICHED WHEAT FLOUR (WHEAT FLOUR, MALTED BARLEY FLOUR, NIACIN, REDUCED IRON, THIAMINE MONONITRATE, RIBOFLAVIN, FOLIC ACID), SALT, WHITE PEPPER, GARLIC POWDER, LEMON PEEL], PEPPERS & ONIONS [RED BELL PEPPER, GREEN BELL PEPPER, YELLOW BELL PEPPER, YELLOW ONION, OIL BLEND (CANOLA OIL, EXTRA VIRGIN OLIVE OIL), SALT, BLACK PEPPER], CAJUN SEASONING (GARLIC, SPICES [INCLUDING PAPRIKA, OREGANO, RED PEPPER], SALT, ONION)), GRILLED CHICKEN (CHICKEN BREAST [BONELESS SKINLESS CHICKEN BREAST], WATER, ISOLATED SOY PROTEIN, SALT, SODIUM PHOSPHATES, BLACK PEPPER), PEPPERS & ONIONS [RED BELL PEPPER, GREEN BELL PEPPER, YELLOW BELL PEPPER, YELLOW ONION, OIL BLEND (CANOLA OIL, EXTRA VIRGIN OLIVE OIL), SALT, BLACK PEPPER], PARMESAN CHEESE (PASTEURIZED PART SKIM MILK, CHEESE CULTURES AND/OR RENNET, SALT, ENZYMES, STARCH, POWDERED CELLULOSE TO PREVENT CAKING, NATAMYCIN TO PROTECT FLAVOR), PARSLEY, CAJUN SEASONING (GARLIC, SPICES [INCLUDING PAPRIKA, OREGANO, RED PEPPER], SALT, ONION)]. Onions are cooked.",
           "PA",
           "Food"
          ],
          [
           "Class I",
           "GE Egg & Bacon Salad With French Dressing PLU# 23665100000. Expiration date 8/4/2020. Ingredients: SALAD [ROMAINE LETTUCE, FRENCH DRESSING (SOYBEAN OIL, SUGAR, WATER, DISTILLED VINEGAR, APPLE CIDER VINEGAR, TOMATO PASTE, HONEY, CONTAINS LESS THAN 2% OF SALT, PAPRIKA, MUSTARD FLOUR, XANTHAN GUM, DRIED ONION, DRIED GARLIC, BEETROOT JUICE CONCENTRATE, NATURAL FLAVOR), EGG, BACON BITS (BACON CURED WITH: WATER, SALT, SODIUM PHOSPHATES, SODIUM ERYTHORBATE, SODIUM NITRITE, MAY CONTAIN: SUGAR, BROWN SUGAR, AND/OR SMOKE FLAVORING), FETA CHEESE ((PASTEURIZED PART-SKIM MILK, CHEESE CULTURE, SALT, ENZYMES), POWDERED CELLULOSE TO PREVENT CAKING), SPRING MIX (GREEN LEAVES [FRISEE, WILD ARUGULA, MACHE], RED LEAVES [RADICCHIO], MAY CONTAIN THE FOLLOWING: GREEN LEAVES [ROMAINE HEARTS, TANGO, MIZUNA, GREEN OAK, GREEN CHARD], RED LEAVES [LOLLA ROSA, RED CHARD, RED ROMAINE HEARTS, RED LEAF, RED OAK]), RED ONION].",
           "PA",
           "Food"
          ],
          [
           "Class I",
           "MD G&G Greek Salad PLU#23662500000. Expiration date 8/4/2020. Ingredients: SALAD [ROMAINE LETTUCE, PEPPERONCINI (PEPPERS, WATER, SALT, VINEGAR, CITRIC ACID, SODIUM BENZOATE (AS PRESERVATIVE), SODIUM BISULFITE (TO ENHANCE COLOR), FD&C YELLOW #5), BALSAMIC VINAIGRETTE (SEE DRESSING CUP), GRAPE LEAVES (VINE LEAVES, RICE, ONIONS, SALT, SUNFLOWER OIL, CITRIC ACID, SPICES), GRAPE TOMATOES, FETA CHEESE ((PASTEURIZED PART-SKIM MILK, CHEESE CULTURE, SALT, ENZYMES), POWDERED CELLULOSE TO PREVENT CAKING), CUCUMBER, PITTED KALAMATA OLIVES ((OLIVES, WATER, SALT, OLIVE OIL, ACETIC ACID), CANOLA OIL, SPICES), RED ONION].",
           "PA",
           "Food"
          ],
          [
           "Class II",
           "MD Philly Style Steak Stromboli Cold PLU#23676600000. Expiration date: 8/3/2020 Ingredients: STROMBOLI [DOUGH (ENRICHED WHEAT FLOUR [WHEAT FLOUR, MALTED BARLEY FLOUR, NIACIN, REDUCED IRON, THIAMINE MONONITRATE, RIBOFLAVIN, FOLIC ACID], WATER, ENRICHED SEMOLINA FLOUR [SEMOLINA, NIACIN, FERROUS SULFATE, THIAMINE MONONITRATE, RIBOFLAVIN, FOLIC ACID], OLIVE OIL, SALT [SALT, SODIUM SILICOALUMINATE], YEAST [YEAST, SORBITAN MONOSTEARATE, ASCORBIC ACID], SUGAR), BEEF (BEEF, WATER, DEXTROSE, SODIUM PHOSPHATE, MODIFIED CORNSTARCH, SALT, AUTOLYZED YEAST, HYDROLYZED CORN PROTEIN, COATING [DEXTROSE, SODIUM CITRATE, SALT, CARAMEL COLOR, SODIUM DIACETATE, SPICES, GARLIC & ONION, PAPRIKA, HYDROLYZED CORN PROTEIN, MALTODEXTRIN, GRILL FLVR (FROM SUNFLOWER OIL), MODIFIED CORNSTARCH, CORN SYRUP SOLIDS, NTRL SMOKE FLVR, GUAR GUM]), PIZZA SAUCE [GRND TOMATO (TOMATO, SALT, CITRIC ACID), SAUCE (TOMATO, EXTRA VIRGIN OLIVE OIL & SUNFLOWER OIL BLND, SALT, OREGANO, BLACK PEPPER, GRANULATED GARLIC, CITRIC ACID)], ROASTED PEPPER & ONION [YELLOW BELL PEPPER, GREEN BELL PEPPER, RED BELL PEPPER, YELLOW ONION, OIL BLND (CANOLA & EXTRA VIRGIN OLIVE OIL), SALT, BLACK PEPPER], CHEESE BLND (PART SKIM MOZZARELLA [MILK, CHEESE CULTURE, SALT, ENZYMES], PROVOLONE [MILK, CHEESE CULTURE, SALT, ENZYMES]), ROMANO HERB SEASONING [CHEESE (PECORINO ROMANO [SHEEP S MILK, CHEESE CULTURES, SALT, ENZYMES], ROMANO STYLE CHEESE [CORNSTARCH, WATER, PALM OIL, CELLULOSE, SALT, NATRL FLVR, CASEINATE, SORBIC ACID (PRSRVTVE)], PWDRD CELLULOSE [ANTICAKING], NATAMYCIN [NTRL MOLD INHIBITOR]), DHYDRTD GARLIC, GRND OREGANO, PARSLEY], EGGS (EGG, CITRIC ACID [TO PRSRVE COLOR], WATER), OIL BLND (CANOLA & EXTRA VIRGIN OLIVE OIL), FLOUR BLND [FLOUR (BLEACHED WHEAT FLOUR, MALTED BARLEY FLOUR, NIACIN, REDUCED IRON, THIAMINE MONONITRATE, RIBOFLAVIN, FOLIC ACID), ENRICHED SEMOLINA FLOUR (SEMOLINA, NIACIN, FERROUS SULFATE, THIAMINE MONONITRATE, RIBOFLAVIN, FOLIC ACID)]]. Onions are cooked.",
           "PA",
           "Food"
          ],
          [
           "Class I",
           "MD S&F: SMOKE-STACKED SANDWICH PLU#29662600000. Expiration date 8/1/2020. Ingredients: SANDWICH [BUN (ROLL [ENRICHED FLOUR (WHEAT, MALTED BARLEY, NIACIN, REDUCED IRON, THIAMINE MONONITRATE, RIBOFLAVIN, FOLIC ACID), WATER, FLOUR (WHEAT, MALTED BARLEY), SUGAR, YEAST, PALM OIL, WHEAT GLUTEN, SALT, <2%: CULTURED WHEAT, VINEGAR, NATURAL FLAVORS, SOYBEAN OIL, GUAR GUM, ENZYMES, ASCORBIC ACID, CORN FLOUR, COLORING (TURMERIC, PAKRIKA), DEXTROSE, CORNSTARCH, TOPPING (WATER, PEA PROTEIN, DEXTROSE, MALTODEXTRIN, MODIFIED FOOD STARCH)], UNSALTED BUTTER [CREAM, NATURAL FLAVORINGS]), BRISKET (BEEF, WATER, SEA SALT, NATURAL FLAVORS), PULLED PORK (COOKED PORK RUBBED WITH: BROWN SUGAR, SALT, CHILI POWDER, PAPRIKA, BLACK PEPPER, GARLIC POWDER), MILD CHEDDAR CHEESE [PASTEURIZED MILK, CHEESE CULTURE, SALT, ENZYMES, ANNATTO (COLOR)], PICKLE [CUCUMBERS, WATER, SALT, VINEGAR, CALCIUM CHLORIDE, SODIUM BENZOATE (PRESERVATIVE), SPICES, NATURAL FLAVORS, POLYSORBATE 80, TURMERIC (COLOR), DEHYDRATED RED PEPPERS], SMOKEY AIOLI [MAYONNAISE (SOYBEAN OIL, DISTILLED VINEGAR, EGG YOLK, HIGH FRUCTOSE CORN SYRUP, CONTAINS LESS THAN 2% OF SALT, WATER, MUSTARD SEED, CALCIUM DISODIUM EDTA [TO PROTECT FLAVOR]), DIJON MUSTARD (DISTILLED WHITE VINEGAR, MUSTARD SEED, WATER, SALT, WHITE WINE, CITRIC ACID, TARTARIC ACID, FRUIT PECTIN, SUGAR, SPICES), SAUCE (MAYONNAISE [SOYBEAN OIL, EGG, VINEGAR, WATER, EGG YOLK, CONTAINS LESS THAN 2% OF SUGAR, SALT, LEMON JUICE CONCENTRATE, CALCIUM DISODIUM EDTA (PRESERVATIVE), NATURAL FLAVOR, OLEORESIN PAPRIKA], DIJON MUSTARD [WATER, VINEGAR, MUSTARD SEED, SALT, WHITE WINE (SULFITES), FRUIT PECTIN, CITRIC ACID, TARTARIC ACID, SUGAR, SPICE], HONEY, SALT), MUSTARD (WATER, MUSTARD SEEDS, VINEGAR, SALT), LIQUID SMOKE (WATER, NATURAL HICKORY SMOKE CONCENTRATE)], RED ONION, BBQ SAUCE (SUGAR, DISTILLED VINEGAR, WATER, TOMATO PASTE, MOLASSES, MODIFIED POTATO STARCH, SALT, CONTAINS LESS THAN 2% OF NATURAL SMOKE FLAVOR, MUSTARD FLOUR, SPICE, PAPRIKA, DRIED ONION, DRIED GARLIC, CARAMEL COLOR, MALTODEXTRIN, CHILI POWDER [CHILI PEPPER, SPICE, SALT, GARLIC], AUTOLYZED YEAST EXTRACT, NATURAL FLAVOR)].    Onions are raw.",
           "PA",
           "Food"
          ],
          [
           "Class I",
           "MD Salad Bar- Cucumber Tomato Salad. Expiration 07/31/2020. Ingredients:SALAD [CUCUMBER, TOMATOES, OIL BLEND (CANOLA OIL, EXTRA VIRGIN OLIVE OIL), ONIONS, VINEGAR (RED WINE VINEGAR (DILUTED WITH WATER TO 5% ACIDITY), POTASSIUM METABISULFITE (PRESERVATIVE)), DILL WEED, SALT, PEPPER].",
           "PA",
           "Food"
          ],
          [
           "(?)",
           "(?)",
           "PA",
           "Food"
          ],
          [
           "(?)",
           "(?)",
           "PA",
           "Food"
          ]
         ],
         "domain": {
          "x": [
           0,
           1
          ],
          "y": [
           0,
           1
          ]
         },
         "hovertemplate": "Firm: Giant Eagle<br>Classification: %{customdata[0]}<br>Product Description: %{customdata[1]}<br>State: %{customdata[2]}",
         "ids": [
          "Giant Eagle/Food/Cajun Style Chicken Meal PLU# 24658700000. Expiration date 8/5/2020.Ingredients: MEAL [CAJUN STYLE BOWTIE PASTA (BOWTIE PASTA (COOKED ENRICHED MACARONI PRODUCT [WATER, SEMOLINA, EGG WHITES, NIACIN, FERROUS SULFATE, THIAMIN MONONITRATE, RIBOFLAVIN, FOLIC ACID], SOYBEAN OIL, CONTAINS LESS THAN 2% OF CULTURED DEXTROSE, SALT), ALFREDO SAUCE [MILK (MILK, VITAMIN D3), HEAVY CREAM (CREAM, MILK), WATER, PARMESAN CHEESE (PASTEURIZED PART-SKIM MILK, CHEESE CULTURE, SALT, ENZYMES, POWDERED CELLULOSE [ANTI-CAKING AGENT]), CORNSTARCH, ROMANO CHEESE (PASTEURIZED SHEEP S MILK, CHEESE CULTURES, SALT, ENZYMES, POWDERED CELLULOSE [ANTI-CAKING AGENT]), CONTAINS 2% OR LESS OF ENRICHED WHEAT FLOUR (WHEAT FLOUR, MALTED BARLEY FLOUR, NIACIN, REDUCED IRON, THIAMINE MONONITRATE, RIBOFLAVIN, FOLIC ACID), SALT, WHITE PEPPER, GARLIC POWDER, LEMON PEEL], PEPPERS & ONIONS [RED BELL PEPPER, GREEN BELL PEPPER, YELLOW BELL PEPPER, YELLOW ONION, OIL BLEND (CANOLA OIL, EXTRA VIRGIN OLIVE OIL), SALT, BLACK PEPPER], CAJUN SEASONING (GARLIC, SPICES [INCLUDING PAPRIKA, OREGANO, RED PEPPER], SALT, ONION)), GRILLED CHICKEN (CHICKEN BREAST [BONELESS SKINLESS CHICKEN BREAST], WATER, ISOLATED SOY PROTEIN, SALT, SODIUM PHOSPHATES, BLACK PEPPER), PEPPERS & ONIONS [RED BELL PEPPER, GREEN BELL PEPPER, YELLOW BELL PEPPER, YELLOW ONION, OIL BLEND (CANOLA OIL, EXTRA VIRGIN OLIVE OIL), SALT, BLACK PEPPER], PARMESAN CHEESE (PASTEURIZED PART SKIM MILK, CHEESE CULTURES AND/OR RENNET, SALT, ENZYMES, STARCH, POWDERED CELLULOSE TO PREVENT CAKING, NATAMYCIN TO PROTECT FLAVOR), PARSLEY, CAJUN SEASONING (GARLIC, SPICES [INCLUDING PAPRIKA, OREGANO, RED PEPPER], SALT, ONION)]. Onions are cooked.",
          "Giant Eagle/Food/GE Egg & Bacon Salad With French Dressing PLU# 23665100000. Expiration date 8/4/2020. Ingredients: SALAD [ROMAINE LETTUCE, FRENCH DRESSING (SOYBEAN OIL, SUGAR, WATER, DISTILLED VINEGAR, APPLE CIDER VINEGAR, TOMATO PASTE, HONEY, CONTAINS LESS THAN 2% OF SALT, PAPRIKA, MUSTARD FLOUR, XANTHAN GUM, DRIED ONION, DRIED GARLIC, BEETROOT JUICE CONCENTRATE, NATURAL FLAVOR), EGG, BACON BITS (BACON CURED WITH: WATER, SALT, SODIUM PHOSPHATES, SODIUM ERYTHORBATE, SODIUM NITRITE, MAY CONTAIN: SUGAR, BROWN SUGAR, AND/OR SMOKE FLAVORING), FETA CHEESE ((PASTEURIZED PART-SKIM MILK, CHEESE CULTURE, SALT, ENZYMES), POWDERED CELLULOSE TO PREVENT CAKING), SPRING MIX (GREEN LEAVES [FRISEE, WILD ARUGULA, MACHE], RED LEAVES [RADICCHIO], MAY CONTAIN THE FOLLOWING: GREEN LEAVES [ROMAINE HEARTS, TANGO, MIZUNA, GREEN OAK, GREEN CHARD], RED LEAVES [LOLLA ROSA, RED CHARD, RED ROMAINE HEARTS, RED LEAF, RED OAK]), RED ONION].",
          "Giant Eagle/Food/MD G&G Greek Salad PLU#23662500000. Expiration date 8/4/2020. Ingredients: SALAD [ROMAINE LETTUCE, PEPPERONCINI (PEPPERS, WATER, SALT, VINEGAR, CITRIC ACID, SODIUM BENZOATE (AS PRESERVATIVE), SODIUM BISULFITE (TO ENHANCE COLOR), FD&C YELLOW #5), BALSAMIC VINAIGRETTE (SEE DRESSING CUP), GRAPE LEAVES (VINE LEAVES, RICE, ONIONS, SALT, SUNFLOWER OIL, CITRIC ACID, SPICES), GRAPE TOMATOES, FETA CHEESE ((PASTEURIZED PART-SKIM MILK, CHEESE CULTURE, SALT, ENZYMES), POWDERED CELLULOSE TO PREVENT CAKING), CUCUMBER, PITTED KALAMATA OLIVES ((OLIVES, WATER, SALT, OLIVE OIL, ACETIC ACID), CANOLA OIL, SPICES), RED ONION].",
          "Giant Eagle/Food/MD Philly Style Steak Stromboli Cold PLU#23676600000. Expiration date: 8/3/2020 Ingredients: STROMBOLI [DOUGH (ENRICHED WHEAT FLOUR [WHEAT FLOUR, MALTED BARLEY FLOUR, NIACIN, REDUCED IRON, THIAMINE MONONITRATE, RIBOFLAVIN, FOLIC ACID], WATER, ENRICHED SEMOLINA FLOUR [SEMOLINA, NIACIN, FERROUS SULFATE, THIAMINE MONONITRATE, RIBOFLAVIN, FOLIC ACID], OLIVE OIL, SALT [SALT, SODIUM SILICOALUMINATE], YEAST [YEAST, SORBITAN MONOSTEARATE, ASCORBIC ACID], SUGAR), BEEF (BEEF, WATER, DEXTROSE, SODIUM PHOSPHATE, MODIFIED CORNSTARCH, SALT, AUTOLYZED YEAST, HYDROLYZED CORN PROTEIN, COATING [DEXTROSE, SODIUM CITRATE, SALT, CARAMEL COLOR, SODIUM DIACETATE, SPICES, GARLIC & ONION, PAPRIKA, HYDROLYZED CORN PROTEIN, MALTODEXTRIN, GRILL FLVR (FROM SUNFLOWER OIL), MODIFIED CORNSTARCH, CORN SYRUP SOLIDS, NTRL SMOKE FLVR, GUAR GUM]), PIZZA SAUCE [GRND TOMATO (TOMATO, SALT, CITRIC ACID), SAUCE (TOMATO, EXTRA VIRGIN OLIVE OIL & SUNFLOWER OIL BLND, SALT, OREGANO, BLACK PEPPER, GRANULATED GARLIC, CITRIC ACID)], ROASTED PEPPER & ONION [YELLOW BELL PEPPER, GREEN BELL PEPPER, RED BELL PEPPER, YELLOW ONION, OIL BLND (CANOLA & EXTRA VIRGIN OLIVE OIL), SALT, BLACK PEPPER], CHEESE BLND (PART SKIM MOZZARELLA [MILK, CHEESE CULTURE, SALT, ENZYMES], PROVOLONE [MILK, CHEESE CULTURE, SALT, ENZYMES]), ROMANO HERB SEASONING [CHEESE (PECORINO ROMANO [SHEEP S MILK, CHEESE CULTURES, SALT, ENZYMES], ROMANO STYLE CHEESE [CORNSTARCH, WATER, PALM OIL, CELLULOSE, SALT, NATRL FLVR, CASEINATE, SORBIC ACID (PRSRVTVE)], PWDRD CELLULOSE [ANTICAKING], NATAMYCIN [NTRL MOLD INHIBITOR]), DHYDRTD GARLIC, GRND OREGANO, PARSLEY], EGGS (EGG, CITRIC ACID [TO PRSRVE COLOR], WATER), OIL BLND (CANOLA & EXTRA VIRGIN OLIVE OIL), FLOUR BLND [FLOUR (BLEACHED WHEAT FLOUR, MALTED BARLEY FLOUR, NIACIN, REDUCED IRON, THIAMINE MONONITRATE, RIBOFLAVIN, FOLIC ACID), ENRICHED SEMOLINA FLOUR (SEMOLINA, NIACIN, FERROUS SULFATE, THIAMINE MONONITRATE, RIBOFLAVIN, FOLIC ACID)]]. Onions are cooked.",
          "Giant Eagle/Food/MD S&F: SMOKE-STACKED SANDWICH PLU#29662600000. Expiration date 8/1/2020. Ingredients: SANDWICH [BUN (ROLL [ENRICHED FLOUR (WHEAT, MALTED BARLEY, NIACIN, REDUCED IRON, THIAMINE MONONITRATE, RIBOFLAVIN, FOLIC ACID), WATER, FLOUR (WHEAT, MALTED BARLEY), SUGAR, YEAST, PALM OIL, WHEAT GLUTEN, SALT, <2%: CULTURED WHEAT, VINEGAR, NATURAL FLAVORS, SOYBEAN OIL, GUAR GUM, ENZYMES, ASCORBIC ACID, CORN FLOUR, COLORING (TURMERIC, PAKRIKA), DEXTROSE, CORNSTARCH, TOPPING (WATER, PEA PROTEIN, DEXTROSE, MALTODEXTRIN, MODIFIED FOOD STARCH)], UNSALTED BUTTER [CREAM, NATURAL FLAVORINGS]), BRISKET (BEEF, WATER, SEA SALT, NATURAL FLAVORS), PULLED PORK (COOKED PORK RUBBED WITH: BROWN SUGAR, SALT, CHILI POWDER, PAPRIKA, BLACK PEPPER, GARLIC POWDER), MILD CHEDDAR CHEESE [PASTEURIZED MILK, CHEESE CULTURE, SALT, ENZYMES, ANNATTO (COLOR)], PICKLE [CUCUMBERS, WATER, SALT, VINEGAR, CALCIUM CHLORIDE, SODIUM BENZOATE (PRESERVATIVE), SPICES, NATURAL FLAVORS, POLYSORBATE 80, TURMERIC (COLOR), DEHYDRATED RED PEPPERS], SMOKEY AIOLI [MAYONNAISE (SOYBEAN OIL, DISTILLED VINEGAR, EGG YOLK, HIGH FRUCTOSE CORN SYRUP, CONTAINS LESS THAN 2% OF SALT, WATER, MUSTARD SEED, CALCIUM DISODIUM EDTA [TO PROTECT FLAVOR]), DIJON MUSTARD (DISTILLED WHITE VINEGAR, MUSTARD SEED, WATER, SALT, WHITE WINE, CITRIC ACID, TARTARIC ACID, FRUIT PECTIN, SUGAR, SPICES), SAUCE (MAYONNAISE [SOYBEAN OIL, EGG, VINEGAR, WATER, EGG YOLK, CONTAINS LESS THAN 2% OF SUGAR, SALT, LEMON JUICE CONCENTRATE, CALCIUM DISODIUM EDTA (PRESERVATIVE), NATURAL FLAVOR, OLEORESIN PAPRIKA], DIJON MUSTARD [WATER, VINEGAR, MUSTARD SEED, SALT, WHITE WINE (SULFITES), FRUIT PECTIN, CITRIC ACID, TARTARIC ACID, SUGAR, SPICE], HONEY, SALT), MUSTARD (WATER, MUSTARD SEEDS, VINEGAR, SALT), LIQUID SMOKE (WATER, NATURAL HICKORY SMOKE CONCENTRATE)], RED ONION, BBQ SAUCE (SUGAR, DISTILLED VINEGAR, WATER, TOMATO PASTE, MOLASSES, MODIFIED POTATO STARCH, SALT, CONTAINS LESS THAN 2% OF NATURAL SMOKE FLAVOR, MUSTARD FLOUR, SPICE, PAPRIKA, DRIED ONION, DRIED GARLIC, CARAMEL COLOR, MALTODEXTRIN, CHILI POWDER [CHILI PEPPER, SPICE, SALT, GARLIC], AUTOLYZED YEAST EXTRACT, NATURAL FLAVOR)].    Onions are raw.",
          "Giant Eagle/Food/MD Salad Bar- Cucumber Tomato Salad. Expiration 07/31/2020. Ingredients:SALAD [CUCUMBER, TOMATOES, OIL BLEND (CANOLA OIL, EXTRA VIRGIN OLIVE OIL), ONIONS, VINEGAR (RED WINE VINEGAR (DILUTED WITH WATER TO 5% ACIDITY), POTASSIUM METABISULFITE (PRESERVATIVE)), DILL WEED, SALT, PEPPER].",
          "Giant Eagle/Food",
          "Giant Eagle"
         ],
         "labels": [
          "Cajun Style Chicken Meal PLU# 24658700000. Expiration date 8/5/2020.Ingredients: MEAL [CAJUN STYLE BOWTIE PASTA (BOWTIE PASTA (COOKED ENRICHED MACARONI PRODUCT [WATER, SEMOLINA, EGG WHITES, NIACIN, FERROUS SULFATE, THIAMIN MONONITRATE, RIBOFLAVIN, FOLIC ACID], SOYBEAN OIL, CONTAINS LESS THAN 2% OF CULTURED DEXTROSE, SALT), ALFREDO SAUCE [MILK (MILK, VITAMIN D3), HEAVY CREAM (CREAM, MILK), WATER, PARMESAN CHEESE (PASTEURIZED PART-SKIM MILK, CHEESE CULTURE, SALT, ENZYMES, POWDERED CELLULOSE [ANTI-CAKING AGENT]), CORNSTARCH, ROMANO CHEESE (PASTEURIZED SHEEP S MILK, CHEESE CULTURES, SALT, ENZYMES, POWDERED CELLULOSE [ANTI-CAKING AGENT]), CONTAINS 2% OR LESS OF ENRICHED WHEAT FLOUR (WHEAT FLOUR, MALTED BARLEY FLOUR, NIACIN, REDUCED IRON, THIAMINE MONONITRATE, RIBOFLAVIN, FOLIC ACID), SALT, WHITE PEPPER, GARLIC POWDER, LEMON PEEL], PEPPERS & ONIONS [RED BELL PEPPER, GREEN BELL PEPPER, YELLOW BELL PEPPER, YELLOW ONION, OIL BLEND (CANOLA OIL, EXTRA VIRGIN OLIVE OIL), SALT, BLACK PEPPER], CAJUN SEASONING (GARLIC, SPICES [INCLUDING PAPRIKA, OREGANO, RED PEPPER], SALT, ONION)), GRILLED CHICKEN (CHICKEN BREAST [BONELESS SKINLESS CHICKEN BREAST], WATER, ISOLATED SOY PROTEIN, SALT, SODIUM PHOSPHATES, BLACK PEPPER), PEPPERS & ONIONS [RED BELL PEPPER, GREEN BELL PEPPER, YELLOW BELL PEPPER, YELLOW ONION, OIL BLEND (CANOLA OIL, EXTRA VIRGIN OLIVE OIL), SALT, BLACK PEPPER], PARMESAN CHEESE (PASTEURIZED PART SKIM MILK, CHEESE CULTURES AND/OR RENNET, SALT, ENZYMES, STARCH, POWDERED CELLULOSE TO PREVENT CAKING, NATAMYCIN TO PROTECT FLAVOR), PARSLEY, CAJUN SEASONING (GARLIC, SPICES [INCLUDING PAPRIKA, OREGANO, RED PEPPER], SALT, ONION)]. Onions are cooked.",
          "GE Egg & Bacon Salad With French Dressing PLU# 23665100000. Expiration date 8/4/2020. Ingredients: SALAD [ROMAINE LETTUCE, FRENCH DRESSING (SOYBEAN OIL, SUGAR, WATER, DISTILLED VINEGAR, APPLE CIDER VINEGAR, TOMATO PASTE, HONEY, CONTAINS LESS THAN 2% OF SALT, PAPRIKA, MUSTARD FLOUR, XANTHAN GUM, DRIED ONION, DRIED GARLIC, BEETROOT JUICE CONCENTRATE, NATURAL FLAVOR), EGG, BACON BITS (BACON CURED WITH: WATER, SALT, SODIUM PHOSPHATES, SODIUM ERYTHORBATE, SODIUM NITRITE, MAY CONTAIN: SUGAR, BROWN SUGAR, AND/OR SMOKE FLAVORING), FETA CHEESE ((PASTEURIZED PART-SKIM MILK, CHEESE CULTURE, SALT, ENZYMES), POWDERED CELLULOSE TO PREVENT CAKING), SPRING MIX (GREEN LEAVES [FRISEE, WILD ARUGULA, MACHE], RED LEAVES [RADICCHIO], MAY CONTAIN THE FOLLOWING: GREEN LEAVES [ROMAINE HEARTS, TANGO, MIZUNA, GREEN OAK, GREEN CHARD], RED LEAVES [LOLLA ROSA, RED CHARD, RED ROMAINE HEARTS, RED LEAF, RED OAK]), RED ONION].",
          "MD G&G Greek Salad PLU#23662500000. Expiration date 8/4/2020. Ingredients: SALAD [ROMAINE LETTUCE, PEPPERONCINI (PEPPERS, WATER, SALT, VINEGAR, CITRIC ACID, SODIUM BENZOATE (AS PRESERVATIVE), SODIUM BISULFITE (TO ENHANCE COLOR), FD&C YELLOW #5), BALSAMIC VINAIGRETTE (SEE DRESSING CUP), GRAPE LEAVES (VINE LEAVES, RICE, ONIONS, SALT, SUNFLOWER OIL, CITRIC ACID, SPICES), GRAPE TOMATOES, FETA CHEESE ((PASTEURIZED PART-SKIM MILK, CHEESE CULTURE, SALT, ENZYMES), POWDERED CELLULOSE TO PREVENT CAKING), CUCUMBER, PITTED KALAMATA OLIVES ((OLIVES, WATER, SALT, OLIVE OIL, ACETIC ACID), CANOLA OIL, SPICES), RED ONION].",
          "MD Philly Style Steak Stromboli Cold PLU#23676600000. Expiration date: 8/3/2020 Ingredients: STROMBOLI [DOUGH (ENRICHED WHEAT FLOUR [WHEAT FLOUR, MALTED BARLEY FLOUR, NIACIN, REDUCED IRON, THIAMINE MONONITRATE, RIBOFLAVIN, FOLIC ACID], WATER, ENRICHED SEMOLINA FLOUR [SEMOLINA, NIACIN, FERROUS SULFATE, THIAMINE MONONITRATE, RIBOFLAVIN, FOLIC ACID], OLIVE OIL, SALT [SALT, SODIUM SILICOALUMINATE], YEAST [YEAST, SORBITAN MONOSTEARATE, ASCORBIC ACID], SUGAR), BEEF (BEEF, WATER, DEXTROSE, SODIUM PHOSPHATE, MODIFIED CORNSTARCH, SALT, AUTOLYZED YEAST, HYDROLYZED CORN PROTEIN, COATING [DEXTROSE, SODIUM CITRATE, SALT, CARAMEL COLOR, SODIUM DIACETATE, SPICES, GARLIC & ONION, PAPRIKA, HYDROLYZED CORN PROTEIN, MALTODEXTRIN, GRILL FLVR (FROM SUNFLOWER OIL), MODIFIED CORNSTARCH, CORN SYRUP SOLIDS, NTRL SMOKE FLVR, GUAR GUM]), PIZZA SAUCE [GRND TOMATO (TOMATO, SALT, CITRIC ACID), SAUCE (TOMATO, EXTRA VIRGIN OLIVE OIL & SUNFLOWER OIL BLND, SALT, OREGANO, BLACK PEPPER, GRANULATED GARLIC, CITRIC ACID)], ROASTED PEPPER & ONION [YELLOW BELL PEPPER, GREEN BELL PEPPER, RED BELL PEPPER, YELLOW ONION, OIL BLND (CANOLA & EXTRA VIRGIN OLIVE OIL), SALT, BLACK PEPPER], CHEESE BLND (PART SKIM MOZZARELLA [MILK, CHEESE CULTURE, SALT, ENZYMES], PROVOLONE [MILK, CHEESE CULTURE, SALT, ENZYMES]), ROMANO HERB SEASONING [CHEESE (PECORINO ROMANO [SHEEP S MILK, CHEESE CULTURES, SALT, ENZYMES], ROMANO STYLE CHEESE [CORNSTARCH, WATER, PALM OIL, CELLULOSE, SALT, NATRL FLVR, CASEINATE, SORBIC ACID (PRSRVTVE)], PWDRD CELLULOSE [ANTICAKING], NATAMYCIN [NTRL MOLD INHIBITOR]), DHYDRTD GARLIC, GRND OREGANO, PARSLEY], EGGS (EGG, CITRIC ACID [TO PRSRVE COLOR], WATER), OIL BLND (CANOLA & EXTRA VIRGIN OLIVE OIL), FLOUR BLND [FLOUR (BLEACHED WHEAT FLOUR, MALTED BARLEY FLOUR, NIACIN, REDUCED IRON, THIAMINE MONONITRATE, RIBOFLAVIN, FOLIC ACID), ENRICHED SEMOLINA FLOUR (SEMOLINA, NIACIN, FERROUS SULFATE, THIAMINE MONONITRATE, RIBOFLAVIN, FOLIC ACID)]]. Onions are cooked.",
          "MD S&F: SMOKE-STACKED SANDWICH PLU#29662600000. Expiration date 8/1/2020. Ingredients: SANDWICH [BUN (ROLL [ENRICHED FLOUR (WHEAT, MALTED BARLEY, NIACIN, REDUCED IRON, THIAMINE MONONITRATE, RIBOFLAVIN, FOLIC ACID), WATER, FLOUR (WHEAT, MALTED BARLEY), SUGAR, YEAST, PALM OIL, WHEAT GLUTEN, SALT, <2%: CULTURED WHEAT, VINEGAR, NATURAL FLAVORS, SOYBEAN OIL, GUAR GUM, ENZYMES, ASCORBIC ACID, CORN FLOUR, COLORING (TURMERIC, PAKRIKA), DEXTROSE, CORNSTARCH, TOPPING (WATER, PEA PROTEIN, DEXTROSE, MALTODEXTRIN, MODIFIED FOOD STARCH)], UNSALTED BUTTER [CREAM, NATURAL FLAVORINGS]), BRISKET (BEEF, WATER, SEA SALT, NATURAL FLAVORS), PULLED PORK (COOKED PORK RUBBED WITH: BROWN SUGAR, SALT, CHILI POWDER, PAPRIKA, BLACK PEPPER, GARLIC POWDER), MILD CHEDDAR CHEESE [PASTEURIZED MILK, CHEESE CULTURE, SALT, ENZYMES, ANNATTO (COLOR)], PICKLE [CUCUMBERS, WATER, SALT, VINEGAR, CALCIUM CHLORIDE, SODIUM BENZOATE (PRESERVATIVE), SPICES, NATURAL FLAVORS, POLYSORBATE 80, TURMERIC (COLOR), DEHYDRATED RED PEPPERS], SMOKEY AIOLI [MAYONNAISE (SOYBEAN OIL, DISTILLED VINEGAR, EGG YOLK, HIGH FRUCTOSE CORN SYRUP, CONTAINS LESS THAN 2% OF SALT, WATER, MUSTARD SEED, CALCIUM DISODIUM EDTA [TO PROTECT FLAVOR]), DIJON MUSTARD (DISTILLED WHITE VINEGAR, MUSTARD SEED, WATER, SALT, WHITE WINE, CITRIC ACID, TARTARIC ACID, FRUIT PECTIN, SUGAR, SPICES), SAUCE (MAYONNAISE [SOYBEAN OIL, EGG, VINEGAR, WATER, EGG YOLK, CONTAINS LESS THAN 2% OF SUGAR, SALT, LEMON JUICE CONCENTRATE, CALCIUM DISODIUM EDTA (PRESERVATIVE), NATURAL FLAVOR, OLEORESIN PAPRIKA], DIJON MUSTARD [WATER, VINEGAR, MUSTARD SEED, SALT, WHITE WINE (SULFITES), FRUIT PECTIN, CITRIC ACID, TARTARIC ACID, SUGAR, SPICE], HONEY, SALT), MUSTARD (WATER, MUSTARD SEEDS, VINEGAR, SALT), LIQUID SMOKE (WATER, NATURAL HICKORY SMOKE CONCENTRATE)], RED ONION, BBQ SAUCE (SUGAR, DISTILLED VINEGAR, WATER, TOMATO PASTE, MOLASSES, MODIFIED POTATO STARCH, SALT, CONTAINS LESS THAN 2% OF NATURAL SMOKE FLAVOR, MUSTARD FLOUR, SPICE, PAPRIKA, DRIED ONION, DRIED GARLIC, CARAMEL COLOR, MALTODEXTRIN, CHILI POWDER [CHILI PEPPER, SPICE, SALT, GARLIC], AUTOLYZED YEAST EXTRACT, NATURAL FLAVOR)].    Onions are raw.",
          "MD Salad Bar- Cucumber Tomato Salad. Expiration 07/31/2020. Ingredients:SALAD [CUCUMBER, TOMATOES, OIL BLEND (CANOLA OIL, EXTRA VIRGIN OLIVE OIL), ONIONS, VINEGAR (RED WINE VINEGAR (DILUTED WITH WATER TO 5% ACIDITY), POTASSIUM METABISULFITE (PRESERVATIVE)), DILL WEED, SALT, PEPPER].",
          "Food",
          "Giant Eagle"
         ],
         "marker": {
          "colors": [
           "#636efa",
           "#636efa",
           "#636efa",
           "#636efa",
           "#636efa",
           "#636efa",
           "#636efa",
           "#636efa"
          ]
         },
         "name": "",
         "parents": [
          "Giant Eagle/Food",
          "Giant Eagle/Food",
          "Giant Eagle/Food",
          "Giant Eagle/Food",
          "Giant Eagle/Food",
          "Giant Eagle/Food",
          "Giant Eagle",
          ""
         ],
         "type": "sunburst",
         "values": [
          1,
          1,
          1,
          1,
          1,
          1,
          6,
          6
         ]
        }
       ],
       "layout": {
        "legend": {
         "tracegroupgap": 0
        },
        "template": {
         "data": {
          "bar": [
           {
            "error_x": {
             "color": "#2a3f5f"
            },
            "error_y": {
             "color": "#2a3f5f"
            },
            "marker": {
             "line": {
              "color": "#E5ECF6",
              "width": 0.5
             },
             "pattern": {
              "fillmode": "overlay",
              "size": 10,
              "solidity": 0.2
             }
            },
            "type": "bar"
           }
          ],
          "barpolar": [
           {
            "marker": {
             "line": {
              "color": "#E5ECF6",
              "width": 0.5
             },
             "pattern": {
              "fillmode": "overlay",
              "size": 10,
              "solidity": 0.2
             }
            },
            "type": "barpolar"
           }
          ],
          "carpet": [
           {
            "aaxis": {
             "endlinecolor": "#2a3f5f",
             "gridcolor": "white",
             "linecolor": "white",
             "minorgridcolor": "white",
             "startlinecolor": "#2a3f5f"
            },
            "baxis": {
             "endlinecolor": "#2a3f5f",
             "gridcolor": "white",
             "linecolor": "white",
             "minorgridcolor": "white",
             "startlinecolor": "#2a3f5f"
            },
            "type": "carpet"
           }
          ],
          "choropleth": [
           {
            "colorbar": {
             "outlinewidth": 0,
             "ticks": ""
            },
            "type": "choropleth"
           }
          ],
          "contour": [
           {
            "colorbar": {
             "outlinewidth": 0,
             "ticks": ""
            },
            "colorscale": [
             [
              0,
              "#0d0887"
             ],
             [
              0.1111111111111111,
              "#46039f"
             ],
             [
              0.2222222222222222,
              "#7201a8"
             ],
             [
              0.3333333333333333,
              "#9c179e"
             ],
             [
              0.4444444444444444,
              "#bd3786"
             ],
             [
              0.5555555555555556,
              "#d8576b"
             ],
             [
              0.6666666666666666,
              "#ed7953"
             ],
             [
              0.7777777777777778,
              "#fb9f3a"
             ],
             [
              0.8888888888888888,
              "#fdca26"
             ],
             [
              1,
              "#f0f921"
             ]
            ],
            "type": "contour"
           }
          ],
          "contourcarpet": [
           {
            "colorbar": {
             "outlinewidth": 0,
             "ticks": ""
            },
            "type": "contourcarpet"
           }
          ],
          "heatmap": [
           {
            "colorbar": {
             "outlinewidth": 0,
             "ticks": ""
            },
            "colorscale": [
             [
              0,
              "#0d0887"
             ],
             [
              0.1111111111111111,
              "#46039f"
             ],
             [
              0.2222222222222222,
              "#7201a8"
             ],
             [
              0.3333333333333333,
              "#9c179e"
             ],
             [
              0.4444444444444444,
              "#bd3786"
             ],
             [
              0.5555555555555556,
              "#d8576b"
             ],
             [
              0.6666666666666666,
              "#ed7953"
             ],
             [
              0.7777777777777778,
              "#fb9f3a"
             ],
             [
              0.8888888888888888,
              "#fdca26"
             ],
             [
              1,
              "#f0f921"
             ]
            ],
            "type": "heatmap"
           }
          ],
          "heatmapgl": [
           {
            "colorbar": {
             "outlinewidth": 0,
             "ticks": ""
            },
            "colorscale": [
             [
              0,
              "#0d0887"
             ],
             [
              0.1111111111111111,
              "#46039f"
             ],
             [
              0.2222222222222222,
              "#7201a8"
             ],
             [
              0.3333333333333333,
              "#9c179e"
             ],
             [
              0.4444444444444444,
              "#bd3786"
             ],
             [
              0.5555555555555556,
              "#d8576b"
             ],
             [
              0.6666666666666666,
              "#ed7953"
             ],
             [
              0.7777777777777778,
              "#fb9f3a"
             ],
             [
              0.8888888888888888,
              "#fdca26"
             ],
             [
              1,
              "#f0f921"
             ]
            ],
            "type": "heatmapgl"
           }
          ],
          "histogram": [
           {
            "marker": {
             "pattern": {
              "fillmode": "overlay",
              "size": 10,
              "solidity": 0.2
             }
            },
            "type": "histogram"
           }
          ],
          "histogram2d": [
           {
            "colorbar": {
             "outlinewidth": 0,
             "ticks": ""
            },
            "colorscale": [
             [
              0,
              "#0d0887"
             ],
             [
              0.1111111111111111,
              "#46039f"
             ],
             [
              0.2222222222222222,
              "#7201a8"
             ],
             [
              0.3333333333333333,
              "#9c179e"
             ],
             [
              0.4444444444444444,
              "#bd3786"
             ],
             [
              0.5555555555555556,
              "#d8576b"
             ],
             [
              0.6666666666666666,
              "#ed7953"
             ],
             [
              0.7777777777777778,
              "#fb9f3a"
             ],
             [
              0.8888888888888888,
              "#fdca26"
             ],
             [
              1,
              "#f0f921"
             ]
            ],
            "type": "histogram2d"
           }
          ],
          "histogram2dcontour": [
           {
            "colorbar": {
             "outlinewidth": 0,
             "ticks": ""
            },
            "colorscale": [
             [
              0,
              "#0d0887"
             ],
             [
              0.1111111111111111,
              "#46039f"
             ],
             [
              0.2222222222222222,
              "#7201a8"
             ],
             [
              0.3333333333333333,
              "#9c179e"
             ],
             [
              0.4444444444444444,
              "#bd3786"
             ],
             [
              0.5555555555555556,
              "#d8576b"
             ],
             [
              0.6666666666666666,
              "#ed7953"
             ],
             [
              0.7777777777777778,
              "#fb9f3a"
             ],
             [
              0.8888888888888888,
              "#fdca26"
             ],
             [
              1,
              "#f0f921"
             ]
            ],
            "type": "histogram2dcontour"
           }
          ],
          "mesh3d": [
           {
            "colorbar": {
             "outlinewidth": 0,
             "ticks": ""
            },
            "type": "mesh3d"
           }
          ],
          "parcoords": [
           {
            "line": {
             "colorbar": {
              "outlinewidth": 0,
              "ticks": ""
             }
            },
            "type": "parcoords"
           }
          ],
          "pie": [
           {
            "automargin": true,
            "type": "pie"
           }
          ],
          "scatter": [
           {
            "fillpattern": {
             "fillmode": "overlay",
             "size": 10,
             "solidity": 0.2
            },
            "type": "scatter"
           }
          ],
          "scatter3d": [
           {
            "line": {
             "colorbar": {
              "outlinewidth": 0,
              "ticks": ""
             }
            },
            "marker": {
             "colorbar": {
              "outlinewidth": 0,
              "ticks": ""
             }
            },
            "type": "scatter3d"
           }
          ],
          "scattercarpet": [
           {
            "marker": {
             "colorbar": {
              "outlinewidth": 0,
              "ticks": ""
             }
            },
            "type": "scattercarpet"
           }
          ],
          "scattergeo": [
           {
            "marker": {
             "colorbar": {
              "outlinewidth": 0,
              "ticks": ""
             }
            },
            "type": "scattergeo"
           }
          ],
          "scattergl": [
           {
            "marker": {
             "colorbar": {
              "outlinewidth": 0,
              "ticks": ""
             }
            },
            "type": "scattergl"
           }
          ],
          "scattermapbox": [
           {
            "marker": {
             "colorbar": {
              "outlinewidth": 0,
              "ticks": ""
             }
            },
            "type": "scattermapbox"
           }
          ],
          "scatterpolar": [
           {
            "marker": {
             "colorbar": {
              "outlinewidth": 0,
              "ticks": ""
             }
            },
            "type": "scatterpolar"
           }
          ],
          "scatterpolargl": [
           {
            "marker": {
             "colorbar": {
              "outlinewidth": 0,
              "ticks": ""
             }
            },
            "type": "scatterpolargl"
           }
          ],
          "scatterternary": [
           {
            "marker": {
             "colorbar": {
              "outlinewidth": 0,
              "ticks": ""
             }
            },
            "type": "scatterternary"
           }
          ],
          "surface": [
           {
            "colorbar": {
             "outlinewidth": 0,
             "ticks": ""
            },
            "colorscale": [
             [
              0,
              "#0d0887"
             ],
             [
              0.1111111111111111,
              "#46039f"
             ],
             [
              0.2222222222222222,
              "#7201a8"
             ],
             [
              0.3333333333333333,
              "#9c179e"
             ],
             [
              0.4444444444444444,
              "#bd3786"
             ],
             [
              0.5555555555555556,
              "#d8576b"
             ],
             [
              0.6666666666666666,
              "#ed7953"
             ],
             [
              0.7777777777777778,
              "#fb9f3a"
             ],
             [
              0.8888888888888888,
              "#fdca26"
             ],
             [
              1,
              "#f0f921"
             ]
            ],
            "type": "surface"
           }
          ],
          "table": [
           {
            "cells": {
             "fill": {
              "color": "#EBF0F8"
             },
             "line": {
              "color": "white"
             }
            },
            "header": {
             "fill": {
              "color": "#C8D4E3"
             },
             "line": {
              "color": "white"
             }
            },
            "type": "table"
           }
          ]
         },
         "layout": {
          "annotationdefaults": {
           "arrowcolor": "#2a3f5f",
           "arrowhead": 0,
           "arrowwidth": 1
          },
          "autotypenumbers": "strict",
          "coloraxis": {
           "colorbar": {
            "outlinewidth": 0,
            "ticks": ""
           }
          },
          "colorscale": {
           "diverging": [
            [
             0,
             "#8e0152"
            ],
            [
             0.1,
             "#c51b7d"
            ],
            [
             0.2,
             "#de77ae"
            ],
            [
             0.3,
             "#f1b6da"
            ],
            [
             0.4,
             "#fde0ef"
            ],
            [
             0.5,
             "#f7f7f7"
            ],
            [
             0.6,
             "#e6f5d0"
            ],
            [
             0.7,
             "#b8e186"
            ],
            [
             0.8,
             "#7fbc41"
            ],
            [
             0.9,
             "#4d9221"
            ],
            [
             1,
             "#276419"
            ]
           ],
           "sequential": [
            [
             0,
             "#0d0887"
            ],
            [
             0.1111111111111111,
             "#46039f"
            ],
            [
             0.2222222222222222,
             "#7201a8"
            ],
            [
             0.3333333333333333,
             "#9c179e"
            ],
            [
             0.4444444444444444,
             "#bd3786"
            ],
            [
             0.5555555555555556,
             "#d8576b"
            ],
            [
             0.6666666666666666,
             "#ed7953"
            ],
            [
             0.7777777777777778,
             "#fb9f3a"
            ],
            [
             0.8888888888888888,
             "#fdca26"
            ],
            [
             1,
             "#f0f921"
            ]
           ],
           "sequentialminus": [
            [
             0,
             "#0d0887"
            ],
            [
             0.1111111111111111,
             "#46039f"
            ],
            [
             0.2222222222222222,
             "#7201a8"
            ],
            [
             0.3333333333333333,
             "#9c179e"
            ],
            [
             0.4444444444444444,
             "#bd3786"
            ],
            [
             0.5555555555555556,
             "#d8576b"
            ],
            [
             0.6666666666666666,
             "#ed7953"
            ],
            [
             0.7777777777777778,
             "#fb9f3a"
            ],
            [
             0.8888888888888888,
             "#fdca26"
            ],
            [
             1,
             "#f0f921"
            ]
           ]
          },
          "colorway": [
           "#636efa",
           "#EF553B",
           "#00cc96",
           "#ab63fa",
           "#FFA15A",
           "#19d3f3",
           "#FF6692",
           "#B6E880",
           "#FF97FF",
           "#FECB52"
          ],
          "font": {
           "color": "#2a3f5f"
          },
          "geo": {
           "bgcolor": "white",
           "lakecolor": "white",
           "landcolor": "#E5ECF6",
           "showlakes": true,
           "showland": true,
           "subunitcolor": "white"
          },
          "hoverlabel": {
           "align": "left"
          },
          "hovermode": "closest",
          "mapbox": {
           "style": "light"
          },
          "paper_bgcolor": "white",
          "plot_bgcolor": "#E5ECF6",
          "polar": {
           "angularaxis": {
            "gridcolor": "white",
            "linecolor": "white",
            "ticks": ""
           },
           "bgcolor": "#E5ECF6",
           "radialaxis": {
            "gridcolor": "white",
            "linecolor": "white",
            "ticks": ""
           }
          },
          "scene": {
           "xaxis": {
            "backgroundcolor": "#E5ECF6",
            "gridcolor": "white",
            "gridwidth": 2,
            "linecolor": "white",
            "showbackground": true,
            "ticks": "",
            "zerolinecolor": "white"
           },
           "yaxis": {
            "backgroundcolor": "#E5ECF6",
            "gridcolor": "white",
            "gridwidth": 2,
            "linecolor": "white",
            "showbackground": true,
            "ticks": "",
            "zerolinecolor": "white"
           },
           "zaxis": {
            "backgroundcolor": "#E5ECF6",
            "gridcolor": "white",
            "gridwidth": 2,
            "linecolor": "white",
            "showbackground": true,
            "ticks": "",
            "zerolinecolor": "white"
           }
          },
          "shapedefaults": {
           "line": {
            "color": "#2a3f5f"
           }
          },
          "ternary": {
           "aaxis": {
            "gridcolor": "white",
            "linecolor": "white",
            "ticks": ""
           },
           "baxis": {
            "gridcolor": "white",
            "linecolor": "white",
            "ticks": ""
           },
           "bgcolor": "#E5ECF6",
           "caxis": {
            "gridcolor": "white",
            "linecolor": "white",
            "ticks": ""
           }
          },
          "title": {
           "x": 0.05
          },
          "xaxis": {
           "automargin": true,
           "gridcolor": "white",
           "linecolor": "white",
           "ticks": "",
           "title": {
            "standoff": 15
           },
           "zerolinecolor": "white",
           "zerolinewidth": 2
          },
          "yaxis": {
           "automargin": true,
           "gridcolor": "white",
           "linecolor": "white",
           "ticks": "",
           "title": {
            "standoff": 15
           },
           "zerolinecolor": "white",
           "zerolinewidth": 2
          }
         }
        },
        "title": {
         "text": "Top Products Recalled by Giant Eagle"
        }
       }
      }
     },
     "metadata": {},
     "output_type": "display_data"
    },
    {
     "data": {
      "text/plain": [
       "<function __main__.create_sunburst_chart(firm_with_count)>"
      ]
     },
     "execution_count": 29,
     "metadata": {},
     "output_type": "execute_result"
    }
   ],
   "source": [
    "\n",
    "# Filter the DataFrame to include only recalls in the US (made a copy to avoid SettingWithCopyWarning)\n",
    "us_recall_df = clean_df[clean_df['Country'] == \"United States\"].copy()\n",
    "\n",
    "# Add a count column for each recall for visualization purposes\n",
    "us_recall_df['Recall Count'] = 1\n",
    "\n",
    "# Sort the top 15 recalling firms based on the number of recalls in the US\n",
    "top_15_firms = (\n",
    "    us_recall_df['Recalling Firm']\n",
    "    .value_counts()\n",
    "    .nlargest(15)\n",
    "    .reset_index()\n",
    ")\n",
    "\n",
    "# Remame the columns in the identify the recall count for each\n",
    "top_15_firms.columns = ['Firm Name', 'Recall Count']\n",
    "\n",
    "# Create a list for dropdown options with the name of each firm and their recall counts\n",
    "firm_options = [\n",
    "    f\"({row['Recall Count']}) {row['Firm Name']}\"\n",
    "    for _, row in top_15_firms.iterrows()\n",
    "]\n",
    "\n",
    "# Create dropdown widget for selecting a firm, including \"None\" as an option\n",
    "firm_widget = widgets.Dropdown(\n",
    "    options=[None] + firm_options,\n",
    "    description='Select Firm:',\n",
    "    value=None\n",
    ")\n",
    "\n",
    "# Function to create a Sunburst chart\n",
    "def create_sunburst_chart(firm_with_count):\n",
    "    # Extract firm name from dropdown selection\n",
    "    if firm_with_count is None:\n",
    "        print(\"Select a firm from the dropdown menu.\")\n",
    "        return\n",
    "\n",
    "    try:\n",
    "        # Extract the actual firm name by splitting the string\n",
    "        firm = firm_with_count.split(\") \")[1]\n",
    "    except IndexError:\n",
    "        print(\"Error extracting firm name from the dropdown selection.\")\n",
    "        return\n",
    "\n",
    "    # Filter the data based on the selected firm\n",
    "    filtered_df = us_recall_df[us_recall_df['Recalling Firm'] == firm]\n",
    "\n",
    "    # Ensure there's data to plot\n",
    "    if filtered_df.empty:\n",
    "        print(\"No data available for the selected firm.\")\n",
    "        return\n",
    "\n",
    "    # Create Sunburst chart using Plotly with customized hover information\n",
    "    try:\n",
    "        # Create Sunburst chart with customized hover data\n",
    "        fig = px.sunburst(\n",
    "            filtered_df,\n",
    "            path=['Recalling Firm', 'Product Type', 'Product Description'],\n",
    "            values='Recall Count',  # Use the count column for visualization\n",
    "            title=f\"Top Products Recalled by {firm}\",\n",
    "            color='Product Type',\n",
    "            hover_data={\n",
    "                \"Classification\": True,\n",
    "                \"Product Description\": True,\n",
    "                \"State\": True\n",
    "            }\n",
    "        )\n",
    "        \n",
    "        # Update hover template to display only the firm name\n",
    "        fig.update_traces(\n",
    "            hovertemplate=\"<br>\".join([\n",
    "                \"Firm: \" + firm,\n",
    "                \"Classification: %{customdata[0]}\",\n",
    "                \"Product Description: %{customdata[1]}\",\n",
    "                \"State: %{customdata[2]}\"\n",
    "            ])\n",
    "        )\n",
    "        \n",
    "        fig.show()\n",
    "        \n",
    "        # Create HTML file\n",
    "        fig.write_html(\"./output_data/fda_recalls_by_recall_firm.html\")\n",
    "        \n",
    "        \n",
    "    except Exception as e:\n",
    "        print(f\"An error occurred while creating the Sunburst chart: {e}\")\n",
    "\n",
    "# Create the interactive UI\n",
    "interact(\n",
    "    create_sunburst_chart,\n",
    "    firm_with_count=firm_widget\n",
    ")\n"
   ]
  }
 ],
 "metadata": {
  "kernelspec": {
   "display_name": "base",
   "language": "python",
   "name": "python3"
  },
  "language_info": {
   "codemirror_mode": {
    "name": "ipython",
    "version": 3
   },
   "file_extension": ".py",
   "mimetype": "text/x-python",
   "name": "python",
   "nbconvert_exporter": "python",
   "pygments_lexer": "ipython3",
   "version": "3.12.4"
  }
 },
 "nbformat": 4,
 "nbformat_minor": 2
}
