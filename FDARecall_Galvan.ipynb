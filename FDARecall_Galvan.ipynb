{
 "cells": [
  {
   "cell_type": "code",
   "execution_count": 22,
   "metadata": {},
   "outputs": [],
   "source": [
    "import requests\n",
    "import pandas as pd\n",
    "import plotly.express as px\n",
    "from pymongo import MongoClient\n",
    "from datetime import datetime\n",
    "\n",
    "# Define the API endpoint and parameters\n",
    "url = \"https://api.fda.gov/food/enforcement.json?search=report_date:[20200101+TO+20241005]&limit=500\"\n",
    "\n",
    "# Send a GET request to the API\n",
    "response = requests.get(url)\n",
    "\n",
    "if response.status_code == 200:\n",
    "    data = response.json()\n",
    "    recalls = data.get('results', [])\n",
    "    recall_df = pd.DataFrame(recalls)\n",
    "\n",
    "    clean_df = recall_df.rename(columns={\n",
    "        \"status\": \"Status\", \n",
    "        \"city\": \"City\",\n",
    "        \"state\": \"State\",\n",
    "        \"country\":\"Country\",\n",
    "        \"classification\":\"Classification\",\n",
    "        \"openfda\":\"Open FDA\",\n",
    "        \"product_type\":\"Product Type\",\n",
    "        \"event_id\":\"Event ID\",\n",
    "        \"recalling_firm\":\"Recalling Firm\",\n",
    "        \"address_1\":\"Address 1\",\n",
    "        \"address_2\":\"Address 2\",\n",
    "        \"postal_code\":\"Postal Code\",\n",
    "        \"voluntary_mandated\":\"Voluntary Mandated\",\n",
    "        \"initial_firm_notification\":\"Initial Firm Notification\",\n",
    "        \"distribution_pattern\":\"Distribution Pattern\",\n",
    "        \"recall_number\":\"Recall Number\",\n",
    "        \"product_description\":\"Product Description\",\n",
    "        \"product_quantity\":\"Product Quantity\",\n",
    "        \"reason_for_recall\":\"Reason for Recall\",\n",
    "        \"recall_initiation_date\":\"Recall Initiation Date\",\n",
    "        \"center_classification_date\":\"Center Classification Date\",\n",
    "        \"termination_date\":\"Termination Date\",\n",
    "        \"report_date\":\"Report Date\",\n",
    "        \"code_info\":\"Code Info\",\n",
    "        \"more_code_info\":\"More Code Info\",\n",
    "    })\n",
    "\n",
    "    # Convert DataFrame to dictionary format for MongoDB\n",
    "    recall_records = clean_df.to_dict(\"records\")\n",
    "\n",
    "    # Modify records to ensure the correct structure\n",
    "    for record in recall_records:\n",
    "        record['recall_number'] = record.get('recall_number', '')  # Primary key\n",
    "        record['recall_initiation_date'] = datetime.strptime(record.get('recall_initiation_date', '1900-01-01'), '%Y%m%d') if record.get('recall_initiation_date') else None\n",
    "        record['recall_classification'] = record.get('classification', '')  # Classification as VARCHAR(50)\n",
    "        record['status'] = record.get('status', '')  # Status as VARCHAR(50)\n",
    "        record['product_description'] = record.get('product_description', '')  # Description as TEXT\n",
    "        record['code_info'] = record.get('code_info', '')  # Code info as TEXT\n",
    "        record['recalling_firm'] = record.get('recalling_firm', '')  # Firm as VARCHAR(50)\n",
    "        record['reason_for_recall'] = record.get('reason_for_recall', '')  # Reason as TEXT\n",
    "        record['distribution_pattern'] = record.get('distribution_pattern', '')  # Pattern as TEXT\n",
    "        record['state'] = record.get('state', '')  # State as VARCHAR(50)\n",
    "        record['report_date'] = datetime.strptime(record.get('report_date', '1900-01-01'), '%Y%m%d') if record.get('report_date') else None\n",
    "        record['voluntary_mandated'] = record.get('voluntary_mandated', '')  # Voluntary/Mandated as VARCHAR(50)\n",
    "        record['event_id'] = record.get('event_id', '')  # Event ID as VARCHAR(50)\n",
    "\n",
    "    # Connect to MongoDB\n",
    "    client = MongoClient('mongodb://localhost:27017/')  # Or use your MongoDB URI\n",
    "    db = client['fda_recall_data']  # Database name\n",
    "    collection = db['recalls']  # Collection name\n",
    "\n",
    "    # Insert modified data into MongoDB\n",
    "    collection.insert_many(recall_records)\n",
    "\n",
    "    # Example: Query data back from MongoDB\n",
    "    recalls_from_db = list(collection.find())\n",
    "\n",
    "    # Convert back to DataFrame if needed\n",
    "    db_df = pd.DataFrame(recalls_from_db)\n",
    "\n",
    "    # Close the connection\n",
    "    client.close()\n",
    "else:\n",
    "    print(f\"Failed to retrieve data: {response.status_code}\")\n",
    "\n"
   ]
  },
  {
   "cell_type": "code",
   "execution_count": 31,
   "metadata": {},
   "outputs": [
    {
     "data": {
      "application/vnd.plotly.v1+json": {
       "config": {
        "plotlyServerURL": "https://plot.ly"
       },
       "data": [
        {
         "coloraxis": "coloraxis",
         "geo": "geo",
         "hovertemplate": "State=%{location}<br>Count=%{z}<extra></extra>",
         "locationmode": "USA-states",
         "locations": [
          "CA",
          "NY",
          "MD",
          "OH",
          "IL",
          "FL",
          "GA",
          "WA",
          "OR",
          "TX",
          "NJ",
          "PA",
          "MN",
          "MI",
          "WI",
          "NM",
          "MA",
          "IA",
          "VA",
          "UT",
          "KS",
          "ID",
          "VT",
          "NC",
          "AZ",
          "CO",
          "WY",
          "MO",
          "CT",
          "IN",
          "NH",
          "PR",
          "SC",
          "AR",
          "AL",
          "OK",
          "DE",
          "KY",
          "MS",
          "NE",
          "NV",
          "ND"
         ],
         "name": "",
         "type": "choropleth",
         "z": [
          54,
          48,
          44,
          42,
          30,
          28,
          21,
          19,
          15,
          15,
          14,
          13,
          12,
          12,
          11,
          9,
          9,
          8,
          8,
          8,
          8,
          7,
          7,
          6,
          5,
          5,
          4,
          4,
          4,
          4,
          3,
          2,
          2,
          2,
          1,
          1,
          1,
          1,
          1,
          1,
          1,
          1
         ]
        }
       ],
       "layout": {
        "coloraxis": {
         "colorbar": {
          "title": {
           "text": "Count"
          }
         },
         "colorscale": [
          [
           0,
           "rgb(255,255,217)"
          ],
          [
           0.125,
           "rgb(237,248,177)"
          ],
          [
           0.25,
           "rgb(199,233,180)"
          ],
          [
           0.375,
           "rgb(127,205,187)"
          ],
          [
           0.5,
           "rgb(65,182,196)"
          ],
          [
           0.625,
           "rgb(29,145,192)"
          ],
          [
           0.75,
           "rgb(34,94,168)"
          ],
          [
           0.875,
           "rgb(37,52,148)"
          ],
          [
           1,
           "rgb(8,29,88)"
          ]
         ]
        },
        "geo": {
         "center": {},
         "domain": {
          "x": [
           0,
           1
          ],
          "y": [
           0,
           1
          ]
         },
         "lakecolor": "rgb(255, 255, 255)",
         "scope": "usa"
        },
        "legend": {
         "tracegroupgap": 0
        },
        "template": {
         "data": {
          "bar": [
           {
            "error_x": {
             "color": "#2a3f5f"
            },
            "error_y": {
             "color": "#2a3f5f"
            },
            "marker": {
             "line": {
              "color": "#E5ECF6",
              "width": 0.5
             },
             "pattern": {
              "fillmode": "overlay",
              "size": 10,
              "solidity": 0.2
             }
            },
            "type": "bar"
           }
          ],
          "barpolar": [
           {
            "marker": {
             "line": {
              "color": "#E5ECF6",
              "width": 0.5
             },
             "pattern": {
              "fillmode": "overlay",
              "size": 10,
              "solidity": 0.2
             }
            },
            "type": "barpolar"
           }
          ],
          "carpet": [
           {
            "aaxis": {
             "endlinecolor": "#2a3f5f",
             "gridcolor": "white",
             "linecolor": "white",
             "minorgridcolor": "white",
             "startlinecolor": "#2a3f5f"
            },
            "baxis": {
             "endlinecolor": "#2a3f5f",
             "gridcolor": "white",
             "linecolor": "white",
             "minorgridcolor": "white",
             "startlinecolor": "#2a3f5f"
            },
            "type": "carpet"
           }
          ],
          "choropleth": [
           {
            "colorbar": {
             "outlinewidth": 0,
             "ticks": ""
            },
            "type": "choropleth"
           }
          ],
          "contour": [
           {
            "colorbar": {
             "outlinewidth": 0,
             "ticks": ""
            },
            "colorscale": [
             [
              0,
              "#0d0887"
             ],
             [
              0.1111111111111111,
              "#46039f"
             ],
             [
              0.2222222222222222,
              "#7201a8"
             ],
             [
              0.3333333333333333,
              "#9c179e"
             ],
             [
              0.4444444444444444,
              "#bd3786"
             ],
             [
              0.5555555555555556,
              "#d8576b"
             ],
             [
              0.6666666666666666,
              "#ed7953"
             ],
             [
              0.7777777777777778,
              "#fb9f3a"
             ],
             [
              0.8888888888888888,
              "#fdca26"
             ],
             [
              1,
              "#f0f921"
             ]
            ],
            "type": "contour"
           }
          ],
          "contourcarpet": [
           {
            "colorbar": {
             "outlinewidth": 0,
             "ticks": ""
            },
            "type": "contourcarpet"
           }
          ],
          "heatmap": [
           {
            "colorbar": {
             "outlinewidth": 0,
             "ticks": ""
            },
            "colorscale": [
             [
              0,
              "#0d0887"
             ],
             [
              0.1111111111111111,
              "#46039f"
             ],
             [
              0.2222222222222222,
              "#7201a8"
             ],
             [
              0.3333333333333333,
              "#9c179e"
             ],
             [
              0.4444444444444444,
              "#bd3786"
             ],
             [
              0.5555555555555556,
              "#d8576b"
             ],
             [
              0.6666666666666666,
              "#ed7953"
             ],
             [
              0.7777777777777778,
              "#fb9f3a"
             ],
             [
              0.8888888888888888,
              "#fdca26"
             ],
             [
              1,
              "#f0f921"
             ]
            ],
            "type": "heatmap"
           }
          ],
          "heatmapgl": [
           {
            "colorbar": {
             "outlinewidth": 0,
             "ticks": ""
            },
            "colorscale": [
             [
              0,
              "#0d0887"
             ],
             [
              0.1111111111111111,
              "#46039f"
             ],
             [
              0.2222222222222222,
              "#7201a8"
             ],
             [
              0.3333333333333333,
              "#9c179e"
             ],
             [
              0.4444444444444444,
              "#bd3786"
             ],
             [
              0.5555555555555556,
              "#d8576b"
             ],
             [
              0.6666666666666666,
              "#ed7953"
             ],
             [
              0.7777777777777778,
              "#fb9f3a"
             ],
             [
              0.8888888888888888,
              "#fdca26"
             ],
             [
              1,
              "#f0f921"
             ]
            ],
            "type": "heatmapgl"
           }
          ],
          "histogram": [
           {
            "marker": {
             "pattern": {
              "fillmode": "overlay",
              "size": 10,
              "solidity": 0.2
             }
            },
            "type": "histogram"
           }
          ],
          "histogram2d": [
           {
            "colorbar": {
             "outlinewidth": 0,
             "ticks": ""
            },
            "colorscale": [
             [
              0,
              "#0d0887"
             ],
             [
              0.1111111111111111,
              "#46039f"
             ],
             [
              0.2222222222222222,
              "#7201a8"
             ],
             [
              0.3333333333333333,
              "#9c179e"
             ],
             [
              0.4444444444444444,
              "#bd3786"
             ],
             [
              0.5555555555555556,
              "#d8576b"
             ],
             [
              0.6666666666666666,
              "#ed7953"
             ],
             [
              0.7777777777777778,
              "#fb9f3a"
             ],
             [
              0.8888888888888888,
              "#fdca26"
             ],
             [
              1,
              "#f0f921"
             ]
            ],
            "type": "histogram2d"
           }
          ],
          "histogram2dcontour": [
           {
            "colorbar": {
             "outlinewidth": 0,
             "ticks": ""
            },
            "colorscale": [
             [
              0,
              "#0d0887"
             ],
             [
              0.1111111111111111,
              "#46039f"
             ],
             [
              0.2222222222222222,
              "#7201a8"
             ],
             [
              0.3333333333333333,
              "#9c179e"
             ],
             [
              0.4444444444444444,
              "#bd3786"
             ],
             [
              0.5555555555555556,
              "#d8576b"
             ],
             [
              0.6666666666666666,
              "#ed7953"
             ],
             [
              0.7777777777777778,
              "#fb9f3a"
             ],
             [
              0.8888888888888888,
              "#fdca26"
             ],
             [
              1,
              "#f0f921"
             ]
            ],
            "type": "histogram2dcontour"
           }
          ],
          "mesh3d": [
           {
            "colorbar": {
             "outlinewidth": 0,
             "ticks": ""
            },
            "type": "mesh3d"
           }
          ],
          "parcoords": [
           {
            "line": {
             "colorbar": {
              "outlinewidth": 0,
              "ticks": ""
             }
            },
            "type": "parcoords"
           }
          ],
          "pie": [
           {
            "automargin": true,
            "type": "pie"
           }
          ],
          "scatter": [
           {
            "fillpattern": {
             "fillmode": "overlay",
             "size": 10,
             "solidity": 0.2
            },
            "type": "scatter"
           }
          ],
          "scatter3d": [
           {
            "line": {
             "colorbar": {
              "outlinewidth": 0,
              "ticks": ""
             }
            },
            "marker": {
             "colorbar": {
              "outlinewidth": 0,
              "ticks": ""
             }
            },
            "type": "scatter3d"
           }
          ],
          "scattercarpet": [
           {
            "marker": {
             "colorbar": {
              "outlinewidth": 0,
              "ticks": ""
             }
            },
            "type": "scattercarpet"
           }
          ],
          "scattergeo": [
           {
            "marker": {
             "colorbar": {
              "outlinewidth": 0,
              "ticks": ""
             }
            },
            "type": "scattergeo"
           }
          ],
          "scattergl": [
           {
            "marker": {
             "colorbar": {
              "outlinewidth": 0,
              "ticks": ""
             }
            },
            "type": "scattergl"
           }
          ],
          "scattermapbox": [
           {
            "marker": {
             "colorbar": {
              "outlinewidth": 0,
              "ticks": ""
             }
            },
            "type": "scattermapbox"
           }
          ],
          "scatterpolar": [
           {
            "marker": {
             "colorbar": {
              "outlinewidth": 0,
              "ticks": ""
             }
            },
            "type": "scatterpolar"
           }
          ],
          "scatterpolargl": [
           {
            "marker": {
             "colorbar": {
              "outlinewidth": 0,
              "ticks": ""
             }
            },
            "type": "scatterpolargl"
           }
          ],
          "scatterternary": [
           {
            "marker": {
             "colorbar": {
              "outlinewidth": 0,
              "ticks": ""
             }
            },
            "type": "scatterternary"
           }
          ],
          "surface": [
           {
            "colorbar": {
             "outlinewidth": 0,
             "ticks": ""
            },
            "colorscale": [
             [
              0,
              "#0d0887"
             ],
             [
              0.1111111111111111,
              "#46039f"
             ],
             [
              0.2222222222222222,
              "#7201a8"
             ],
             [
              0.3333333333333333,
              "#9c179e"
             ],
             [
              0.4444444444444444,
              "#bd3786"
             ],
             [
              0.5555555555555556,
              "#d8576b"
             ],
             [
              0.6666666666666666,
              "#ed7953"
             ],
             [
              0.7777777777777778,
              "#fb9f3a"
             ],
             [
              0.8888888888888888,
              "#fdca26"
             ],
             [
              1,
              "#f0f921"
             ]
            ],
            "type": "surface"
           }
          ],
          "table": [
           {
            "cells": {
             "fill": {
              "color": "#EBF0F8"
             },
             "line": {
              "color": "white"
             }
            },
            "header": {
             "fill": {
              "color": "#C8D4E3"
             },
             "line": {
              "color": "white"
             }
            },
            "type": "table"
           }
          ]
         },
         "layout": {
          "annotationdefaults": {
           "arrowcolor": "#2a3f5f",
           "arrowhead": 0,
           "arrowwidth": 1
          },
          "autotypenumbers": "strict",
          "coloraxis": {
           "colorbar": {
            "outlinewidth": 0,
            "ticks": ""
           }
          },
          "colorscale": {
           "diverging": [
            [
             0,
             "#8e0152"
            ],
            [
             0.1,
             "#c51b7d"
            ],
            [
             0.2,
             "#de77ae"
            ],
            [
             0.3,
             "#f1b6da"
            ],
            [
             0.4,
             "#fde0ef"
            ],
            [
             0.5,
             "#f7f7f7"
            ],
            [
             0.6,
             "#e6f5d0"
            ],
            [
             0.7,
             "#b8e186"
            ],
            [
             0.8,
             "#7fbc41"
            ],
            [
             0.9,
             "#4d9221"
            ],
            [
             1,
             "#276419"
            ]
           ],
           "sequential": [
            [
             0,
             "#0d0887"
            ],
            [
             0.1111111111111111,
             "#46039f"
            ],
            [
             0.2222222222222222,
             "#7201a8"
            ],
            [
             0.3333333333333333,
             "#9c179e"
            ],
            [
             0.4444444444444444,
             "#bd3786"
            ],
            [
             0.5555555555555556,
             "#d8576b"
            ],
            [
             0.6666666666666666,
             "#ed7953"
            ],
            [
             0.7777777777777778,
             "#fb9f3a"
            ],
            [
             0.8888888888888888,
             "#fdca26"
            ],
            [
             1,
             "#f0f921"
            ]
           ],
           "sequentialminus": [
            [
             0,
             "#0d0887"
            ],
            [
             0.1111111111111111,
             "#46039f"
            ],
            [
             0.2222222222222222,
             "#7201a8"
            ],
            [
             0.3333333333333333,
             "#9c179e"
            ],
            [
             0.4444444444444444,
             "#bd3786"
            ],
            [
             0.5555555555555556,
             "#d8576b"
            ],
            [
             0.6666666666666666,
             "#ed7953"
            ],
            [
             0.7777777777777778,
             "#fb9f3a"
            ],
            [
             0.8888888888888888,
             "#fdca26"
            ],
            [
             1,
             "#f0f921"
            ]
           ]
          },
          "colorway": [
           "#636efa",
           "#EF553B",
           "#00cc96",
           "#ab63fa",
           "#FFA15A",
           "#19d3f3",
           "#FF6692",
           "#B6E880",
           "#FF97FF",
           "#FECB52"
          ],
          "font": {
           "color": "#2a3f5f"
          },
          "geo": {
           "bgcolor": "white",
           "lakecolor": "white",
           "landcolor": "#E5ECF6",
           "showlakes": true,
           "showland": true,
           "subunitcolor": "white"
          },
          "hoverlabel": {
           "align": "left"
          },
          "hovermode": "closest",
          "mapbox": {
           "style": "light"
          },
          "paper_bgcolor": "white",
          "plot_bgcolor": "#E5ECF6",
          "polar": {
           "angularaxis": {
            "gridcolor": "white",
            "linecolor": "white",
            "ticks": ""
           },
           "bgcolor": "#E5ECF6",
           "radialaxis": {
            "gridcolor": "white",
            "linecolor": "white",
            "ticks": ""
           }
          },
          "scene": {
           "xaxis": {
            "backgroundcolor": "#E5ECF6",
            "gridcolor": "white",
            "gridwidth": 2,
            "linecolor": "white",
            "showbackground": true,
            "ticks": "",
            "zerolinecolor": "white"
           },
           "yaxis": {
            "backgroundcolor": "#E5ECF6",
            "gridcolor": "white",
            "gridwidth": 2,
            "linecolor": "white",
            "showbackground": true,
            "ticks": "",
            "zerolinecolor": "white"
           },
           "zaxis": {
            "backgroundcolor": "#E5ECF6",
            "gridcolor": "white",
            "gridwidth": 2,
            "linecolor": "white",
            "showbackground": true,
            "ticks": "",
            "zerolinecolor": "white"
           }
          },
          "shapedefaults": {
           "line": {
            "color": "#2a3f5f"
           }
          },
          "ternary": {
           "aaxis": {
            "gridcolor": "white",
            "linecolor": "white",
            "ticks": ""
           },
           "baxis": {
            "gridcolor": "white",
            "linecolor": "white",
            "ticks": ""
           },
           "bgcolor": "#E5ECF6",
           "caxis": {
            "gridcolor": "white",
            "linecolor": "white",
            "ticks": ""
           }
          },
          "title": {
           "x": 0.05
          },
          "xaxis": {
           "automargin": true,
           "gridcolor": "white",
           "linecolor": "white",
           "ticks": "",
           "title": {
            "standoff": 15
           },
           "zerolinecolor": "white",
           "zerolinewidth": 2
          },
          "yaxis": {
           "automargin": true,
           "gridcolor": "white",
           "linecolor": "white",
           "ticks": "",
           "title": {
            "standoff": 15
           },
           "zerolinecolor": "white",
           "zerolinewidth": 2
          }
         }
        },
        "title": {
         "text": "FDA Recalls by State"
        }
       }
      },
      "text/html": [
       "<div>                            <div id=\"50f35bd8-d840-4815-a987-1b39c5f818f0\" class=\"plotly-graph-div\" style=\"height:525px; width:100%;\"></div>            <script type=\"text/javascript\">                require([\"plotly\"], function(Plotly) {                    window.PLOTLYENV=window.PLOTLYENV || {};                                    if (document.getElementById(\"50f35bd8-d840-4815-a987-1b39c5f818f0\")) {                    Plotly.newPlot(                        \"50f35bd8-d840-4815-a987-1b39c5f818f0\",                        [{\"coloraxis\":\"coloraxis\",\"geo\":\"geo\",\"hovertemplate\":\"State=%{location}\\u003cbr\\u003eCount=%{z}\\u003cextra\\u003e\\u003c\\u002fextra\\u003e\",\"locationmode\":\"USA-states\",\"locations\":[\"CA\",\"NY\",\"MD\",\"OH\",\"IL\",\"FL\",\"GA\",\"WA\",\"OR\",\"TX\",\"NJ\",\"PA\",\"MN\",\"MI\",\"WI\",\"NM\",\"MA\",\"IA\",\"VA\",\"UT\",\"KS\",\"ID\",\"VT\",\"NC\",\"AZ\",\"CO\",\"WY\",\"MO\",\"CT\",\"IN\",\"NH\",\"PR\",\"SC\",\"AR\",\"AL\",\"OK\",\"DE\",\"KY\",\"MS\",\"NE\",\"NV\",\"ND\"],\"name\":\"\",\"z\":[54,48,44,42,30,28,21,19,15,15,14,13,12,12,11,9,9,8,8,8,8,7,7,6,5,5,4,4,4,4,3,2,2,2,1,1,1,1,1,1,1,1],\"type\":\"choropleth\"}],                        {\"template\":{\"data\":{\"histogram2dcontour\":[{\"type\":\"histogram2dcontour\",\"colorbar\":{\"outlinewidth\":0,\"ticks\":\"\"},\"colorscale\":[[0.0,\"#0d0887\"],[0.1111111111111111,\"#46039f\"],[0.2222222222222222,\"#7201a8\"],[0.3333333333333333,\"#9c179e\"],[0.4444444444444444,\"#bd3786\"],[0.5555555555555556,\"#d8576b\"],[0.6666666666666666,\"#ed7953\"],[0.7777777777777778,\"#fb9f3a\"],[0.8888888888888888,\"#fdca26\"],[1.0,\"#f0f921\"]]}],\"choropleth\":[{\"type\":\"choropleth\",\"colorbar\":{\"outlinewidth\":0,\"ticks\":\"\"}}],\"histogram2d\":[{\"type\":\"histogram2d\",\"colorbar\":{\"outlinewidth\":0,\"ticks\":\"\"},\"colorscale\":[[0.0,\"#0d0887\"],[0.1111111111111111,\"#46039f\"],[0.2222222222222222,\"#7201a8\"],[0.3333333333333333,\"#9c179e\"],[0.4444444444444444,\"#bd3786\"],[0.5555555555555556,\"#d8576b\"],[0.6666666666666666,\"#ed7953\"],[0.7777777777777778,\"#fb9f3a\"],[0.8888888888888888,\"#fdca26\"],[1.0,\"#f0f921\"]]}],\"heatmap\":[{\"type\":\"heatmap\",\"colorbar\":{\"outlinewidth\":0,\"ticks\":\"\"},\"colorscale\":[[0.0,\"#0d0887\"],[0.1111111111111111,\"#46039f\"],[0.2222222222222222,\"#7201a8\"],[0.3333333333333333,\"#9c179e\"],[0.4444444444444444,\"#bd3786\"],[0.5555555555555556,\"#d8576b\"],[0.6666666666666666,\"#ed7953\"],[0.7777777777777778,\"#fb9f3a\"],[0.8888888888888888,\"#fdca26\"],[1.0,\"#f0f921\"]]}],\"heatmapgl\":[{\"type\":\"heatmapgl\",\"colorbar\":{\"outlinewidth\":0,\"ticks\":\"\"},\"colorscale\":[[0.0,\"#0d0887\"],[0.1111111111111111,\"#46039f\"],[0.2222222222222222,\"#7201a8\"],[0.3333333333333333,\"#9c179e\"],[0.4444444444444444,\"#bd3786\"],[0.5555555555555556,\"#d8576b\"],[0.6666666666666666,\"#ed7953\"],[0.7777777777777778,\"#fb9f3a\"],[0.8888888888888888,\"#fdca26\"],[1.0,\"#f0f921\"]]}],\"contourcarpet\":[{\"type\":\"contourcarpet\",\"colorbar\":{\"outlinewidth\":0,\"ticks\":\"\"}}],\"contour\":[{\"type\":\"contour\",\"colorbar\":{\"outlinewidth\":0,\"ticks\":\"\"},\"colorscale\":[[0.0,\"#0d0887\"],[0.1111111111111111,\"#46039f\"],[0.2222222222222222,\"#7201a8\"],[0.3333333333333333,\"#9c179e\"],[0.4444444444444444,\"#bd3786\"],[0.5555555555555556,\"#d8576b\"],[0.6666666666666666,\"#ed7953\"],[0.7777777777777778,\"#fb9f3a\"],[0.8888888888888888,\"#fdca26\"],[1.0,\"#f0f921\"]]}],\"surface\":[{\"type\":\"surface\",\"colorbar\":{\"outlinewidth\":0,\"ticks\":\"\"},\"colorscale\":[[0.0,\"#0d0887\"],[0.1111111111111111,\"#46039f\"],[0.2222222222222222,\"#7201a8\"],[0.3333333333333333,\"#9c179e\"],[0.4444444444444444,\"#bd3786\"],[0.5555555555555556,\"#d8576b\"],[0.6666666666666666,\"#ed7953\"],[0.7777777777777778,\"#fb9f3a\"],[0.8888888888888888,\"#fdca26\"],[1.0,\"#f0f921\"]]}],\"mesh3d\":[{\"type\":\"mesh3d\",\"colorbar\":{\"outlinewidth\":0,\"ticks\":\"\"}}],\"scatter\":[{\"fillpattern\":{\"fillmode\":\"overlay\",\"size\":10,\"solidity\":0.2},\"type\":\"scatter\"}],\"parcoords\":[{\"type\":\"parcoords\",\"line\":{\"colorbar\":{\"outlinewidth\":0,\"ticks\":\"\"}}}],\"scatterpolargl\":[{\"type\":\"scatterpolargl\",\"marker\":{\"colorbar\":{\"outlinewidth\":0,\"ticks\":\"\"}}}],\"bar\":[{\"error_x\":{\"color\":\"#2a3f5f\"},\"error_y\":{\"color\":\"#2a3f5f\"},\"marker\":{\"line\":{\"color\":\"#E5ECF6\",\"width\":0.5},\"pattern\":{\"fillmode\":\"overlay\",\"size\":10,\"solidity\":0.2}},\"type\":\"bar\"}],\"scattergeo\":[{\"type\":\"scattergeo\",\"marker\":{\"colorbar\":{\"outlinewidth\":0,\"ticks\":\"\"}}}],\"scatterpolar\":[{\"type\":\"scatterpolar\",\"marker\":{\"colorbar\":{\"outlinewidth\":0,\"ticks\":\"\"}}}],\"histogram\":[{\"marker\":{\"pattern\":{\"fillmode\":\"overlay\",\"size\":10,\"solidity\":0.2}},\"type\":\"histogram\"}],\"scattergl\":[{\"type\":\"scattergl\",\"marker\":{\"colorbar\":{\"outlinewidth\":0,\"ticks\":\"\"}}}],\"scatter3d\":[{\"type\":\"scatter3d\",\"line\":{\"colorbar\":{\"outlinewidth\":0,\"ticks\":\"\"}},\"marker\":{\"colorbar\":{\"outlinewidth\":0,\"ticks\":\"\"}}}],\"scattermapbox\":[{\"type\":\"scattermapbox\",\"marker\":{\"colorbar\":{\"outlinewidth\":0,\"ticks\":\"\"}}}],\"scatterternary\":[{\"type\":\"scatterternary\",\"marker\":{\"colorbar\":{\"outlinewidth\":0,\"ticks\":\"\"}}}],\"scattercarpet\":[{\"type\":\"scattercarpet\",\"marker\":{\"colorbar\":{\"outlinewidth\":0,\"ticks\":\"\"}}}],\"carpet\":[{\"aaxis\":{\"endlinecolor\":\"#2a3f5f\",\"gridcolor\":\"white\",\"linecolor\":\"white\",\"minorgridcolor\":\"white\",\"startlinecolor\":\"#2a3f5f\"},\"baxis\":{\"endlinecolor\":\"#2a3f5f\",\"gridcolor\":\"white\",\"linecolor\":\"white\",\"minorgridcolor\":\"white\",\"startlinecolor\":\"#2a3f5f\"},\"type\":\"carpet\"}],\"table\":[{\"cells\":{\"fill\":{\"color\":\"#EBF0F8\"},\"line\":{\"color\":\"white\"}},\"header\":{\"fill\":{\"color\":\"#C8D4E3\"},\"line\":{\"color\":\"white\"}},\"type\":\"table\"}],\"barpolar\":[{\"marker\":{\"line\":{\"color\":\"#E5ECF6\",\"width\":0.5},\"pattern\":{\"fillmode\":\"overlay\",\"size\":10,\"solidity\":0.2}},\"type\":\"barpolar\"}],\"pie\":[{\"automargin\":true,\"type\":\"pie\"}]},\"layout\":{\"autotypenumbers\":\"strict\",\"colorway\":[\"#636efa\",\"#EF553B\",\"#00cc96\",\"#ab63fa\",\"#FFA15A\",\"#19d3f3\",\"#FF6692\",\"#B6E880\",\"#FF97FF\",\"#FECB52\"],\"font\":{\"color\":\"#2a3f5f\"},\"hovermode\":\"closest\",\"hoverlabel\":{\"align\":\"left\"},\"paper_bgcolor\":\"white\",\"plot_bgcolor\":\"#E5ECF6\",\"polar\":{\"bgcolor\":\"#E5ECF6\",\"angularaxis\":{\"gridcolor\":\"white\",\"linecolor\":\"white\",\"ticks\":\"\"},\"radialaxis\":{\"gridcolor\":\"white\",\"linecolor\":\"white\",\"ticks\":\"\"}},\"ternary\":{\"bgcolor\":\"#E5ECF6\",\"aaxis\":{\"gridcolor\":\"white\",\"linecolor\":\"white\",\"ticks\":\"\"},\"baxis\":{\"gridcolor\":\"white\",\"linecolor\":\"white\",\"ticks\":\"\"},\"caxis\":{\"gridcolor\":\"white\",\"linecolor\":\"white\",\"ticks\":\"\"}},\"coloraxis\":{\"colorbar\":{\"outlinewidth\":0,\"ticks\":\"\"}},\"colorscale\":{\"sequential\":[[0.0,\"#0d0887\"],[0.1111111111111111,\"#46039f\"],[0.2222222222222222,\"#7201a8\"],[0.3333333333333333,\"#9c179e\"],[0.4444444444444444,\"#bd3786\"],[0.5555555555555556,\"#d8576b\"],[0.6666666666666666,\"#ed7953\"],[0.7777777777777778,\"#fb9f3a\"],[0.8888888888888888,\"#fdca26\"],[1.0,\"#f0f921\"]],\"sequentialminus\":[[0.0,\"#0d0887\"],[0.1111111111111111,\"#46039f\"],[0.2222222222222222,\"#7201a8\"],[0.3333333333333333,\"#9c179e\"],[0.4444444444444444,\"#bd3786\"],[0.5555555555555556,\"#d8576b\"],[0.6666666666666666,\"#ed7953\"],[0.7777777777777778,\"#fb9f3a\"],[0.8888888888888888,\"#fdca26\"],[1.0,\"#f0f921\"]],\"diverging\":[[0,\"#8e0152\"],[0.1,\"#c51b7d\"],[0.2,\"#de77ae\"],[0.3,\"#f1b6da\"],[0.4,\"#fde0ef\"],[0.5,\"#f7f7f7\"],[0.6,\"#e6f5d0\"],[0.7,\"#b8e186\"],[0.8,\"#7fbc41\"],[0.9,\"#4d9221\"],[1,\"#276419\"]]},\"xaxis\":{\"gridcolor\":\"white\",\"linecolor\":\"white\",\"ticks\":\"\",\"title\":{\"standoff\":15},\"zerolinecolor\":\"white\",\"automargin\":true,\"zerolinewidth\":2},\"yaxis\":{\"gridcolor\":\"white\",\"linecolor\":\"white\",\"ticks\":\"\",\"title\":{\"standoff\":15},\"zerolinecolor\":\"white\",\"automargin\":true,\"zerolinewidth\":2},\"scene\":{\"xaxis\":{\"backgroundcolor\":\"#E5ECF6\",\"gridcolor\":\"white\",\"linecolor\":\"white\",\"showbackground\":true,\"ticks\":\"\",\"zerolinecolor\":\"white\",\"gridwidth\":2},\"yaxis\":{\"backgroundcolor\":\"#E5ECF6\",\"gridcolor\":\"white\",\"linecolor\":\"white\",\"showbackground\":true,\"ticks\":\"\",\"zerolinecolor\":\"white\",\"gridwidth\":2},\"zaxis\":{\"backgroundcolor\":\"#E5ECF6\",\"gridcolor\":\"white\",\"linecolor\":\"white\",\"showbackground\":true,\"ticks\":\"\",\"zerolinecolor\":\"white\",\"gridwidth\":2}},\"shapedefaults\":{\"line\":{\"color\":\"#2a3f5f\"}},\"annotationdefaults\":{\"arrowcolor\":\"#2a3f5f\",\"arrowhead\":0,\"arrowwidth\":1},\"geo\":{\"bgcolor\":\"white\",\"landcolor\":\"#E5ECF6\",\"subunitcolor\":\"white\",\"showland\":true,\"showlakes\":true,\"lakecolor\":\"white\"},\"title\":{\"x\":0.05},\"mapbox\":{\"style\":\"light\"}}},\"geo\":{\"domain\":{\"x\":[0.0,1.0],\"y\":[0.0,1.0]},\"center\":{},\"scope\":\"usa\",\"lakecolor\":\"rgb(255, 255, 255)\"},\"coloraxis\":{\"colorbar\":{\"title\":{\"text\":\"Count\"}},\"colorscale\":[[0.0,\"rgb(255,255,217)\"],[0.125,\"rgb(237,248,177)\"],[0.25,\"rgb(199,233,180)\"],[0.375,\"rgb(127,205,187)\"],[0.5,\"rgb(65,182,196)\"],[0.625,\"rgb(29,145,192)\"],[0.75,\"rgb(34,94,168)\"],[0.875,\"rgb(37,52,148)\"],[1.0,\"rgb(8,29,88)\"]]},\"legend\":{\"tracegroupgap\":0},\"title\":{\"text\":\"FDA Recalls by State\"}},                        {\"responsive\": true}                    ).then(function(){\n",
       "                            \n",
       "var gd = document.getElementById('50f35bd8-d840-4815-a987-1b39c5f818f0');\n",
       "var x = new MutationObserver(function (mutations, observer) {{\n",
       "        var display = window.getComputedStyle(gd).display;\n",
       "        if (!display || display === 'none') {{\n",
       "            console.log([gd, 'removed!']);\n",
       "            Plotly.purge(gd);\n",
       "            observer.disconnect();\n",
       "        }}\n",
       "}});\n",
       "\n",
       "// Listen for the removal of the full notebook cells\n",
       "var notebookContainer = gd.closest('#notebook-container');\n",
       "if (notebookContainer) {{\n",
       "    x.observe(notebookContainer, {childList: true});\n",
       "}}\n",
       "\n",
       "// Listen for the clearing of the current output cell\n",
       "var outputEl = gd.closest('.output');\n",
       "if (outputEl) {{\n",
       "    x.observe(outputEl, {childList: true});\n",
       "}}\n",
       "\n",
       "                        })                };                });            </script>        </div>"
      ]
     },
     "metadata": {},
     "output_type": "display_data"
    }
   ],
   "source": [
    "import requests\n",
    "import pandas as pd\n",
    "import plotly.express as px\n",
    "\n",
    "# Define the API endpoint and parameters\n",
    "url = \"https://api.fda.gov/food/enforcement.json?search=report_date:[20200101+TO+20241005]&limit=500\"\n",
    "\n",
    "# Send a GET request to the API\n",
    "response = requests.get(url)\n",
    "\n",
    "if response.status_code == 200:\n",
    "    data = response.json()\n",
    "    recalls = data.get('results', [])\n",
    "    recall_df = pd.DataFrame(recalls)\n",
    "\n",
    "    # Rename columns as you have done\n",
    "    clean_df = recall_df.rename(columns={\n",
    "        \"status\": \"Status\", \n",
    "        \"city\": \"City\",\n",
    "        \"state\": \"State\",\n",
    "        \"country\":\"Country\",\n",
    "        \"classification\":\"Classification\",\n",
    "        \"openfda\":\"Open FDA\",\n",
    "        \"product_type\":\"Product Type\",\n",
    "        \"event_id\":\"Event ID\",\n",
    "        \"recalling_firm\":\"Recalling Firm\",\n",
    "        \"address_1\":\"Address 1\",\n",
    "        \"address_2\":\"Address 2\",\n",
    "        \"postal_code\":\"Postal Code\",\n",
    "        \"voluntary_mandated\":\"Voluntary Mandated\",\n",
    "        \"initial_firm_notification\":\"Initial Firm Notification\",\n",
    "        \"distribution_pattern\":\"Distribution Pattern\",\n",
    "        \"recall_number\":\"Recall Number\",\n",
    "        \"product_description\":\"Product Description\",\n",
    "        \"product_quantity\":\"Product Quantity\",\n",
    "        \"reason_for_recall\":\"Reason for Recall\",\n",
    "        \"recall_initiation_date\":\"Recall Initiation Date\",\n",
    "        \"center_classification_date\":\"Center Classification Date\",\n",
    "        \"termination_date\":\"Termination Date\",\n",
    "        \"report_date\":\"Report Date\",\n",
    "        \"code_info\":\"Code Info\",\n",
    "        \"more_code_info\":\"More Code Info\",\n",
    "    })\n",
    "\n",
    "    # Group by state and count the number of records per state\n",
    "    us_recall_df = clean_df[clean_df['Country'] == \"United States\"]\n",
    "    state_counts = us_recall_df['State'].value_counts().reset_index()\n",
    "    state_counts.columns = ['State', 'Count']\n",
    "\n",
    "    # Plotly choropleth map using state postal abbreviations\n",
    "    fig = px.choropleth(\n",
    "        state_counts, \n",
    "        locations='State', \n",
    "        locationmode=\"USA-states\",  # This sets the matching on US state abbreviations\n",
    "        color='Count', \n",
    "        color_continuous_scale=\"YlGnBu\",  # Yellow-Red color scale\n",
    "        scope=\"usa\",  # Scope limited to the US map\n",
    "        title=\"FDA Recalls by State\",\n",
    "    )\n",
    "\n",
    "    fig.update_layout(\n",
    "        geo=dict(\n",
    "            lakecolor='rgb(255, 255, 255)'\n",
    "        )\n",
    "    )\n",
    "\n",
    "    # Show the plot in an interactive window or save to a file\n",
    "    fig.show()\n",
    "else:\n",
    "    print(f\"Failed to retrieve data. Status code: {response.status_code}\")\n"
   ]
  },
  {
   "cell_type": "code",
   "execution_count": 38,
   "metadata": {},
   "outputs": [
    {
     "name": "stdout",
     "output_type": "stream",
     "text": [
      "Interactive HTML map saved as 'fda_recalls_by_state.html'.\n"
     ]
    }
   ],
   "source": [
    "import requests\n",
    "import pandas as pd\n",
    "import plotly.express as px\n",
    "\n",
    "# Define the API endpoint and parameters\n",
    "url = \"https://api.fda.gov/food/enforcement.json?search=report_date:[20200101+TO+20241005]&limit=500\"\n",
    "\n",
    "# Send a GET request to the API\n",
    "response = requests.get(url)\n",
    "\n",
    "if response.status_code == 200:\n",
    "    data = response.json()\n",
    "    recalls = data.get('results', [])\n",
    "    recall_df = pd.DataFrame(recalls)\n",
    "\n",
    "    # Rename columns as you have done\n",
    "    clean_df = recall_df.rename(columns={\n",
    "        \"status\": \"Status\", \n",
    "        \"city\": \"City\",\n",
    "        \"state\": \"State\",\n",
    "        \"country\": \"Country\",\n",
    "        \"classification\": \"Classification\",\n",
    "        \"openfda\": \"Open FDA\",\n",
    "        \"product_type\": \"Product Type\",\n",
    "        \"event_id\": \"Event ID\",\n",
    "        \"recalling_firm\": \"Recalling Firm\",\n",
    "        \"address_1\": \"Address 1\",\n",
    "        \"address_2\": \"Address 2\",\n",
    "        \"postal_code\": \"Postal Code\",\n",
    "        \"voluntary_mandated\": \"Voluntary Mandated\",\n",
    "        \"initial_firm_notification\": \"Initial Firm Notification\",\n",
    "        \"distribution_pattern\": \"Distribution Pattern\",\n",
    "        \"recall_number\": \"Recall Number\",\n",
    "        \"product_description\": \"Product Description\",\n",
    "        \"product_quantity\": \"Product Quantity\",\n",
    "        \"reason_for_recall\": \"Reason for Recall\",\n",
    "        \"recall_initiation_date\": \"Recall Initiation Date\",\n",
    "        \"center_classification_date\": \"Center Classification Date\",\n",
    "        \"termination_date\": \"Termination Date\",\n",
    "        \"report_date\": \"Report Date\",\n",
    "        \"code_info\": \"Code Info\",\n",
    "        \"more_code_info\": \"More Code Info\",\n",
    "    })\n",
    "\n",
    "    # Filter for United States recalls and group by state\n",
    "    us_recall_df = clean_df[clean_df['Country'] == \"United States\"]\n",
    "    state_counts = us_recall_df['State'].value_counts().reset_index()\n",
    "    state_counts.columns = ['State', 'Count']\n",
    "\n",
    "    # Create Plotly choropleth map\n",
    "    fig = px.choropleth(\n",
    "        state_counts, \n",
    "        locations='State', \n",
    "        locationmode=\"USA-states\",  # This sets the matching on US state abbreviations\n",
    "        color='Count', \n",
    "        color_continuous_scale=\"YlGnBu\",  # Green-Blue color scale\n",
    "        scope=\"usa\",  # Scope limited to the US map\n",
    "        title=\"FDA Recalls by State\",\n",
    "    )\n",
    "\n",
    "    fig.update_layout(\n",
    "        geo=dict(\n",
    "            lakecolor='rgb(255, 255, 255)'\n",
    "        )\n",
    "    )\n",
    "\n",
    "    # Save the figure as an interactive HTML file\n",
    "    fig.write_html(\"./output_data/fda_recalls_by_state.html\")\n",
    "\n",
    "    print(\"Interactive HTML map saved as 'fda_recalls_by_state.html'.\")\n",
    "\n",
    "else:\n",
    "    print(f\"Failed to retrieve data. Status code: {response.status_code}\")\n"
   ]
  },
  {
   "cell_type": "code",
   "execution_count": 39,
   "metadata": {},
   "outputs": [
    {
     "name": "stdout",
     "output_type": "stream",
     "text": [
      "Interactive HTML map saved as 'fda_recalls_by_classification.html'.\n"
     ]
    }
   ],
   "source": [
    "import requests\n",
    "import pandas as pd\n",
    "import plotly.express as px\n",
    "\n",
    "# Define the API endpoint and parameters\n",
    "url = \"https://api.fda.gov/food/enforcement.json?search=report_date:[20200101+TO+20241005]&limit=500\"\n",
    "\n",
    "# Send a GET request to the API\n",
    "response = requests.get(url)\n",
    "\n",
    "if response.status_code == 200:\n",
    "    data = response.json()\n",
    "    recalls = data.get('results', [])\n",
    "    recall_df = pd.DataFrame(recalls)\n",
    "\n",
    "    # Rename columns as you have done\n",
    "    clean_df = recall_df.rename(columns={\n",
    "        \"status\": \"Status\", \n",
    "        \"city\": \"City\",\n",
    "        \"state\": \"State\",\n",
    "        \"country\": \"Country\",\n",
    "        \"classification\": \"Classification\",\n",
    "        \"openfda\": \"Open FDA\",\n",
    "        \"product_type\": \"Product Type\",\n",
    "        \"event_id\": \"Event ID\",\n",
    "        \"recalling_firm\": \"Recalling Firm\",\n",
    "        \"address_1\": \"Address 1\",\n",
    "        \"address_2\": \"Address 2\",\n",
    "        \"postal_code\": \"Postal Code\",\n",
    "        \"voluntary_mandated\": \"Voluntary Mandated\",\n",
    "        \"initial_firm_notification\": \"Initial Firm Notification\",\n",
    "        \"distribution_pattern\": \"Distribution Pattern\",\n",
    "        \"recall_number\": \"Recall Number\",\n",
    "        \"product_description\": \"Product Description\",\n",
    "        \"product_quantity\": \"Product Quantity\",\n",
    "        \"reason_for_recall\": \"Reason for Recall\",\n",
    "        \"recall_initiation_date\": \"Recall Initiation Date\",\n",
    "        \"center_classification_date\": \"Center Classification Date\",\n",
    "        \"termination_date\": \"Termination Date\",\n",
    "        \"report_date\": \"Report Date\",\n",
    "        \"code_info\": \"Code Info\",\n",
    "        \"more_code_info\": \"More Code Info\",\n",
    "    })\n",
    "\n",
    "    # Filter for United States recalls\n",
    "    us_recall_df = clean_df[clean_df['Country'] == \"United States\"]\n",
    "\n",
    "    # Get unique classifications\n",
    "    classifications = us_recall_df['Classification'].unique()\n",
    "\n",
    "    # Initialize an empty figure\n",
    "    fig = px.choropleth(\n",
    "        us_recall_df,\n",
    "        locations='State',\n",
    "        locationmode=\"USA-states\",\n",
    "        color='Classification',  # Initial color setting\n",
    "        color_continuous_scale=\"YlGnBu\",\n",
    "        scope=\"usa\",\n",
    "        title=\"FDA Recalls by State\",\n",
    "    )\n",
    "\n",
    "    # Update layout with dropdown functionality\n",
    "    fig.update_layout(\n",
    "        updatemenus=[\n",
    "            {\n",
    "                \"buttons\": [\n",
    "                    {\n",
    "                        \"label\": classification,\n",
    "                        \"method\": \"update\",\n",
    "                        \"args\": [\n",
    "                            {\n",
    "                                \"visible\": [classification == cl for cl in classifications],\n",
    "                            },\n",
    "                            {\n",
    "                                \"title\": f\"FDA Recalls by State: {classification}\",\n",
    "                            },\n",
    "                        ],\n",
    "                    } for classification in classifications\n",
    "                ],\n",
    "                \"direction\": \"down\",\n",
    "                \"showactive\": True,\n",
    "            },\n",
    "        ],\n",
    "    )\n",
    "\n",
    "    fig.update_geos(fitbounds=\"locations\", visible=False)\n",
    "    fig.update_layout(\n",
    "        geo=dict(\n",
    "            lakecolor='rgb(255, 255, 255)'\n",
    "        )\n",
    "    )\n",
    "\n",
    "    # Save the figure as an interactive HTML file\n",
    "    fig.write_html(\"./output_data/fda_recalls_by_classification.html\")\n",
    "\n",
    "    print(\"Interactive HTML map saved as 'fda_recalls_by_classification.html'.\")\n",
    "\n",
    "else:\n",
    "    print(f\"Failed to retrieve data. Status code: {response.status_code}\")\n"
   ]
  },
  {
   "cell_type": "code",
   "execution_count": 40,
   "metadata": {},
   "outputs": [
    {
     "name": "stdout",
     "output_type": "stream",
     "text": [
      "Interactive HTML map saved as 'fda_recalls_by_classification_with_counts.html'.\n"
     ]
    }
   ],
   "source": [
    "import requests\n",
    "import pandas as pd\n",
    "import plotly.express as px\n",
    "\n",
    "# Define the API endpoint and parameters\n",
    "url = \"https://api.fda.gov/food/enforcement.json?search=report_date:[20200101+TO+20241005]&limit=500\"\n",
    "\n",
    "# Send a GET request to the API\n",
    "response = requests.get(url)\n",
    "\n",
    "if response.status_code == 200:\n",
    "    data = response.json()\n",
    "    recalls = data.get('results', [])\n",
    "    recall_df = pd.DataFrame(recalls)\n",
    "\n",
    "    # Rename columns as you have done\n",
    "    clean_df = recall_df.rename(columns={\n",
    "        \"status\": \"Status\", \n",
    "        \"city\": \"City\",\n",
    "        \"state\": \"State\",\n",
    "        \"country\": \"Country\",\n",
    "        \"classification\": \"Classification\",\n",
    "        \"openfda\": \"Open FDA\",\n",
    "        \"product_type\": \"Product Type\",\n",
    "        \"event_id\": \"Event ID\",\n",
    "        \"recalling_firm\": \"Recalling Firm\",\n",
    "        \"address_1\": \"Address 1\",\n",
    "        \"address_2\": \"Address 2\",\n",
    "        \"postal_code\": \"Postal Code\",\n",
    "        \"voluntary_mandated\": \"Voluntary Mandated\",\n",
    "        \"initial_firm_notification\": \"Initial Firm Notification\",\n",
    "        \"distribution_pattern\": \"Distribution Pattern\",\n",
    "        \"recall_number\": \"Recall Number\",\n",
    "        \"product_description\": \"Product Description\",\n",
    "        \"product_quantity\": \"Product Quantity\",\n",
    "        \"reason_for_recall\": \"Reason for Recall\",\n",
    "        \"recall_initiation_date\": \"Recall Initiation Date\",\n",
    "        \"center_classification_date\": \"Center Classification Date\",\n",
    "        \"termination_date\": \"Termination Date\",\n",
    "        \"report_date\": \"Report Date\",\n",
    "        \"code_info\": \"Code Info\",\n",
    "        \"more_code_info\": \"More Code Info\",\n",
    "    })\n",
    "\n",
    "    # Filter for United States recalls\n",
    "    us_recall_df = clean_df[clean_df['Country'] == \"United States\"]\n",
    "\n",
    "    # Get unique classifications\n",
    "    classifications = us_recall_df['Classification'].unique()\n",
    "\n",
    "    # Initialize a figure\n",
    "    fig = px.choropleth(\n",
    "        us_recall_df,\n",
    "        locations='State',\n",
    "        locationmode=\"USA-states\",\n",
    "        color='Classification',  # Initial color setting (you can set a default classification)\n",
    "        color_continuous_scale=\"YlGnBu\",\n",
    "        scope=\"usa\",\n",
    "        title=\"FDA Recalls by State\",\n",
    "    )\n",
    "\n",
    "    # Update layout with dropdown functionality\n",
    "    fig.update_layout(\n",
    "        updatemenus=[\n",
    "            {\n",
    "                \"buttons\": [\n",
    "                    {\n",
    "                        \"label\": classification,\n",
    "                        \"method\": \"update\",\n",
    "                        \"args\": [\n",
    "                            {\n",
    "                                \"locations\": 'State',\n",
    "                                \"z\": us_recall_df[us_recall_df['Classification'] == classification]\n",
    "                                             .groupby('State')['Classification']\n",
    "                                             .count()  # Count recalls for selected classification\n",
    "                                             .reindex(state_counts['State']).fillna(0)  # Align with state counts\n",
    "                            },\n",
    "                            {\n",
    "                                \"title\": f\"FDA Recalls by State: {classification}\",\n",
    "                            },\n",
    "                        ],\n",
    "                    } for classification in classifications\n",
    "                ],\n",
    "                \"direction\": \"down\",\n",
    "                \"showactive\": True,\n",
    "            },\n",
    "        ],\n",
    "    )\n",
    "\n",
    "    # Set initial counts\n",
    "    state_counts = us_recall_df.groupby('State').size().reset_index(name='Count')\n",
    "\n",
    "    fig.add_trace(\n",
    "        px.choropleth(\n",
    "            state_counts,\n",
    "            locations='State',\n",
    "            locationmode=\"USA-states\",\n",
    "            color='Count',\n",
    "            color_continuous_scale=\"YlGnBu\",\n",
    "            scope=\"usa\"\n",
    "        ).data[0]  # Grab the first data trace from the choropleth of counts\n",
    "    )\n",
    "\n",
    "    fig.update_geos(fitbounds=\"locations\", visible=False)\n",
    "    fig.update_layout(\n",
    "        geo=dict(\n",
    "            lakecolor='rgb(255, 255, 255)'\n",
    "        )\n",
    "    )\n",
    "\n",
    "    # Save the figure as an interactive HTML file\n",
    "    fig.write_html(\"./output_data/fda_recalls_by_classification_with_counts.html\")\n",
    "\n",
    "    print(\"Interactive HTML map saved as 'fda_recalls_by_classification_with_counts.html'.\")\n",
    "\n",
    "else:\n",
    "    print(f\"Failed to retrieve data. Status code: {response.status_code}\")\n",
    "\n"
   ]
  },
  {
   "cell_type": "code",
   "execution_count": 28,
   "metadata": {},
   "outputs": [
    {
     "data": {
      "text/html": [
       "<div>\n",
       "<style scoped>\n",
       "    .dataframe tbody tr th:only-of-type {\n",
       "        vertical-align: middle;\n",
       "    }\n",
       "\n",
       "    .dataframe tbody tr th {\n",
       "        vertical-align: top;\n",
       "    }\n",
       "\n",
       "    .dataframe thead th {\n",
       "        text-align: right;\n",
       "    }\n",
       "</style>\n",
       "<table border=\"1\" class=\"dataframe\">\n",
       "  <thead>\n",
       "    <tr style=\"text-align: right;\">\n",
       "      <th></th>\n",
       "      <th>State</th>\n",
       "      <th>Count</th>\n",
       "    </tr>\n",
       "  </thead>\n",
       "  <tbody>\n",
       "    <tr>\n",
       "      <th>0</th>\n",
       "      <td>CA</td>\n",
       "      <td>54</td>\n",
       "    </tr>\n",
       "    <tr>\n",
       "      <th>1</th>\n",
       "      <td>NY</td>\n",
       "      <td>48</td>\n",
       "    </tr>\n",
       "    <tr>\n",
       "      <th>2</th>\n",
       "      <td>MD</td>\n",
       "      <td>44</td>\n",
       "    </tr>\n",
       "    <tr>\n",
       "      <th>3</th>\n",
       "      <td>OH</td>\n",
       "      <td>42</td>\n",
       "    </tr>\n",
       "    <tr>\n",
       "      <th>4</th>\n",
       "      <td>IL</td>\n",
       "      <td>30</td>\n",
       "    </tr>\n",
       "    <tr>\n",
       "      <th>5</th>\n",
       "      <td>FL</td>\n",
       "      <td>28</td>\n",
       "    </tr>\n",
       "    <tr>\n",
       "      <th>6</th>\n",
       "      <td>GA</td>\n",
       "      <td>21</td>\n",
       "    </tr>\n",
       "    <tr>\n",
       "      <th>7</th>\n",
       "      <td>WA</td>\n",
       "      <td>19</td>\n",
       "    </tr>\n",
       "    <tr>\n",
       "      <th>8</th>\n",
       "      <td>OR</td>\n",
       "      <td>15</td>\n",
       "    </tr>\n",
       "    <tr>\n",
       "      <th>9</th>\n",
       "      <td>TX</td>\n",
       "      <td>15</td>\n",
       "    </tr>\n",
       "    <tr>\n",
       "      <th>10</th>\n",
       "      <td>NJ</td>\n",
       "      <td>14</td>\n",
       "    </tr>\n",
       "    <tr>\n",
       "      <th>11</th>\n",
       "      <td>PA</td>\n",
       "      <td>13</td>\n",
       "    </tr>\n",
       "    <tr>\n",
       "      <th>12</th>\n",
       "      <td>MN</td>\n",
       "      <td>12</td>\n",
       "    </tr>\n",
       "    <tr>\n",
       "      <th>13</th>\n",
       "      <td>MI</td>\n",
       "      <td>12</td>\n",
       "    </tr>\n",
       "    <tr>\n",
       "      <th>14</th>\n",
       "      <td>WI</td>\n",
       "      <td>11</td>\n",
       "    </tr>\n",
       "    <tr>\n",
       "      <th>15</th>\n",
       "      <td>NM</td>\n",
       "      <td>9</td>\n",
       "    </tr>\n",
       "    <tr>\n",
       "      <th>16</th>\n",
       "      <td>MA</td>\n",
       "      <td>9</td>\n",
       "    </tr>\n",
       "    <tr>\n",
       "      <th>17</th>\n",
       "      <td>IA</td>\n",
       "      <td>8</td>\n",
       "    </tr>\n",
       "    <tr>\n",
       "      <th>18</th>\n",
       "      <td>VA</td>\n",
       "      <td>8</td>\n",
       "    </tr>\n",
       "    <tr>\n",
       "      <th>19</th>\n",
       "      <td>UT</td>\n",
       "      <td>8</td>\n",
       "    </tr>\n",
       "    <tr>\n",
       "      <th>20</th>\n",
       "      <td>KS</td>\n",
       "      <td>8</td>\n",
       "    </tr>\n",
       "    <tr>\n",
       "      <th>21</th>\n",
       "      <td>ID</td>\n",
       "      <td>7</td>\n",
       "    </tr>\n",
       "    <tr>\n",
       "      <th>22</th>\n",
       "      <td>VT</td>\n",
       "      <td>7</td>\n",
       "    </tr>\n",
       "    <tr>\n",
       "      <th>23</th>\n",
       "      <td>NC</td>\n",
       "      <td>6</td>\n",
       "    </tr>\n",
       "    <tr>\n",
       "      <th>24</th>\n",
       "      <td>AZ</td>\n",
       "      <td>5</td>\n",
       "    </tr>\n",
       "    <tr>\n",
       "      <th>25</th>\n",
       "      <td>CO</td>\n",
       "      <td>5</td>\n",
       "    </tr>\n",
       "    <tr>\n",
       "      <th>26</th>\n",
       "      <td>WY</td>\n",
       "      <td>4</td>\n",
       "    </tr>\n",
       "    <tr>\n",
       "      <th>27</th>\n",
       "      <td>MO</td>\n",
       "      <td>4</td>\n",
       "    </tr>\n",
       "    <tr>\n",
       "      <th>28</th>\n",
       "      <td>CT</td>\n",
       "      <td>4</td>\n",
       "    </tr>\n",
       "    <tr>\n",
       "      <th>29</th>\n",
       "      <td>IN</td>\n",
       "      <td>4</td>\n",
       "    </tr>\n",
       "    <tr>\n",
       "      <th>30</th>\n",
       "      <td>NH</td>\n",
       "      <td>3</td>\n",
       "    </tr>\n",
       "    <tr>\n",
       "      <th>31</th>\n",
       "      <td>PR</td>\n",
       "      <td>2</td>\n",
       "    </tr>\n",
       "    <tr>\n",
       "      <th>32</th>\n",
       "      <td>SC</td>\n",
       "      <td>2</td>\n",
       "    </tr>\n",
       "    <tr>\n",
       "      <th>33</th>\n",
       "      <td>AR</td>\n",
       "      <td>2</td>\n",
       "    </tr>\n",
       "    <tr>\n",
       "      <th>34</th>\n",
       "      <td>AL</td>\n",
       "      <td>1</td>\n",
       "    </tr>\n",
       "    <tr>\n",
       "      <th>35</th>\n",
       "      <td>OK</td>\n",
       "      <td>1</td>\n",
       "    </tr>\n",
       "    <tr>\n",
       "      <th>36</th>\n",
       "      <td>DE</td>\n",
       "      <td>1</td>\n",
       "    </tr>\n",
       "    <tr>\n",
       "      <th>37</th>\n",
       "      <td>KY</td>\n",
       "      <td>1</td>\n",
       "    </tr>\n",
       "    <tr>\n",
       "      <th>38</th>\n",
       "      <td>MS</td>\n",
       "      <td>1</td>\n",
       "    </tr>\n",
       "    <tr>\n",
       "      <th>39</th>\n",
       "      <td>NE</td>\n",
       "      <td>1</td>\n",
       "    </tr>\n",
       "    <tr>\n",
       "      <th>40</th>\n",
       "      <td>NV</td>\n",
       "      <td>1</td>\n",
       "    </tr>\n",
       "    <tr>\n",
       "      <th>41</th>\n",
       "      <td>ND</td>\n",
       "      <td>1</td>\n",
       "    </tr>\n",
       "  </tbody>\n",
       "</table>\n",
       "</div>"
      ],
      "text/plain": [
       "   State  Count\n",
       "0     CA     54\n",
       "1     NY     48\n",
       "2     MD     44\n",
       "3     OH     42\n",
       "4     IL     30\n",
       "5     FL     28\n",
       "6     GA     21\n",
       "7     WA     19\n",
       "8     OR     15\n",
       "9     TX     15\n",
       "10    NJ     14\n",
       "11    PA     13\n",
       "12    MN     12\n",
       "13    MI     12\n",
       "14    WI     11\n",
       "15    NM      9\n",
       "16    MA      9\n",
       "17    IA      8\n",
       "18    VA      8\n",
       "19    UT      8\n",
       "20    KS      8\n",
       "21    ID      7\n",
       "22    VT      7\n",
       "23    NC      6\n",
       "24    AZ      5\n",
       "25    CO      5\n",
       "26    WY      4\n",
       "27    MO      4\n",
       "28    CT      4\n",
       "29    IN      4\n",
       "30    NH      3\n",
       "31    PR      2\n",
       "32    SC      2\n",
       "33    AR      2\n",
       "34    AL      1\n",
       "35    OK      1\n",
       "36    DE      1\n",
       "37    KY      1\n",
       "38    MS      1\n",
       "39    NE      1\n",
       "40    NV      1\n",
       "41    ND      1"
      ]
     },
     "execution_count": 28,
     "metadata": {},
     "output_type": "execute_result"
    }
   ],
   "source": [
    "state_counts\n",
    "#print(clean_df.head()) "
   ]
  },
  {
   "cell_type": "code",
   "execution_count": null,
   "metadata": {},
   "outputs": [],
   "source": [
    "us_recall_df = clean_df[clean_df['Country'] == \"United States\"]"
   ]
  },
  {
   "cell_type": "code",
   "execution_count": null,
   "metadata": {},
   "outputs": [],
   "source": [
    "us_recall_df.to_csv('output_data/fda_food_enforcement_data.csv', index=False)"
   ]
  }
 ],
 "metadata": {
  "kernelspec": {
   "display_name": "base",
   "language": "python",
   "name": "python3"
  },
  "language_info": {
   "codemirror_mode": {
    "name": "ipython",
    "version": 3
   },
   "file_extension": ".py",
   "mimetype": "text/x-python",
   "name": "python",
   "nbconvert_exporter": "python",
   "pygments_lexer": "ipython3",
   "version": "3.12.4"
  }
 },
 "nbformat": 4,
 "nbformat_minor": 2
}
