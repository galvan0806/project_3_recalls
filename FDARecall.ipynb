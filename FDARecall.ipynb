{
 "cells": [
  {
   "cell_type": "code",
   "execution_count": 4,
   "metadata": {},
   "outputs": [],
   "source": [
    "import requests\n",
    "import pandas as pd\n",
    "from pymongo import MongoClient\n",
    "from datetime import datetime\n",
    "\n",
    "# Define the API endpoint and parameters\n",
    "url = \"https://api.fda.gov/food/enforcement.json?search=report_date:[20200101+TO+20241005]&limit=500\"\n",
    "\n",
    "# Send a GET request to the API\n",
    "response = requests.get(url)\n",
    "\n",
    "if response.status_code == 200:\n",
    "    data = response.json()\n",
    "    recalls = data.get('results', [])\n",
    "    recall_df = pd.DataFrame(recalls)\n",
    "\n",
    "    clean_df = recall_df.rename(columns={\n",
    "        \"status\": \"Status\", \n",
    "        \"city\": \"City\",\n",
    "        \"state\": \"State\",\n",
    "        \"country\":\"Country\",\n",
    "        \"classification\":\"Classification\",\n",
    "        \"openfda\":\"Open FDA\",\n",
    "        \"product_type\":\"Product Type\",\n",
    "        \"event_id\":\"Event ID\",\n",
    "        \"recalling_firm\":\"Recalling Firm\",\n",
    "        \"address_1\":\"Address 1\",\n",
    "        \"address_2\":\"Address 2\",\n",
    "        \"postal_code\":\"Postal Code\",\n",
    "        \"voluntary_mandated\":\"Voluntary Mandated\",\n",
    "        \"initial_firm_notification\":\"Initial Firm Notification\",\n",
    "        \"distribution_pattern\":\"Distribution Pattern\",\n",
    "        \"recall_number\":\"Recall Number\",\n",
    "        \"product_description\":\"Product Description\",\n",
    "        \"product_quantity\":\"Product Quantity\",\n",
    "        \"reason_for_recall\":\"Reason for Recall\",\n",
    "        \"recall_initiation_date\":\"Recall Initiation Date\",\n",
    "        \"center_classification_date\":\"Center Classification Date\",\n",
    "        \"termination_date\":\"Termination Date\",\n",
    "        \"report_date\":\"Report Date\",\n",
    "        \"code_info\":\"Code Info\",\n",
    "        \"more_code_info\":\"More Code Info\",\n",
    "    })\n",
    "\n",
    "    # Convert DataFrame to dictionary format for MongoDB\n",
    "    recall_records = clean_df.to_dict(\"records\")\n",
    "\n",
    "    # Modify records to ensure the correct structure\n",
    "    for record in recall_records:\n",
    "        record['recall_number'] = record.get('recall_number', '')  # Primary key\n",
    "        record['recall_initiation_date'] = datetime.strptime(record.get('recall_initiation_date', '1900-01-01'), '%Y%m%d') if record.get('recall_initiation_date') else None\n",
    "        record['recall_classification'] = record.get('classification', '')  # Classification as VARCHAR(50)\n",
    "        record['status'] = record.get('status', '')  # Status as VARCHAR(50)\n",
    "        record['product_description'] = record.get('product_description', '')  # Description as TEXT\n",
    "        record['code_info'] = record.get('code_info', '')  # Code info as TEXT\n",
    "        record['recalling_firm'] = record.get('recalling_firm', '')  # Firm as VARCHAR(50)\n",
    "        record['reason_for_recall'] = record.get('reason_for_recall', '')  # Reason as TEXT\n",
    "        record['distribution_pattern'] = record.get('distribution_pattern', '')  # Pattern as TEXT\n",
    "        record['state'] = record.get('state', '')  # State as VARCHAR(50)\n",
    "        record['report_date'] = datetime.strptime(record.get('report_date', '1900-01-01'), '%Y%m%d') if record.get('report_date') else None\n",
    "        record['voluntary_mandated'] = record.get('voluntary_mandated', '')  # Voluntary/Mandated as VARCHAR(50)\n",
    "        record['event_id'] = record.get('event_id', '')  # Event ID as VARCHAR(50)\n",
    "\n",
    "    # Connect to MongoDB\n",
    "    client = MongoClient('mongodb://localhost:27017/')  # Or use your MongoDB URI\n",
    "    db = client['fda_recall_data']  # Database name\n",
    "    collection = db['recalls']  # Collection name\n",
    "\n",
    "    # Insert modified data into MongoDB\n",
    "    collection.insert_many(recall_records)\n",
    "\n",
    "    # Example: Query data back from MongoDB\n",
    "    recalls_from_db = list(collection.find())\n",
    "\n",
    "    # Convert back to DataFrame if needed\n",
    "    db_df = pd.DataFrame(recalls_from_db)\n",
    "\n",
    "    # Close the connection\n",
    "    client.close()\n",
    "else:\n",
    "    print(f\"Failed to retrieve data: {response.status_code}\")\n"
   ]
  },
  {
   "cell_type": "code",
   "execution_count": 2,
   "metadata": {},
   "outputs": [],
   "source": [
    "#print(clean_df.head()) "
   ]
  },
  {
   "cell_type": "code",
   "execution_count": 5,
   "metadata": {},
   "outputs": [],
   "source": [
    "us_recall_df = clean_df[clean_df['Country'] == \"United States\"]"
   ]
  },
  {
   "cell_type": "code",
   "execution_count": 8,
   "metadata": {},
   "outputs": [],
   "source": [
    "us_recall_df.to_csv('output_data/fda_food_enforcement_data.csv', index=False)"
   ]
  }
 ],
 "metadata": {
  "kernelspec": {
   "display_name": "base",
   "language": "python",
   "name": "python3"
  },
  "language_info": {
   "codemirror_mode": {
    "name": "ipython",
    "version": 3
   },
   "file_extension": ".py",
   "mimetype": "text/x-python",
   "name": "python",
   "nbconvert_exporter": "python",
   "pygments_lexer": "ipython3",
   "version": "3.12.4"
  }
 },
 "nbformat": 4,
 "nbformat_minor": 2
}
