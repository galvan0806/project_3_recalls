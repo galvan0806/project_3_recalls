{
 "cells": [
  {
   "cell_type": "code",
   "execution_count": 1,
   "metadata": {},
   "outputs": [],
   "source": [
    "import requests\n",
    "import pandas as pd\n",
    "from pymongo import MongoClient\n",
    "from datetime import datetime\n",
    "import plotly.express as px\n",
    "from geopy.geocoders import Nominatim\n",
    "import time\n",
    "import plotly.graph_objects as go\n",
    "import seaborn as sns\n",
    "import matplotlib.pyplot as plt\n",
    "from ipywidgets import widgets\n",
    "from IPython.display import display, clear_output\n",
    "import ipywidgets as widgets\n",
    "from ipywidgets import interact\n",
    "\n",
    "# Define the API endpoint and parameters\n",
    "url = \"https://api.fda.gov/food/enforcement.json?search=report_date:[20200101+TO+20241005]&limit=500\"\n",
    "\n",
    "# Send a GET request to the API\n",
    "response = requests.get(url)\n",
    "\n",
    "if response.status_code == 200:\n",
    "    data = response.json()\n",
    "    recalls = data.get('results', [])\n",
    "    recall_df = pd.DataFrame(recalls)\n",
    "\n",
    "    clean_df = recall_df.rename(columns={\n",
    "        \"status\": \"Status\", \n",
    "        \"city\": \"City\",\n",
    "        \"state\": \"State\",\n",
    "        \"country\":\"Country\",\n",
    "        \"classification\":\"Classification\",\n",
    "        \"openfda\":\"Open FDA\",\n",
    "        \"product_type\":\"Product Type\",\n",
    "        \"event_id\":\"Event ID\",\n",
    "        \"recalling_firm\":\"Recalling Firm\",\n",
    "        \"address_1\":\"Address 1\",\n",
    "        \"address_2\":\"Address 2\",\n",
    "        \"postal_code\":\"Postal Code\",\n",
    "        \"voluntary_mandated\":\"Voluntary Mandated\",\n",
    "        \"initial_firm_notification\":\"Initial Firm Notification\",\n",
    "        \"distribution_pattern\":\"Distribution Pattern\",\n",
    "        \"recall_number\":\"Recall Number\",\n",
    "        \"product_description\":\"Product Description\",\n",
    "        \"product_quantity\":\"Product Quantity\",\n",
    "        \"reason_for_recall\":\"Reason for Recall\",\n",
    "        \"recall_initiation_date\":\"Recall Initiation Date\",\n",
    "        \"center_classification_date\":\"Center Classification Date\",\n",
    "        \"termination_date\":\"Termination Date\",\n",
    "        \"report_date\":\"Report Date\",\n",
    "        \"code_info\":\"Code Info\",\n",
    "        \"more_code_info\":\"More Code Info\",\n",
    "    })\n",
    "\n",
    "    # Convert DataFrame to dictionary format for MongoDB\n",
    "    recall_records = clean_df.to_dict(\"records\")\n",
    "\n",
    "    # Connect to MongoDB\n",
    "    client = MongoClient('mongodb://localhost:27017/')  # Or use your MongoDB URI\n",
    "    db = client['fda_recall_data']  # Database name\n",
    "    collection = db['recalls']  # Collection name\n",
    "\n",
    "    # Insert modified data into MongoDB\n",
    "    collection.insert_many(recall_records)\n",
    "\n",
    "    # Example: Query data back from MongoDB\n",
    "    recalls_from_db = list(collection.find())\n",
    "\n",
    "    # Convert back to DataFrame if needed\n",
    "    db_df = pd.DataFrame(recalls_from_db)\n",
    "    \n",
    "else:\n",
    "    print(f\"Failed to retrieve data: {response.status_code}\")"
   ]
  },
  {
   "cell_type": "code",
   "execution_count": 2,
   "metadata": {},
   "outputs": [
    {
     "data": {
      "application/vnd.plotly.v1+json": {
       "config": {
        "plotlyServerURL": "https://plot.ly"
       },
       "data": [
        {
         "coloraxis": "coloraxis",
         "geo": "geo",
         "hovertemplate": "State=%{location}<br>Count=%{z}<extra></extra>",
         "locationmode": "USA-states",
         "locations": [
          "AL",
          "AR",
          "AZ",
          "CA",
          "CO",
          "CT",
          "DE",
          "FL",
          "GA",
          "IA",
          "ID",
          "IL",
          "IN",
          "KS",
          "KY",
          "MA",
          "MD",
          "MI",
          "MN",
          "MO",
          "MS",
          "N/A",
          "NC",
          "ND",
          "NE",
          "NH",
          "NJ",
          "NM",
          "NV",
          "NY",
          "OH",
          "OK",
          "OR",
          "PA",
          "PR",
          "SC",
          "TX",
          "UT",
          "VA",
          "VT",
          "WA",
          "WI",
          "WY"
         ],
         "name": "",
         "type": "choropleth",
         "z": [
          34,
          68,
          170,
          1836,
          170,
          136,
          34,
          952,
          714,
          272,
          238,
          1020,
          136,
          272,
          34,
          306,
          1496,
          408,
          408,
          136,
          34,
          102,
          204,
          34,
          34,
          102,
          476,
          306,
          34,
          1632,
          1428,
          34,
          510,
          442,
          68,
          68,
          510,
          272,
          272,
          238,
          646,
          374,
          136
         ]
        }
       ],
       "layout": {
        "coloraxis": {
         "colorbar": {
          "title": {
           "text": "Count"
          }
         },
         "colorscale": [
          [
           0,
           "rgb(255,255,217)"
          ],
          [
           0.125,
           "rgb(237,248,177)"
          ],
          [
           0.25,
           "rgb(199,233,180)"
          ],
          [
           0.375,
           "rgb(127,205,187)"
          ],
          [
           0.5,
           "rgb(65,182,196)"
          ],
          [
           0.625,
           "rgb(29,145,192)"
          ],
          [
           0.75,
           "rgb(34,94,168)"
          ],
          [
           0.875,
           "rgb(37,52,148)"
          ],
          [
           1,
           "rgb(8,29,88)"
          ]
         ]
        },
        "geo": {
         "center": {},
         "domain": {
          "x": [
           0,
           1
          ],
          "y": [
           0,
           1
          ]
         },
         "lakecolor": "rgb(255, 255, 255)",
         "scope": "usa"
        },
        "legend": {
         "tracegroupgap": 0
        },
        "template": {
         "data": {
          "bar": [
           {
            "error_x": {
             "color": "#2a3f5f"
            },
            "error_y": {
             "color": "#2a3f5f"
            },
            "marker": {
             "line": {
              "color": "#E5ECF6",
              "width": 0.5
             },
             "pattern": {
              "fillmode": "overlay",
              "size": 10,
              "solidity": 0.2
             }
            },
            "type": "bar"
           }
          ],
          "barpolar": [
           {
            "marker": {
             "line": {
              "color": "#E5ECF6",
              "width": 0.5
             },
             "pattern": {
              "fillmode": "overlay",
              "size": 10,
              "solidity": 0.2
             }
            },
            "type": "barpolar"
           }
          ],
          "carpet": [
           {
            "aaxis": {
             "endlinecolor": "#2a3f5f",
             "gridcolor": "white",
             "linecolor": "white",
             "minorgridcolor": "white",
             "startlinecolor": "#2a3f5f"
            },
            "baxis": {
             "endlinecolor": "#2a3f5f",
             "gridcolor": "white",
             "linecolor": "white",
             "minorgridcolor": "white",
             "startlinecolor": "#2a3f5f"
            },
            "type": "carpet"
           }
          ],
          "choropleth": [
           {
            "colorbar": {
             "outlinewidth": 0,
             "ticks": ""
            },
            "type": "choropleth"
           }
          ],
          "contour": [
           {
            "colorbar": {
             "outlinewidth": 0,
             "ticks": ""
            },
            "colorscale": [
             [
              0,
              "#0d0887"
             ],
             [
              0.1111111111111111,
              "#46039f"
             ],
             [
              0.2222222222222222,
              "#7201a8"
             ],
             [
              0.3333333333333333,
              "#9c179e"
             ],
             [
              0.4444444444444444,
              "#bd3786"
             ],
             [
              0.5555555555555556,
              "#d8576b"
             ],
             [
              0.6666666666666666,
              "#ed7953"
             ],
             [
              0.7777777777777778,
              "#fb9f3a"
             ],
             [
              0.8888888888888888,
              "#fdca26"
             ],
             [
              1,
              "#f0f921"
             ]
            ],
            "type": "contour"
           }
          ],
          "contourcarpet": [
           {
            "colorbar": {
             "outlinewidth": 0,
             "ticks": ""
            },
            "type": "contourcarpet"
           }
          ],
          "heatmap": [
           {
            "colorbar": {
             "outlinewidth": 0,
             "ticks": ""
            },
            "colorscale": [
             [
              0,
              "#0d0887"
             ],
             [
              0.1111111111111111,
              "#46039f"
             ],
             [
              0.2222222222222222,
              "#7201a8"
             ],
             [
              0.3333333333333333,
              "#9c179e"
             ],
             [
              0.4444444444444444,
              "#bd3786"
             ],
             [
              0.5555555555555556,
              "#d8576b"
             ],
             [
              0.6666666666666666,
              "#ed7953"
             ],
             [
              0.7777777777777778,
              "#fb9f3a"
             ],
             [
              0.8888888888888888,
              "#fdca26"
             ],
             [
              1,
              "#f0f921"
             ]
            ],
            "type": "heatmap"
           }
          ],
          "heatmapgl": [
           {
            "colorbar": {
             "outlinewidth": 0,
             "ticks": ""
            },
            "colorscale": [
             [
              0,
              "#0d0887"
             ],
             [
              0.1111111111111111,
              "#46039f"
             ],
             [
              0.2222222222222222,
              "#7201a8"
             ],
             [
              0.3333333333333333,
              "#9c179e"
             ],
             [
              0.4444444444444444,
              "#bd3786"
             ],
             [
              0.5555555555555556,
              "#d8576b"
             ],
             [
              0.6666666666666666,
              "#ed7953"
             ],
             [
              0.7777777777777778,
              "#fb9f3a"
             ],
             [
              0.8888888888888888,
              "#fdca26"
             ],
             [
              1,
              "#f0f921"
             ]
            ],
            "type": "heatmapgl"
           }
          ],
          "histogram": [
           {
            "marker": {
             "pattern": {
              "fillmode": "overlay",
              "size": 10,
              "solidity": 0.2
             }
            },
            "type": "histogram"
           }
          ],
          "histogram2d": [
           {
            "colorbar": {
             "outlinewidth": 0,
             "ticks": ""
            },
            "colorscale": [
             [
              0,
              "#0d0887"
             ],
             [
              0.1111111111111111,
              "#46039f"
             ],
             [
              0.2222222222222222,
              "#7201a8"
             ],
             [
              0.3333333333333333,
              "#9c179e"
             ],
             [
              0.4444444444444444,
              "#bd3786"
             ],
             [
              0.5555555555555556,
              "#d8576b"
             ],
             [
              0.6666666666666666,
              "#ed7953"
             ],
             [
              0.7777777777777778,
              "#fb9f3a"
             ],
             [
              0.8888888888888888,
              "#fdca26"
             ],
             [
              1,
              "#f0f921"
             ]
            ],
            "type": "histogram2d"
           }
          ],
          "histogram2dcontour": [
           {
            "colorbar": {
             "outlinewidth": 0,
             "ticks": ""
            },
            "colorscale": [
             [
              0,
              "#0d0887"
             ],
             [
              0.1111111111111111,
              "#46039f"
             ],
             [
              0.2222222222222222,
              "#7201a8"
             ],
             [
              0.3333333333333333,
              "#9c179e"
             ],
             [
              0.4444444444444444,
              "#bd3786"
             ],
             [
              0.5555555555555556,
              "#d8576b"
             ],
             [
              0.6666666666666666,
              "#ed7953"
             ],
             [
              0.7777777777777778,
              "#fb9f3a"
             ],
             [
              0.8888888888888888,
              "#fdca26"
             ],
             [
              1,
              "#f0f921"
             ]
            ],
            "type": "histogram2dcontour"
           }
          ],
          "mesh3d": [
           {
            "colorbar": {
             "outlinewidth": 0,
             "ticks": ""
            },
            "type": "mesh3d"
           }
          ],
          "parcoords": [
           {
            "line": {
             "colorbar": {
              "outlinewidth": 0,
              "ticks": ""
             }
            },
            "type": "parcoords"
           }
          ],
          "pie": [
           {
            "automargin": true,
            "type": "pie"
           }
          ],
          "scatter": [
           {
            "fillpattern": {
             "fillmode": "overlay",
             "size": 10,
             "solidity": 0.2
            },
            "type": "scatter"
           }
          ],
          "scatter3d": [
           {
            "line": {
             "colorbar": {
              "outlinewidth": 0,
              "ticks": ""
             }
            },
            "marker": {
             "colorbar": {
              "outlinewidth": 0,
              "ticks": ""
             }
            },
            "type": "scatter3d"
           }
          ],
          "scattercarpet": [
           {
            "marker": {
             "colorbar": {
              "outlinewidth": 0,
              "ticks": ""
             }
            },
            "type": "scattercarpet"
           }
          ],
          "scattergeo": [
           {
            "marker": {
             "colorbar": {
              "outlinewidth": 0,
              "ticks": ""
             }
            },
            "type": "scattergeo"
           }
          ],
          "scattergl": [
           {
            "marker": {
             "colorbar": {
              "outlinewidth": 0,
              "ticks": ""
             }
            },
            "type": "scattergl"
           }
          ],
          "scattermapbox": [
           {
            "marker": {
             "colorbar": {
              "outlinewidth": 0,
              "ticks": ""
             }
            },
            "type": "scattermapbox"
           }
          ],
          "scatterpolar": [
           {
            "marker": {
             "colorbar": {
              "outlinewidth": 0,
              "ticks": ""
             }
            },
            "type": "scatterpolar"
           }
          ],
          "scatterpolargl": [
           {
            "marker": {
             "colorbar": {
              "outlinewidth": 0,
              "ticks": ""
             }
            },
            "type": "scatterpolargl"
           }
          ],
          "scatterternary": [
           {
            "marker": {
             "colorbar": {
              "outlinewidth": 0,
              "ticks": ""
             }
            },
            "type": "scatterternary"
           }
          ],
          "surface": [
           {
            "colorbar": {
             "outlinewidth": 0,
             "ticks": ""
            },
            "colorscale": [
             [
              0,
              "#0d0887"
             ],
             [
              0.1111111111111111,
              "#46039f"
             ],
             [
              0.2222222222222222,
              "#7201a8"
             ],
             [
              0.3333333333333333,
              "#9c179e"
             ],
             [
              0.4444444444444444,
              "#bd3786"
             ],
             [
              0.5555555555555556,
              "#d8576b"
             ],
             [
              0.6666666666666666,
              "#ed7953"
             ],
             [
              0.7777777777777778,
              "#fb9f3a"
             ],
             [
              0.8888888888888888,
              "#fdca26"
             ],
             [
              1,
              "#f0f921"
             ]
            ],
            "type": "surface"
           }
          ],
          "table": [
           {
            "cells": {
             "fill": {
              "color": "#EBF0F8"
             },
             "line": {
              "color": "white"
             }
            },
            "header": {
             "fill": {
              "color": "#C8D4E3"
             },
             "line": {
              "color": "white"
             }
            },
            "type": "table"
           }
          ]
         },
         "layout": {
          "annotationdefaults": {
           "arrowcolor": "#2a3f5f",
           "arrowhead": 0,
           "arrowwidth": 1
          },
          "autotypenumbers": "strict",
          "coloraxis": {
           "colorbar": {
            "outlinewidth": 0,
            "ticks": ""
           }
          },
          "colorscale": {
           "diverging": [
            [
             0,
             "#8e0152"
            ],
            [
             0.1,
             "#c51b7d"
            ],
            [
             0.2,
             "#de77ae"
            ],
            [
             0.3,
             "#f1b6da"
            ],
            [
             0.4,
             "#fde0ef"
            ],
            [
             0.5,
             "#f7f7f7"
            ],
            [
             0.6,
             "#e6f5d0"
            ],
            [
             0.7,
             "#b8e186"
            ],
            [
             0.8,
             "#7fbc41"
            ],
            [
             0.9,
             "#4d9221"
            ],
            [
             1,
             "#276419"
            ]
           ],
           "sequential": [
            [
             0,
             "#0d0887"
            ],
            [
             0.1111111111111111,
             "#46039f"
            ],
            [
             0.2222222222222222,
             "#7201a8"
            ],
            [
             0.3333333333333333,
             "#9c179e"
            ],
            [
             0.4444444444444444,
             "#bd3786"
            ],
            [
             0.5555555555555556,
             "#d8576b"
            ],
            [
             0.6666666666666666,
             "#ed7953"
            ],
            [
             0.7777777777777778,
             "#fb9f3a"
            ],
            [
             0.8888888888888888,
             "#fdca26"
            ],
            [
             1,
             "#f0f921"
            ]
           ],
           "sequentialminus": [
            [
             0,
             "#0d0887"
            ],
            [
             0.1111111111111111,
             "#46039f"
            ],
            [
             0.2222222222222222,
             "#7201a8"
            ],
            [
             0.3333333333333333,
             "#9c179e"
            ],
            [
             0.4444444444444444,
             "#bd3786"
            ],
            [
             0.5555555555555556,
             "#d8576b"
            ],
            [
             0.6666666666666666,
             "#ed7953"
            ],
            [
             0.7777777777777778,
             "#fb9f3a"
            ],
            [
             0.8888888888888888,
             "#fdca26"
            ],
            [
             1,
             "#f0f921"
            ]
           ]
          },
          "colorway": [
           "#636efa",
           "#EF553B",
           "#00cc96",
           "#ab63fa",
           "#FFA15A",
           "#19d3f3",
           "#FF6692",
           "#B6E880",
           "#FF97FF",
           "#FECB52"
          ],
          "font": {
           "color": "#2a3f5f"
          },
          "geo": {
           "bgcolor": "white",
           "lakecolor": "white",
           "landcolor": "#E5ECF6",
           "showlakes": true,
           "showland": true,
           "subunitcolor": "white"
          },
          "hoverlabel": {
           "align": "left"
          },
          "hovermode": "closest",
          "mapbox": {
           "style": "light"
          },
          "paper_bgcolor": "white",
          "plot_bgcolor": "#E5ECF6",
          "polar": {
           "angularaxis": {
            "gridcolor": "white",
            "linecolor": "white",
            "ticks": ""
           },
           "bgcolor": "#E5ECF6",
           "radialaxis": {
            "gridcolor": "white",
            "linecolor": "white",
            "ticks": ""
           }
          },
          "scene": {
           "xaxis": {
            "backgroundcolor": "#E5ECF6",
            "gridcolor": "white",
            "gridwidth": 2,
            "linecolor": "white",
            "showbackground": true,
            "ticks": "",
            "zerolinecolor": "white"
           },
           "yaxis": {
            "backgroundcolor": "#E5ECF6",
            "gridcolor": "white",
            "gridwidth": 2,
            "linecolor": "white",
            "showbackground": true,
            "ticks": "",
            "zerolinecolor": "white"
           },
           "zaxis": {
            "backgroundcolor": "#E5ECF6",
            "gridcolor": "white",
            "gridwidth": 2,
            "linecolor": "white",
            "showbackground": true,
            "ticks": "",
            "zerolinecolor": "white"
           }
          },
          "shapedefaults": {
           "line": {
            "color": "#2a3f5f"
           }
          },
          "ternary": {
           "aaxis": {
            "gridcolor": "white",
            "linecolor": "white",
            "ticks": ""
           },
           "baxis": {
            "gridcolor": "white",
            "linecolor": "white",
            "ticks": ""
           },
           "bgcolor": "#E5ECF6",
           "caxis": {
            "gridcolor": "white",
            "linecolor": "white",
            "ticks": ""
           }
          },
          "title": {
           "x": 0.05
          },
          "xaxis": {
           "automargin": true,
           "gridcolor": "white",
           "linecolor": "white",
           "ticks": "",
           "title": {
            "standoff": 15
           },
           "zerolinecolor": "white",
           "zerolinewidth": 2
          },
          "yaxis": {
           "automargin": true,
           "gridcolor": "white",
           "linecolor": "white",
           "ticks": "",
           "title": {
            "standoff": 15
           },
           "zerolinecolor": "white",
           "zerolinewidth": 2
          }
         }
        },
        "title": {
         "text": "FDA Recalls by State"
        }
       }
      }
     },
     "metadata": {},
     "output_type": "display_data"
    }
   ],
   "source": [
    "# # Connect to MongoDB\n",
    "# client = MongoClient('mongodb://localhost:27017/')  # Replace with your MongoDB URI if necessary\n",
    "# db = client['fda_recall_data']  # Database name\n",
    "# collection = db['recalls']  # Collection name\n",
    "\n",
    "# Query MongoDB and load the data into a pandas DataFrame\n",
    "recalls_cursor = collection.find({\"State\": {\"$ne\": \"\"}}, {\"State\": 1, \"_id\": 0})  # Fetch state data only\n",
    "recalls_df = pd.DataFrame(list(recalls_cursor))\n",
    "\n",
    "# Ensure the 'state' column exists and clean it\n",
    "if 'State' in recalls_df.columns:\n",
    "    recalls_df['State'] = recalls_df['State'].str.upper()  # Ensure all state abbreviations are uppercase\n",
    "\n",
    "# Group by state and count the number of recalls per state\n",
    "state_counts = recalls_df.groupby('State').size().reset_index(name='Count')\n",
    "\n",
    "# Create Plotly choropleth map\n",
    "fig = px.choropleth(\n",
    "    state_counts, \n",
    "    locations='State', \n",
    "    locationmode=\"USA-states\",  # Use state abbreviations for location matching\n",
    "    color='Count', \n",
    "    color_continuous_scale=\"YlGnBu\",  # Green-Blue color scale\n",
    "    scope=\"usa\",  # Limit the map to USA\n",
    "    title=\"FDA Recalls by State\"\n",
    ")\n",
    "\n",
    "# Customize the layout (optional)\n",
    "fig.update_layout(\n",
    "    geo=dict(\n",
    "        lakecolor='rgb(255, 255, 255)'  # Set lake color to white\n",
    "    )\n",
    ")\n",
    "\n",
    "# Save the figure as an interactive HTML file\n",
    "fig.write_html(\"./output_data/fda_recalls_by_state.html\")\n",
    "\n",
    "# Optional: Show the figure in a notebook or browser (for testing or interactive use)\n",
    "fig.show()"
   ]
  },
  {
   "cell_type": "code",
   "execution_count": 3,
   "metadata": {},
   "outputs": [
    {
     "name": "stdout",
     "output_type": "stream",
     "text": [
      "States not present in the dataset: ['AK', 'DC', 'HI', 'LA', 'ME', 'MT', 'RI', 'SD', 'TN', 'WV']\n"
     ]
    }
   ],
   "source": [
    "# List of all 50 U.S. state abbreviations\n",
    "us_states = [\n",
    "    'AL', 'AK', 'AZ', 'AR', 'CA', 'CO', 'CT', 'DE', 'FL', 'GA', 'HI', 'ID', 'IL', 'IN', 'IA', 'KS', 'KY', 'LA', 'ME',\n",
    "    'MD', 'MA', 'MI', 'MN', 'MS', 'MO', 'MT', 'NE', 'NV', 'NH', 'NJ', 'NM', 'NY', 'NC', 'ND', 'OH', 'OK', 'OR', 'PA',\n",
    "    'RI', 'SC', 'SD', 'TN', 'TX', 'UT', 'VT', 'VA', 'WA', 'WV', 'WI', 'WY', 'DC'\n",
    "]\n",
    "\n",
    "# Query MongoDB and load the data into a pandas DataFrame\n",
    "recalls_cursor = collection.find({\"State\": {\"$ne\": \"\"}}, {\"State\": 1, \"_id\": 0})  # Fetch state data only\n",
    "recalls_df = pd.DataFrame(list(recalls_cursor))\n",
    "\n",
    "# Ensure the 'State' column exists and clean it\n",
    "if 'State' in recalls_df.columns:\n",
    "    recalls_df['State'] = recalls_df['State'].str.upper()  # Ensure all state abbreviations are uppercase\n",
    "\n",
    "    # Get unique states present in the dataset\n",
    "    states_in_dataset = recalls_df['State'].unique()\n",
    "\n",
    "    # Find states that are missing from the dataset\n",
    "    missing_states = sorted(set(us_states) - set(states_in_dataset))\n",
    "\n",
    "    # Print the missing states\n",
    "    print(\"States not present in the dataset:\", missing_states)\n",
    "else:\n",
    "    print(\"No state data available in the dataset.\")"
   ]
  },
  {
   "cell_type": "markdown",
   "metadata": {},
   "source": [
    "**With the dataset from Jan 2020 through Oct 2024, there has been 10 states that have not had any FDA Food related recalls.**\n",
    "1. Alaska\n",
    "2. Montana\n",
    "3. South Dakota\n",
    "4. Hawaii\n",
    "5. Louisiana\n",
    "6. Tennessee\n",
    "7. Washington D.C.\n",
    "8. Maine\n",
    "9. West Virginia\n",
    "10. Rhode Island"
   ]
  },
  {
   "cell_type": "markdown",
   "metadata": {},
   "source": [
    "**The code below will take about 5mins to run to create the HTML file since it is using Geopy Library to find latitude and longitude values from the 'City' and 'State' columns from the dataset**"
   ]
  },
  {
   "cell_type": "code",
   "execution_count": 4,
   "metadata": {},
   "outputs": [
    {
     "name": "stdout",
     "output_type": "stream",
     "text": [
      "Map with city markers saved as HTML file.\n"
     ]
    },
    {
     "data": {
      "application/vnd.plotly.v1+json": {
       "config": {
        "plotlyServerURL": "https://plot.ly"
       },
       "data": [
        {
         "customdata": [
          [
           "CA",
           "F-0904-2020",
           "Firm was notified by supplier that Organic Ground Flaxseed powder was under recall by manufacturer due to unapproved herbicide - Haloxyfop"
          ],
          [
           "NY",
           "F-0921-2020",
           "Product contains dried peaches, but front labeling of product stated dried plums"
          ],
          [
           "CA",
           "F-0757-2022",
           "Harvest equipment used in harvesting raw iceberg lettuce was tested by  Dole and found to contain Listeria monocytogenes."
          ],
          [
           "WY",
           "F-1472-2022",
           "Products may potentially contain one or more of the following undeclared tree nuts: Pecans, Almonds, Coconut, Macadamia Nuts, & Walnuts."
          ],
          [
           "IA",
           "F-1671-2024",
           "Potential salmonella contamination"
          ],
          [
           "",
           "F-1233-2022",
           "Potential contamination with Salmonella"
          ],
          [
           "AZ",
           "F-1170-2024",
           "Product recalled due to the presence of yellow oleander and its components in the product."
          ],
          [
           "OH",
           "F-1354-2023",
           "Undeclared Allergen - Soy Flour"
          ],
          [
           "MS",
           "F-0913-2020",
           "Undeclared allergen: Wheat  Undeclared colors: Yellow #5 and #6."
          ],
          [
           "MD",
           "F-1594-2024",
           "Possible contamination with Listeria monocytogenes"
          ],
          [
           "MD",
           "F-0678-2024",
           "Potential Salmonella Contamination"
          ],
          [
           "KS",
           "F-1333-2024",
           "Potential Salmonella Contamination"
          ],
          [
           "KS",
           "F-1159-2022",
           "Sodium metabisulfite not declared on product label."
          ],
          [
           "MA",
           "F-0597-2020",
           "Product may be contaminated with Listeria monocytogenes."
          ],
          [
           "IL",
           "F-1039-2023",
           "Products may contain Salmonella"
          ],
          [
           "MD",
           "F-0459-2023",
           "On 02/03/2023, FRESH IDEATION FOOD GROUP, LLC dba Fresh Creative Cuisine of Baltimore, MD is  initiating a recall of  various products sold from January 24, 2023 through January 30, 2023 because the products have the potential to be contaminated with Listeria monocytogenes ."
          ],
          [
           "CA",
           "F-0358-2022",
           "Probiotic products contaminated with Pseudomonas aeruginosa ."
          ],
          [
           "SC",
           "F-0559-2020",
           "The product contains undeclared sulfites."
          ],
          [
           "AZ",
           "F-0910-2022",
           "Bags and tubs of yogurt covered raisins contained undeclared  peanuts."
          ],
          [
           "MI",
           "F-0829-2023",
           "Listeria monocytogenes"
          ],
          [
           "MI",
           "F-0377-2021",
           "Salmonella"
          ],
          [
           "NY",
           "F-0202-2022",
           "Products contain onions purchased from ProSource and associated with a Salmonella Oranienburg outbreak."
          ],
          [
           "OH",
           "F-0848-2024",
           "The food was not held at an appropriate temperature.  The holding temperature could affect spoilage and potentially support pathogen growth."
          ],
          [
           "NJ",
           "F-0634-2021",
           "Possible metal fragments in Yogurt Bars"
          ],
          [
           "FL",
           "F-1052-2020",
           "Ready to Eat salad products containing iceberg lettuce, red cabbage and/or carrot ingredients are recalled due to a possible health risk from Cyclospora."
          ],
          [
           "NY",
           "F-1745-2024",
           "Product contains elevated levels of lead (2,040ppb)."
          ],
          [
           "CA",
           "F-0346-2024",
           "Potential contamination with Salmonella Thompson"
          ],
          [
           "FL",
           "F-0881-2023",
           "Undeclared Yellow #5"
          ],
          [
           "IL",
           "F-0523-2021",
           "Foreign material"
          ],
          [
           "IL",
           "F-0521-2021",
           "Foreign material"
          ],
          [
           "NM",
           "F-1563-2023",
           "Foreign material: pieces of a pen (writing utensil)."
          ],
          [
           "TX",
           "F-1517-2023",
           "Potential to contain undeclared soy and/or wheat allergen due to mislabeling."
          ],
          [
           "FL",
           "F-1243-2024",
           "Riced Cauliflower tested positive for Listeria monocytogenes."
          ],
          [
           "NY",
           "F-0405-2024",
           "Contains Sodium Nitrite recalled for potential metal contamination"
          ],
          [
           "CA",
           "F-0043-2022",
           "Inspection by the California Department of Public Health found undeclared allergens in numerous bakery products."
          ],
          [
           "GA",
           "F-0263-2023",
           "Due to presence of mold (Aspergillus brasiliensis) and Ochratoxin A."
          ],
          [
           "IL",
           "F-0950-2024",
           "potential Salmonella"
          ],
          [
           "",
           "F-1203-2022",
           "Potential contamination with Salmonella"
          ],
          [
           "FL",
           "F-1230-2024",
           "Undeclared Allergen: milk, eggs, wheat, peanuts, and tree nuts."
          ],
          [
           "WI",
           "F-0227-2022",
           "Onions are being recalled by Keeler Family Farms due to potential Salmonella contamination."
          ],
          [
           "GA",
           "F-0601-2023",
           "Firm did not list sub-ingredients. Undeclared Blue 1; Yellow 5 and 6; Red 40. Remaining major allergens were listed in contains statement and/or ingredient list."
          ],
          [
           "OH",
           "F-0571-2021",
           "Potentially contaminated with Listeria monocytogenes"
          ],
          [
           "WA",
           "F-1332-2020",
           "The firm used pan release spray, which contains soy lecithin, on equipment and finished products labels do not declare soy lecithin."
          ],
          [
           "OH",
           "F-0661-2021",
           "Potassium mg per serving on label is incorrect."
          ],
          [
           "PA",
           "F-1367-2020",
           "Potential contamination with Salmonella Newport  in onions and prepared foods containing onions."
          ],
          [
           "MN",
           "F-0787-2023",
           "Products with a gluten free claim may contain gluten levels above 20 ppm."
          ],
          [
           "WA",
           "F-1790-2022",
           "Undeclared soy lecithin. The canola oil used to grease pans was found to contain soy lecithin."
          ],
          [
           "OH",
           "F-1126-2022",
           "Products are potentially contaminated with Salmonella."
          ],
          [
           "NJ",
           "F-0268-2022",
           "Undeclared milk allergen"
          ],
          [
           "NY",
           "F-0970-2022",
           "may be contaminated with Listeria monocytogenes"
          ],
          [
           "GA",
           "F-0015-2023",
           "Firm received positive test results for L. monocytogenes in a finished product. All products manufactured with the same components are being recalled."
          ],
          [
           "WA",
           "F-0675-2023",
           "Seasoned Dried Pollack was recalled due to undeclared Fish (Pollack), Wheat, Soybean."
          ],
          [
           "IL",
           "F-0327-2022",
           "potential for glass and metal in product"
          ],
          [
           "PA",
           "F-1091-2022",
           "Undeclared milk and wheat"
          ],
          [
           "FL",
           "F-0364-2022",
           "Undeclared Fish and Soy"
          ],
          [
           "WA",
           "F-0988-2022",
           "foreign materials"
          ],
          [
           "IL",
           "F-1197-2023",
           "Products may contain Salmonella"
          ],
          [
           "MI",
           "F-0832-2023",
           "Listeria monocytogenes"
          ],
          [
           "ID",
           "F-0857-2020",
           "The product was found to be adulterated with Norovirus."
          ],
          [
           "NV",
           "F-0921-2021",
           "The required pre-market notifications for these new  infant formulas have not been submitted to the FDA. Some products contain less than 1 milligram of iron per 100 Calories and may not provide adequate iron for some infants, particularly infants born prematurely or with a low birth weight, had low iron levels at birth, or are at risk for becoming iron deficient due to illness. All products are not labeled as required by 21 CFR 107 .10 and 107.20 and do not bear mandatory labeling statements in English."
          ],
          [
           "IL",
           "F-1177-2023",
           "Products may contain Salmonella"
          ],
          [
           "NY",
           "F-0714-2021",
           "Product may be contaminated with Listeria monocytogenes."
          ],
          [
           "CA",
           "F-1218-2024",
           "Undeclared allergen (milk)"
          ],
          [
           "NY",
           "F-1427-2024",
           "Contains undeclared gluten"
          ],
          [
           "MD",
           "F-0237-2024",
           "On 02/03/2023, FRESH IDEATION FOOD GROUP, LLC dba Fresh Creative Cuisine of Baltimore, MD is  initiating a recall of  various products sold from January 24, 2023 through January 30, 2023 because the products have the potential to be contaminated with Listeria monocytogenes ."
          ],
          [
           "NY",
           "F-1492-2024",
           "Product contains undeclared cyclamates."
          ],
          [
           "MN",
           "F-0792-2023",
           "Products with a gluten free claim may contain gluten levels above 20 ppm."
          ],
          [
           "CA",
           "F-1671-2022",
           "Findings and potential for Cronobacter sakazakii and Clostridium botulinum."
          ],
          [
           "OR",
           "F-0738-2020",
           "Undeclared wheat and soybean oil."
          ],
          [
           "PA",
           "F-1098-2022",
           "Undeclared milk"
          ],
          [
           "NY",
           "F-0438-2021",
           "Product may contain a foreign object (blue plastic)."
          ],
          [
           "IA",
           "F-0096-2022",
           "Undeclared soy lecithin."
          ],
          [
           "CA",
           "F-1634-2022",
           "Findings and potential for Cronobacter sakazakii and Clostridium botulinum."
          ],
          [
           "TX",
           "F-0257-2023",
           "Label does not include the common name for the allergens milk and wheat"
          ],
          [
           "NY",
           "F-1479-2020",
           "Recall required by Order of Permanent Injunction. The products are misbranded and deemed unapproved drugs based on labeling claims."
          ],
          [
           "WA",
           "F-1254-2020",
           "Undeclared Wheat and/or Barley."
          ],
          [
           "N/A",
           "F-0978-2021",
           "Undeclared Milk.  Products may be contaminated with milk residue."
          ],
          [
           "WA",
           "F-1325-2020",
           "The firm used pan release spray, which contains soy lecithin, on equipment and finished products labels do not declare soy lecithin."
          ],
          [
           "NM",
           "F-1552-2023",
           "Foreign material: pieces of a pen (writing utensil)."
          ],
          [
           "MD",
           "F-0566-2023",
           "On 02/03/2023, FRESH IDEATION FOOD GROUP, LLC dba Fresh Creative Cuisine of Baltimore, MD is  initiating a recall of  various products sold from January 24, 2023 through January 30, 2023 because the products have the potential to be contaminated with Listeria monocytogenes ."
          ],
          [
           "IL",
           "F-1049-2023",
           "Products may contain Salmonella"
          ],
          [
           "MD",
           "F-0113-2024",
           "On 02/03/2023, FRESH IDEATION FOOD GROUP, LLC dba Fresh Creative Cuisine of Baltimore, MD is  initiating a recall of  various products sold from January 24, 2023 through January 30, 2023 because the products have the potential to be contaminated with Listeria monocytogenes ."
          ],
          [
           "IL",
           "F-0853-2021",
           "potential to be contaminated with Listeria monocytogenes"
          ],
          [
           "MD",
           "F-0475-2024",
           "Undeclared milk and soy"
          ],
          [
           "WA",
           "F-0665-2023",
           "Stir-Fried Kimchi was recalled due to undeclared Fish (Anchovy), Shrimp, Wheat, and Sesame Oil."
          ],
          [
           "MN",
           "F-1732-2024",
           "Guacamole products may be contaminated with Listeria monocytogenes."
          ],
          [
           "VT",
           "F-0514-2024",
           "Products may be contaminated with Listeria monocytogenes."
          ],
          [
           "MD",
           "F-0027-2024",
           "On 02/03/2023, FRESH IDEATION FOOD GROUP, LLC dba Fresh Creative Cuisine of Baltimore, MD is  initiating a recall of  various products sold from January 24, 2023 through January 30, 2023 because the products have the potential to be contaminated with Listeria monocytogenes ."
          ],
          [
           "CA",
           "F-1488-2024",
           "Allergen (sesame seeds) declared in the ingredient statement but missing from the \"Contains\" statement"
          ],
          [
           "WI",
           "F-1363-2024",
           "Possible Salmonella contamination."
          ],
          [
           "TX",
           "F-0082-2021",
           "Potential to be contaminated with Listeria monocytogenes"
          ],
          [
           "",
           "F-1179-2022",
           "Potential contamination with Salmonella"
          ],
          [
           "NY",
           "F-1678-2023",
           "Products may be contaminated with Listeria monocytogenes."
          ],
          [
           "MA",
           "F-1722-2022",
           "Products may be contaminated with Cronobacter sakazakii and/or Clostridium botulinum"
          ],
          [
           "GA",
           "F-0419-2022",
           "During an FDA investigation the firm was notified that the product contains undeclared milk."
          ],
          [
           "NJ",
           "F-1515-2022",
           "Undeclared Tadalafil"
          ],
          [
           "MO",
           "F-0585-2020",
           "The firm received a recall notice for hardboiled eggs that were potentially contaminated with Listeria monocytogenes. The eggs were subsequently used to manufacture various salad and deli products."
          ],
          [
           "CA",
           "F-1603-2022",
           "Findings and potential for Cronobacter sakazakii and Clostridium botulinum."
          ],
          [
           "NY",
           "F-0581-2020",
           "Product may be contaminated with Listeria monocytogenes."
          ],
          [
           "CA",
           "F-0990-2023",
           "Product found to contain undeclared wheat and eggs"
          ],
          [
           "UT",
           "F-1685-2022",
           "Firm received complaints of leaking, black liquid, and black particulates in the product vials."
          ],
          [
           "CT",
           "F-1284-2024",
           "Products contain undeclared FD&C Red No. 40"
          ],
          [
           "MI",
           "F-0341-2021",
           "Product tested positive for Salmonella."
          ],
          [
           "OH",
           "F-0294-2024",
           "Undeclared wheat, soy and coconut"
          ],
          [
           "IL",
           "F-0571-2022",
           "potential to be contaminated with Listeria monocytogenes"
          ],
          [
           "MD",
           "F-1608-2024",
           "Possible contamination with Listeria monocytogenes"
          ],
          [
           "VA",
           "F-0489-2020",
           "Potential presence of food-grade rubber pieces."
          ],
          [
           "CA",
           "F-1530-2024",
           "Toxic levels of muscimol"
          ],
          [
           "SC",
           "F-0164-2022",
           "The firm was notified by their customer of possible lead  in their products. The firm sent samples of the product to a lab"
          ],
          [
           "MD",
           "F-0476-2023",
           "On 02/03/2023, FRESH IDEATION FOOD GROUP, LLC dba Fresh Creative Cuisine of Baltimore, MD is  initiating a recall of  various products sold from January 24, 2023 through January 30, 2023 because the products have the potential to be contaminated with Listeria monocytogenes ."
          ],
          [
           "CA",
           "F-0403-2023",
           "Product was found to have an elevated amount of Aflatoxin"
          ],
          [
           "NY",
           "F-0193-2021",
           "Product contains undeclared wheat."
          ],
          [
           "MN",
           "F-1280-2022",
           "Potential Salmonella contamination."
          ],
          [
           "UT",
           "F-1035-2020",
           "Products may be moldy prior to the end of the stated shelf life."
          ],
          [
           "IL",
           "F-1028-2023",
           "Products may contain Salmonella"
          ],
          [
           "CA",
           "F-0037-2022",
           "Inspection by the California Department of Public Health found undeclared allergens in numerous bakery products."
          ],
          [
           "VA",
           "F-0913-2024",
           "Product was made with a lack of proper pasteurization."
          ],
          [
           "MI",
           "F-0656-2020",
           "Products recalled due to potential contamination with Listeria monocytogenes"
          ],
          [
           "WI",
           "F-0302-2021",
           "Ingredients were not pasteurized after blending as required by State of Wisconsin."
          ],
          [
           "GA",
           "F-0636-2024",
           "Salmonella"
          ],
          [
           "GA",
           "F-0363-2022",
           "Undeclared milk"
          ],
          [
           "MN",
           "F-1784-2022",
           "Various vegetable and fruit products are recalled due to inadequate sanitizer in wash water."
          ],
          [
           "OH",
           "F-1015-2022",
           "Undeclared wheat on product label."
          ],
          [
           "NE",
           "F-0630-2022",
           "Product showed suspected mold growth prior to expiration date."
          ],
          [
           "CA",
           "F-0763-2021",
           "Products are deficient in multiple nutrients required for infant formula, and the firms contract manufacturer does not test for Cronobacter, a pathogen that can be particularly dangerous to infants and is sometimes found in powdered infant formulas."
          ],
          [
           "NY",
           "F-0827-2021",
           "May be contaminated with Listeria monocytogenes"
          ],
          [
           "NY",
           "F-0839-2021",
           "May be contaminated with Listeria monocytogenes"
          ],
          [
           "NM",
           "F-1570-2023",
           "Foreign material: pieces of a pen (writing utensil)."
          ],
          [
           "NY",
           "F-1340-2022",
           "Fudge contains peanut butter that is potentially contaminated with Salmonella."
          ],
          [
           "CA",
           "F-1613-2022",
           "Findings and potential for Cronobacter sakazakii and Clostridium botulinum."
          ],
          [
           "MN",
           "F-0796-2023",
           "Products with a gluten free claim may contain gluten levels above 20 ppm."
          ],
          [
           "NJ",
           "F-0683-2021",
           "Possible metal fragments in Yogurt Bars"
          ],
          [
           "OH",
           "F-0828-2024",
           "The food was not held at an appropriate temperature.  The holding temperature could affect spoilage and potentially support pathogen growth."
          ],
          [
           "DE",
           "F-0686-2023",
           "undeclared soy proteins"
          ],
          [
           "NY",
           "F-0531-2020",
           "Products contain undeclared soy."
          ],
          [
           "NY",
           "F-0871-2024",
           "Potential contamination with sanitizer"
          ],
          [
           "FL",
           "F-0322-2021",
           "Undeclared allergen: Shrimp"
          ],
          [
           "MD",
           "F-0268-2024",
           "On 02/03/2023, FRESH IDEATION FOOD GROUP, LLC dba Fresh Creative Cuisine of Baltimore, MD is  initiating a recall of  various products sold from January 24, 2023 through January 30, 2023 because the products have the potential to be contaminated with Listeria monocytogenes ."
          ],
          [
           "IA",
           "F-0100-2022",
           "Undeclared soy lecithin."
          ],
          [
           "IN",
           "F-0274-2023",
           "Products held under insanitary conditions"
          ],
          [
           "UT",
           "F-0021-2021",
           "Products are labeled gluten-free. A batch of flour from the raw material supplier tested positive for gluten so the firm immediately initiated a recall of the affected products."
          ],
          [
           "OH",
           "F-0118-2021",
           "Potential salmonella contamination in elderberries."
          ],
          [
           "NM",
           "F-1597-2023",
           "Foreign material: pieces of a pen (writing utensil)."
          ],
          [
           "NJ",
           "F-0580-2023",
           "Coffee pods may contain undeclared peanut residue"
          ],
          [
           "OR",
           "F-1620-2024",
           "Firm made non-alcoholic drink mixer in an unlicensed and uninspected facility. The product safety is concerned due to potential under-processing."
          ],
          [
           "CA",
           "F-1402-2023",
           "Foreign object; rocks."
          ],
          [
           "FL",
           "F-1062-2020",
           "Ready to Eat salad products containing iceberg lettuce, red cabbage and/or carrot ingredients are recalled due to a possible health risk from Cyclospora."
          ],
          [
           "IL",
           "F-0527-2021",
           "Foreign material"
          ],
          [
           "NJ",
           "F-0388-2023",
           "Corim Industries, 1112 Industrial Parkway, Brick, NJ 08724 is initiating a recall of Agglomerated Peanut Butter Hot Chocolate, Peanut Butter Cappuccino, 500lb sacks; single serve cups (15g), single serve packets (28g) because of undeclared peanut allergen."
          ],
          [
           "CO",
           "F-1807-2024",
           "Elevated levels of lead"
          ],
          [
           "MD",
           "F-0482-2023",
           "On 02/03/2023, FRESH IDEATION FOOD GROUP, LLC dba Fresh Creative Cuisine of Baltimore, MD is  initiating a recall of  various products sold from January 24, 2023 through January 30, 2023 because the products have the potential to be contaminated with Listeria monocytogenes ."
          ],
          [
           "MN",
           "F-1261-2023",
           "Fruit products have the potential to be contaminated with Listeria monocytogenes."
          ],
          [
           "WA",
           "F-0968-2021",
           "The ice cream mix did not meet pasteurization specifications."
          ],
          [
           "AR",
           "F-1301-2024",
           "Potential Salmonella contamination"
          ],
          [
           "TX",
           "F-0709-2023",
           "Mold growth on the outside of the bottle"
          ],
          [
           "OR",
           "F-0984-2023",
           "Potential contamination with Hepatitis A."
          ],
          [
           "MD",
           "F-0501-2023",
           "On 02/03/2023, FRESH IDEATION FOOD GROUP, LLC dba Fresh Creative Cuisine of Baltimore, MD is  initiating a recall of  various products sold from January 24, 2023 through January 30, 2023 because the products have the potential to be contaminated with Listeria monocytogenes ."
          ],
          [
           "WA",
           "F-0653-2023",
           "Seasoned Pickled Radish was recalled due to undeclared wheat, sesame, and Y5."
          ],
          [
           "MD",
           "F-0241-2024",
           "On 02/03/2023, FRESH IDEATION FOOD GROUP, LLC dba Fresh Creative Cuisine of Baltimore, MD is  initiating a recall of  various products sold from January 24, 2023 through January 30, 2023 because the products have the potential to be contaminated with Listeria monocytogenes ."
          ],
          [
           "",
           "F-1245-2022",
           "Potential contamination with Salmonella"
          ],
          [
           "MD",
           "F-0250-2024",
           "On 02/03/2023, FRESH IDEATION FOOD GROUP, LLC dba Fresh Creative Cuisine of Baltimore, MD is  initiating a recall of  various products sold from January 24, 2023 through January 30, 2023 because the products have the potential to be contaminated with Listeria monocytogenes ."
          ],
          [
           "CA",
           "F-0777-2022",
           "Harvest equipment used in harvesting raw iceberg lettuce was tested by  Dole and found to contain Listeria monocytogenes."
          ],
          [
           "AZ",
           "F-0960-2022",
           "Product contains undeclared Sulfites."
          ],
          [
           "ID",
           "F-1332-2022",
           "Potential Salmonella contamination."
          ],
          [
           "CA",
           "F-0854-2024",
           "Foreign manufacturer of recalled product listed on IA #99-37 due to having no filed scheduled process."
          ],
          [
           "MD",
           "F-0470-2023",
           "On 02/03/2023, FRESH IDEATION FOOD GROUP, LLC dba Fresh Creative Cuisine of Baltimore, MD is  initiating a recall of  various products sold from January 24, 2023 through January 30, 2023 because the products have the potential to be contaminated with Listeria monocytogenes ."
          ],
          [
           "NY",
           "F-0624-2023",
           "Contains Cyclamate"
          ],
          [
           "OH",
           "F-0473-2021",
           "Undeclared anchovy allergen"
          ],
          [
           "MN",
           "F-0001-2022",
           "Sandwiches may contain undeclared soy and egg."
          ],
          [
           "TX",
           "F-0385-2023",
           "Undeclared milk and soy. The milk and soy allergens are listed in the \"may contains\" statement, but are not included in the \"Contains\" statement."
          ],
          [
           "KY",
           "F-0914-2022",
           "Undeclared Allergen- Milk"
          ],
          [
           "NY",
           "F-0641-2024",
           "Contains undeclared sulfites"
          ],
          [
           "TX",
           "F-1008-2020",
           "Potential to contain undeclared milk"
          ],
          [
           "ID",
           "F-0183-2022",
           "Salmonella Oranienburg.  Products are supplied by Keeler Family Farm."
          ],
          [
           "FL",
           "F-1239-2023",
           "Undeclared Milk and Sesame Seeds"
          ],
          [
           "PA",
           "F-1388-2020",
           "Potential contamination with Salmonella Newport  in onions and prepared foods containing onions."
          ],
          [
           "WI",
           "F-1502-2024",
           "Potential under-processing."
          ],
          [
           "IA",
           "F-0702-2024",
           "Undeclared egg"
          ],
          [
           "VT",
           "F-0467-2021",
           "Product potentially contains undeclared almonds."
          ],
          [
           "NY",
           "F-0186-2023",
           "Beverage has off-odor"
          ],
          [
           "CO",
           "F-0775-2020",
           "Product tested high for mold."
          ],
          [
           "ID",
           "F-0751-2023",
           "Butterfat is declared in the Ingredients Statement, but MILK is not declared in the Contains statement."
          ],
          [
           "MD",
           "F-1593-2024",
           "Possible contamination with Listeria monocytogenes"
          ],
          [
           "OH",
           "F-1021-2020",
           "Water filled bottles labeled as Similac Pro-Advance."
          ],
          [
           "PA",
           "F-1387-2020",
           "Potential contamination with Salmonella Newport  in onions and prepared foods containing onions."
          ],
          [
           "PA",
           "F-1385-2020",
           "Potential contamination with Salmonella Newport  in onions and prepared foods containing onions."
          ],
          [
           "GA",
           "F-0008-2023",
           "Firm received positive test results for L. monocytogenes in a finished product. All products manufactured with the same components are being recalled."
          ],
          [
           "MD",
           "F-0578-2023",
           "On 02/03/2023, FRESH IDEATION FOOD GROUP, LLC dba Fresh Creative Cuisine of Baltimore, MD is  initiating a recall of  various products sold from January 24, 2023 through January 30, 2023 because the products have the potential to be contaminated with Listeria monocytogenes ."
          ],
          [
           "OR",
           "F-1260-2020",
           "Processed onions products are recalled due to a potential contamination with Salmonella Newport.  Onions were supplied from Thomson International Inc."
          ],
          [
           "OR",
           "F-0713-2020",
           "Undeclared Soy.  BBQ sauce was inadvertently used instead of Marinara sauce and BBQ sauce contains soy.  The Vegetarian Lasagna finished product label does not declare soy."
          ],
          [
           "NY",
           "F-1167-2020",
           "Product is labeled as the wrong sauce, resulting in soy being undeclared on the label."
          ],
          [
           "GA",
           "F-1000-2021",
           "The firm determined that the food was not held at an appropriate temperature. Because of the time-temperature relationship of the environment this food could be unsafe to consume."
          ],
          [
           "MD",
           "F-0228-2024",
           "On 02/03/2023, FRESH IDEATION FOOD GROUP, LLC dba Fresh Creative Cuisine of Baltimore, MD is  initiating a recall of  various products sold from January 24, 2023 through January 30, 2023 because the products have the potential to be contaminated with Listeria monocytogenes ."
          ],
          [
           "FL",
           "F-1068-2020",
           "Ready to Eat salad products containing iceberg lettuce, red cabbage and/or carrot ingredients are recalled due to a possible health risk from Cyclospora."
          ],
          [
           "FL",
           "F-0440-2024",
           "Undeclared allergen: Milk."
          ],
          [
           "CT",
           "F-0787-2024",
           "Contains undeclared soy lecithin."
          ],
          [
           "OH",
           "F-1116-2022",
           "Products are potentially contaminated with Salmonella."
          ],
          [
           "CO",
           "F-1643-2024",
           "Potential foreign material - plastic"
          ],
          [
           "TX",
           "F-1225-2023",
           "Undeclared almonds and/or undeclared wheat"
          ],
          [
           "CT",
           "F-1285-2024",
           "Products contain undeclared sulfites."
          ],
          [
           "TX",
           "F-0790-2021",
           "The firm is recalling Circle K brand Chicken Salad Sandwiches \"best buy\" date of 6/7/21 through 7/9/21 because the chicken used is subject to a national recall issued by Tyson Foods due to the potential to be contaminated with Listeria monocytogenes."
          ],
          [
           "MD",
           "F-0732-2024",
           "potential microbial contamination"
          ],
          [
           "GA",
           "F-0474-2022",
           "During an FDA investigation the firm was notified that the product contains undeclared milk."
          ],
          [
           "CO",
           "F-0383-2021",
           "Two consumer complaints were received for peanuts in maple pecan bars."
          ],
          [
           "CA",
           "F-0044-2021",
           "Potential Salmonella contamination."
          ],
          [
           "CA",
           "F-0713-2024",
           "Undeclared fish (anchovy) allergen"
          ],
          [
           "OH",
           "F-1403-2024",
           "Possibly contaminated with Listeria monocytogenes"
          ],
          [
           "FL",
           "F-0096-2021",
           "Undeclared Allergens: Fish, Egg, and Milk."
          ],
          [
           "OR",
           "F-0781-2021",
           "Label declares lecithin but does not declare soy lecithin."
          ],
          [
           "VA",
           "F-0487-2020",
           "Potential presence of food-grade rubber pieces."
          ],
          [
           "OH",
           "F-1690-2024",
           "Listeria monocyotgenes contamination"
          ],
          [
           "IN",
           "F-1568-2022",
           "Due to the potential presence of a foreign material (hard plastic pieces) in baked good products."
          ],
          [
           "WA",
           "F-1374-2023",
           "Pasta label declares semolina flour but does not declare wheat."
          ],
          [
           "NY",
           "F-0896-2021",
           "Product may be contaminated with Salmonella."
          ],
          [
           "NC",
           "F-1297-2024",
           "Product contains (allergen) undeclared egg."
          ],
          [
           "IN",
           "F-0281-2023",
           "Products held under insanitary conditions"
          ],
          [
           "NM",
           "F-1594-2023",
           "Foreign material: pieces of a pen (writing utensil)."
          ],
          [
           "OH",
           "F-1535-2022",
           "Acidified/Low Acid dietary supplement with no approved process."
          ],
          [
           "NY",
           "F-0420-2024",
           "Products are a choking hazard"
          ],
          [
           "NH",
           "F-1464-2023",
           "Perishable products were not held at an appropriate temperature."
          ],
          [
           "IA",
           "F-1688-2022",
           "Food and beverage thickener recalled because of possible insanitary conditions during manufacturing"
          ],
          [
           "IL",
           "F-0542-2022",
           "potential to be contaminated with Listeria monocytogenes"
          ],
          [
           "ID",
           "F-1558-2022",
           "Undeclared allergens; fish, shellfish, egg, wheat, and soy"
          ],
          [
           "NY",
           "F-0713-2021",
           "Product may be contaminated with Listeria monocytogenes."
          ],
          [
           "FL",
           "F-0846-2023",
           "Undeclared Allergens: Soy, Milk and Tree Nuts"
          ],
          [
           "NJ",
           "F-0395-2023",
           "May contain undeclared peanut residue."
          ],
          [
           "OH",
           "F-1709-2024",
           "Potential contamination with Listeria monocyotgenes"
          ],
          [
           "NY",
           "F-1478-2023",
           "Product may be contaminated with Listeria monocytogenes."
          ],
          [
           "MA",
           "F-1024-2023",
           "Products were not properly pasteurized."
          ],
          [
           "MD",
           "F-0204-2024",
           "On 02/03/2023, FRESH IDEATION FOOD GROUP, LLC dba Fresh Creative Cuisine of Baltimore, MD is  initiating a recall of  various products sold from January 24, 2023 through January 30, 2023 because the products have the potential to be contaminated with Listeria monocytogenes ."
          ],
          [
           "WA",
           "F-1586-2020",
           "Salmonella Newport. Product contains onion supplied from Thomson International, Inc."
          ],
          [
           "WI",
           "F-1376-2022",
           "Foreign object (metal)."
          ],
          [
           "TX",
           "F-0132-2021",
           "Potential to contain undeclared egg"
          ],
          [
           "IL",
           "F-1027-2023",
           "Products may contain Salmonella"
          ],
          [
           "TX",
           "F-1780-2024",
           "Potential L. monocytogenes"
          ],
          [
           "WY",
           "F-1495-2022",
           "Products may potentially contain one or more of the following undeclared tree nuts: Pecans, Almonds, Coconut, Macadamia Nuts, & Walnuts."
          ],
          [
           "IL",
           "F-1118-2023",
           "Products may contain Salmonella"
          ],
          [
           "CT",
           "F-1727-2022",
           "Contains undeclared egg."
          ],
          [
           "NY",
           "F-1309-2020",
           "Products are potentially contaminated with Listeria monocytogenes."
          ],
          [
           "CA",
           "F-0933-2021",
           "Recall initiated after notification from supplier of recall of frozen shrimp due to Salmonella contamination that had been used in sushi products."
          ],
          [
           "GA",
           "F-0068-2023",
           "During an internal inspection the firm discovered that several products may contain soy lecithin which is not declared on the labels."
          ],
          [
           "FL",
           "F-1422-2024",
           "Salmonella contamination"
          ],
          [
           "IL",
           "F-0550-2022",
           "potential to be contaminated with Listeria monocytogenes"
          ],
          [
           "IA",
           "F-1663-2024",
           "Potential salmonella contamination"
          ],
          [
           "NC",
           "F-0418-2021",
           "The firm received positive test results for Listeria monocytogenes during in house environmental sampling on one of their meat slicers."
          ],
          [
           "GA",
           "F-0629-2024",
           "Salmonella"
          ],
          [
           "CA",
           "F-1231-2023",
           "Product may contain Hepatitis A"
          ],
          [
           "NJ",
           "F-0076-2023",
           "Frozen Tuna may contain elevated levels of Histamine"
          ],
          [
           "OH",
           "F-1140-2022",
           "Potential Salmonella contamination"
          ],
          [
           "MI",
           "F-0342-2021",
           "Product tested positive for Salmonella."
          ],
          [
           "CA",
           "F-0875-2023",
           "Coconut not listed in ingredients list or contains statement"
          ],
          [
           "MD",
           "F-0504-2023",
           "On 02/03/2023, FRESH IDEATION FOOD GROUP, LLC dba Fresh Creative Cuisine of Baltimore, MD is  initiating a recall of  various products sold from January 24, 2023 through January 30, 2023 because the products have the potential to be contaminated with Listeria monocytogenes ."
          ],
          [
           "OH",
           "F-1143-2022",
           "Potential Salmonella contamination"
          ],
          [
           "MD",
           "F-0570-2023",
           "On 02/03/2023, FRESH IDEATION FOOD GROUP, LLC dba Fresh Creative Cuisine of Baltimore, MD is  initiating a recall of  various products sold from January 24, 2023 through January 30, 2023 because the products have the potential to be contaminated with Listeria monocytogenes ."
          ],
          [
           "MD",
           "F-0106-2024",
           "On 02/03/2023, FRESH IDEATION FOOD GROUP, LLC dba Fresh Creative Cuisine of Baltimore, MD is  initiating a recall of  various products sold from January 24, 2023 through January 30, 2023 because the products have the potential to be contaminated with Listeria monocytogenes ."
          ],
          [
           "NJ",
           "F-0464-2021",
           "Potential presence of a metallic mesh material in products."
          ],
          [
           "GA",
           "F-0018-2023",
           "Firm received positive test results for L. monocytogenes in a finished product. All products manufactured with the same components are being recalled."
          ],
          [
           "OK",
           "F-1212-2024",
           "undeclared milk, egg, and soy"
          ],
          [
           "MD",
           "F-0725-2024",
           "potential microbial contamination"
          ],
          [
           "UT",
           "F-0928-2021",
           "Frozen desserts are mislabeled. Flourless Chocolate Torte mislabeled with Triple Berry Streusel Cheesecake ingredients and nutrition label. Chocolate Torte and Triple Berry Streusel are both mislabeled with pecans as an ingredient although firm has not used nuts of any kind in its products or the facility since April 2018."
          ],
          [
           "FL",
           "F-0028-2021",
           "Undeclared soy (whole edamame beans)"
          ],
          [
           "MD",
           "F-0182-2024",
           "On 02/03/2023, FRESH IDEATION FOOD GROUP, LLC dba Fresh Creative Cuisine of Baltimore, MD is  initiating a recall of  various products sold from January 24, 2023 through January 30, 2023 because the products have the potential to be contaminated with Listeria monocytogenes ."
          ],
          [
           "UT",
           "F-1682-2022",
           "Firm received complaints of leaking cups, black liquid, and black particulates in the 24% Sucrose Solution."
          ],
          [
           "CA",
           "F-1673-2022",
           "Findings and potential for Cronobacter sakazakii and Clostridium botulinum."
          ],
          [
           "AL",
           "F-1037-2024",
           "Undeclared Color Additives - Yellow #5"
          ],
          [
           "OH",
           "F-1537-2023",
           "Undeclared FD&C Yellow #5 and Yellow #6"
          ],
          [
           "MA",
           "F-1261-2022",
           "Product(s) may contain undeclared milk."
          ],
          [
           "VA",
           "F-0732-2023",
           "Infant Formula has the potential to be contaminated with Cronobacter spp."
          ],
          [
           "OH",
           "F-1312-2022",
           "The third party contract manufacturer used a dextrose ingredient derived from wheat in one lot of the Strawberry Lemonade powder, which is not declared on the label."
          ],
          [
           "",
           "F-1212-2022",
           "Potential contamination with Salmonella"
          ],
          [
           "PA",
           "F-0215-2023",
           "Sunrise Logistics Inc/ Four Seasons Produce Inc, 400 Wabash , Road Ephrata, PA 17522 has initiated a recall of,  PROPAL Hass Avocados, Bag of 6 pieces, Green net with green plastic film, 11 bags per case  because they were found to be contaminated with pesticides as per tolerance limit 40CFR 180.275."
          ],
          [
           "CA",
           "F-0084-2023",
           "Possible contamination with salmonella"
          ],
          [
           "PA",
           "F-0220-2021",
           "Ice Cream product may contain metal (foreign objects)."
          ],
          [
           "PA",
           "F-0423-2023",
           "Product may contain undeclared sesame."
          ],
          [
           "GA",
           "F-0608-2020",
           "The firm was notified by FDA & CDC of a potential Listeria monocytogenes genetic match between environmental samples from our facility and case patient samples associated with an illness outbreak."
          ],
          [
           "VA",
           "F-0394-2022",
           "Undeclared milk allergen"
          ],
          [
           "IL",
           "F-1229-2023",
           "May contain trace amounts of undeclared milk"
          ],
          [
           "IL",
           "F-0322-2022",
           "potential for glass and metal in product"
          ],
          [
           "FL",
           "F-0930-2020",
           "FDA sample analysis of Biotin 1000mg Lot #1345 showed the product Biotin content to be 0.8% of label claim."
          ],
          [
           "MD",
           "F-0186-2024",
           "On 02/03/2023, FRESH IDEATION FOOD GROUP, LLC dba Fresh Creative Cuisine of Baltimore, MD is  initiating a recall of  various products sold from January 24, 2023 through January 30, 2023 because the products have the potential to be contaminated with Listeria monocytogenes ."
          ],
          [
           "TX",
           "F-0090-2021",
           "Potential to be contaminated with Listeria monocytogenes"
          ],
          [
           "MN",
           "F-1013-2020",
           "The firm was notified by a customer that the product contains cashews which are not listed in the ingredient statement."
          ],
          [
           "VT",
           "F-1587-2022",
           "Product may be contaminated Listeria monocytogenes."
          ],
          [
           "CA",
           "F-0350-2024",
           "Potential contamination with Salmonella Thompson"
          ],
          [
           "CA",
           "F-0114-2021",
           "Direct customer tested product upon receipt and had a positive result for Salmonella."
          ],
          [
           "NM",
           "F-1588-2023",
           "Foreign material: pieces of a pen (writing utensil)."
          ],
          [
           "NY",
           "F-0189-2022",
           "Products contain onions purchased from ProSource and associated with a Salmonella Oranienburg outbreak."
          ],
          [
           "NY",
           "F-0446-2021",
           "Jelly contains undeclared FD&C yellow #5 and blue #1, and unapproved carmoisine (E122)/dye 14720/acid red 14"
          ],
          [
           "NY",
           "F-0737-2021",
           "Product may be contaminated with Listeria monocytogenes."
          ],
          [
           "IL",
           "F-0551-2021",
           "potential presence of an extraneous material (plastic)"
          ],
          [
           "CA",
           "F-0908-2022",
           "Firm is recalling Dried Plums due to potential high lead content."
          ],
          [
           "WI",
           "F-0438-2023",
           "Chocolate may contain undeclared peanut residue."
          ],
          [
           "OH",
           "F-1142-2022",
           "Potential Salmonella contamination"
          ],
          [
           "MN",
           "F-0304-2024",
           "Cantaloupe may be contaminated with Salmonella."
          ],
          [
           "OR",
           "F-0388-2022",
           "Flour is declared but Wheat is not declared on label."
          ],
          [
           "OH",
           "F-0882-2024",
           "Potential Foreign Material - Metal, Wood, Gasket Material, and/or Sifter balls"
          ],
          [
           "WA",
           "F-0682-2023",
           "Hot Pepper in Soy Sauce was recalled due to undeclared Soybean and Wheat."
          ],
          [
           "OH",
           "F-0590-2021",
           "Potentially contaminated with Listeria monocytogenes"
          ],
          [
           "PR",
           "F-0216-2022",
           "Discovered swollen cans"
          ],
          [
           "CA",
           "F-1106-2024",
           "Undeclared Yellow #5"
          ],
          [
           "NY",
           "F-0710-2021",
           "Product may be contaminated with Listeria monocytogenes."
          ],
          [
           "IL",
           "F-1124-2023",
           "Products may contain Salmonella"
          ],
          [
           "CA",
           "F-0063-2021",
           "Potential Salmonella contamination."
          ],
          [
           "OH",
           "F-0156-2023",
           "Compromised seal integrity which could lead to spoilage"
          ],
          [
           "CA",
           "F-0011-2024",
           "Undeclared allergen (peanut)"
          ],
          [
           "FL",
           "F-1069-2020",
           "Ready to Eat salad products containing iceberg lettuce, red cabbage and/or carrot ingredients are recalled due to a possible health risk from Cyclospora."
          ],
          [
           "CA",
           "F-0088-2023",
           "Possible contamination with salmonella"
          ],
          [
           "CA",
           "F-0962-2022",
           "California Department of Public Health sampled product with a result of Listeria monocytogenes"
          ],
          [
           "NY",
           "F-1639-2023",
           "Products may be contaminated with Listeria monocytogenes."
          ],
          [
           "WI",
           "F-1032-2022",
           "Macarons do not declare the following colors:  FD&C Blue #1, Blue #2, Red #3, Yellow #5, Yellow #6, Red #40."
          ],
          [
           "OH",
           "F-1112-2022",
           "Products are potentially contaminated with Salmonella."
          ],
          [
           "FL",
           "F-1101-2020",
           "Ready to Eat salad products containing iceberg lettuce, red cabbage and/or carrot ingredients are recalled due to a possible health risk from Cyclospora."
          ],
          [
           "PA",
           "F-1610-2023",
           "The firm initiated a recall of various seasonings because rodent feces was found in samples of oregano."
          ],
          [
           "GA",
           "F-0992-2021",
           "The firm determined that the food was not held at an appropriate temperature. Because of the time-temperature relationship of the environment this food could be unsafe to consume."
          ],
          [
           "MD",
           "F-0087-2024",
           "On 02/03/2023, FRESH IDEATION FOOD GROUP, LLC dba Fresh Creative Cuisine of Baltimore, MD is  initiating a recall of  various products sold from January 24, 2023 through January 30, 2023 because the products have the potential to be contaminated with Listeria monocytogenes ."
          ],
          [
           "GA",
           "F-0502-2021",
           "During an inspection by the FDA the firm was notified by FDA that the product contains undeclared milk, wheat  & soy."
          ],
          [
           "IL",
           "F-1189-2023",
           "Products may contain Salmonella"
          ],
          [
           "CA",
           "F-0898-2020",
           "Firm was notified by supplier that Organic Ground Flaxseed powder was under recall by manufacturer due to unapproved herbicide - Haloxyfop"
          ],
          [
           "MN",
           "F-0204-2021",
           "Ground Tuna may contain elevated levels of Histamine."
          ],
          [
           "IL",
           "F-0935-2022",
           "Consumer complaints related to Cronobacter sakazakii or Salmonella Newport in infants and evidence of Cronobacter sakazakii in the manufacturing facility where the product had been produced"
          ],
          [
           "NM",
           "F-1564-2023",
           "Foreign material: pieces of a pen (writing utensil)."
          ],
          [
           "KS",
           "F-1803-2024",
           "Foreign material."
          ],
          [
           "WI",
           "F-1040-2022",
           "Macarons do not declare the following colors:  FD&C Blue #1, Blue #2, Red #3, Yellow #5, Yellow #6, Red #40."
          ],
          [
           "GA",
           "F-0449-2022",
           "During an FDA investigation the firm was notified that the product contains undeclared milk."
          ],
          [
           "NH",
           "F-0823-2020",
           "Product may contain undeclared milk allergens in amounts that exceed thresholds established by the New York State Department of Agriculture and Markets."
          ],
          [
           "WI",
           "F-1528-2023",
           "Refrigerated pasteurized process cheese products may not be refrigerated at customer level due to labeled refrigeration requirements varying on finished product labels."
          ],
          [
           "CA",
           "F-1539-2022",
           "Elevated levels of lead detected as a result of testing conducted by Maryland Department of Health."
          ],
          [
           "MD",
           "F-0125-2024",
           "On 02/03/2023, FRESH IDEATION FOOD GROUP, LLC dba Fresh Creative Cuisine of Baltimore, MD is  initiating a recall of  various products sold from January 24, 2023 through January 30, 2023 because the products have the potential to be contaminated with Listeria monocytogenes ."
          ],
          [
           "NY",
           "F-0973-2022",
           "may be contaminated with Listeria monocytogenes"
          ],
          [
           "MA",
           "F-0621-2022",
           "Product contains undeclared pecan"
          ],
          [
           "CA",
           "F-0050-2022",
           "Inspection by the California Department of Public Health found undeclared allergens in numerous bakery products."
          ],
          [
           "NC",
           "F-1043-2022",
           "Possible Listeria monocytogenes in product"
          ],
          [
           "OH",
           "F-1416-2024",
           "Possibly contaminated with Listeria monocytogenes"
          ],
          [
           "OR",
           "F-0626-2022",
           "Under pasteurization. Cheese product was made from one batch of milk that was under pasteurized."
          ],
          [
           "UT",
           "F-0728-2020",
           "Pieces of plastic polymer were introduced into the sugar system."
          ],
          [
           "WA",
           "F-0344-2023",
           "Undeclared Peanut."
          ],
          [
           "MA",
           "F-0828-2020",
           "Product mislabeled as  \"GF\"  for gluten-free; however, ingredient statement lists wheat flour as a sub ingredient."
          ],
          [
           "N/A",
           "F-0300-2022",
           "Potential for metal in product"
          ],
          [
           "N/A",
           "F-0149-2021",
           "The product contains an undeclared almonds."
          ],
          [
           "UT",
           "F-0155-2021",
           "Product utilized a gluten-free claim but has as an ingredient a fermented soy sauce that is produced from wheat which was not processed to remove the gluten prior to fermentation."
          ],
          [
           "NY",
           "F-1442-2020",
           "Recall required by Order of Permanent Injunction. The products are misbranded and deemed unapproved drugs based on labeling claims."
          ],
          [
           "OR",
           "F-0363-2023",
           "Squirrel Mix product is recalled due to undeclared milk, soy lecithin, and colors: B1, R40, Y5, Y6, and B2."
          ],
          [
           "FL",
           "F-0434-2021",
           "Firm initiated a recall because of mislabeling of bottled product inside case."
          ],
          [
           "MI",
           "F-0657-2020",
           "Products recalled due to potential contamination with Listeria monocytogenes"
          ],
          [
           "MD",
           "F-0261-2021",
           "Product is potentially contaminated with Listeria Monocytogenes."
          ],
          [
           "CO",
           "F-0175-2023",
           "Three sauces contain undeclared soy."
          ],
          [
           "ID",
           "F-1331-2022",
           "Potential Salmonella contamination."
          ],
          [
           "OH",
           "F-0714-2023",
           "Product packaged in incorrect labeling resulting in undeclared soy lecithin allergen"
          ],
          [
           "NJ",
           "F-1813-2024",
           "Undeclared milk"
          ],
          [
           "CA",
           "F-1533-2024",
           "Toxic levels of muscimol"
          ],
          [
           "OH",
           "F-1113-2022",
           "Products are potentially contaminated with Salmonella."
          ],
          [
           "NY",
           "F-0543-2020",
           "Products contain undeclared soy."
          ],
          [
           "MN",
           "F-0002-2022",
           "Sandwiches may contain undeclared soy and egg."
          ],
          [
           "AZ",
           "F-0976-2020",
           "Products did not have proper ingredients and allergens (wheat) labeling."
          ],
          [
           "GA",
           "F-0998-2021",
           "The firm determined that the food was not held at an appropriate temperature. Because of the time-temperature relationship of the environment this food could be unsafe to consume."
          ],
          [
           "FL",
           "F-1787-2022",
           "Undeclared Wheat"
          ],
          [
           "OR",
           "F-0892-2023",
           "Undeclared Almonds and Cashews"
          ],
          [
           "PR",
           "F-0810-2023",
           "Bloated Protein Bottle"
          ],
          [
           "KS",
           "F-1801-2024",
           "Foreign material."
          ],
          [
           "MO",
           "F-0582-2020",
           "The firm received a recall notice for hardboiled eggs that were potentially contaminated with Listeria monocytogenes. The eggs were subsequently used to manufacture various salad and deli products."
          ],
          [
           "OH",
           "F-1687-2024",
           "Listeria monocyotgenes contamination"
          ],
          [
           "NC",
           "F-0282-2022",
           "The firm was notified by customers that the product contained metal fragments"
          ],
          [
           "NM",
           "F-1575-2023",
           "Foreign material: pieces of a pen (writing utensil)."
          ],
          [
           "OR",
           "F-1250-2023",
           "The product labels include a Contains statement that did not disclose sesame for the product that contains sesame. Sesame is included Ingredient statement."
          ],
          [
           "NH",
           "F-1524-2022",
           "Two food trailers holding various types and brands of frozen foods were temperature abused during deliver to two retail stores."
          ],
          [
           "FL",
           "F-0981-2023",
           "Undeclared allergens: Soy"
          ],
          [
           "OH",
           "F-1400-2024",
           "Possibly contaminated with Listeria monocytogenes"
          ],
          [
           "CA",
           "F-0655-2022",
           "Potential Listeria monocytogenes"
          ],
          [
           "NJ",
           "F-0249-2022",
           "Product may be contaminated with foreign material (metal)"
          ],
          [
           "WI",
           "F-1385-2024",
           "Potential Salmonella contamination."
          ],
          [
           "OR",
           "F-0491-2021",
           "Ingredients statement declares Unsalted Cream but does not list milk.  Label has allergen advisory statement \"Mfg on same equipment that processes wheat, egg, peanut & tree nut.  May contain traces of soy, milk, peanuts & tree nuts\"."
          ],
          [
           "VT",
           "F-0250-2021",
           "Chocolate may contain plastic pieces"
          ],
          [
           "FL",
           "F-1238-2023",
           "Undeclared Milk and Sesame Seeds"
          ],
          [
           "NY",
           "F-1478-2024",
           "Product may be contaminated with Listeria monocytogenes."
          ],
          [
           "FL",
           "F-1072-2020",
           "Ready to Eat salad products containing iceberg lettuce, red cabbage and/or carrot ingredients are recalled due to a possible health risk from Cyclospora."
          ],
          [
           "CA",
           "F-0925-2024",
           "Listeria monocytogenes contamination."
          ],
          [
           "IL",
           "F-0959-2024",
           "potential Salmonella"
          ],
          [
           "AZ",
           "F-1164-2024",
           "Product recalled due to the presence of yellow oleander and its components in the product."
          ],
          [
           "CA",
           "F-0947-2021",
           "Recall initiated after notification from supplier of recall of frozen shrimp due to Salmonella contamination that had been used in sushi products."
          ],
          [
           "WA",
           "F-1375-2023",
           "Pasta label declares semolina flour but does not declare wheat."
          ],
          [
           "MO",
           "F-0908-2023",
           "Allergen contains statement does not declare \"Milk\""
          ],
          [
           "CA",
           "F-0782-2021",
           "FDA inspection found that various smoothie mixes sold to restaurants did not include ingredient list or allergen information (undeclared milk)"
          ],
          [
           "MD",
           "F-0240-2024",
           "On 02/03/2023, FRESH IDEATION FOOD GROUP, LLC dba Fresh Creative Cuisine of Baltimore, MD is  initiating a recall of  various products sold from January 24, 2023 through January 30, 2023 because the products have the potential to be contaminated with Listeria monocytogenes ."
          ],
          [
           "ID",
           "F-0878-2020",
           "Gluten-Free lentils product tested positive for gluten and some pouches were found to contain barley, wheat, and possibly other gluten-containing grains."
          ],
          [
           "FL",
           "F-0923-2020",
           "Due to different color of powder in capsules. Firm's evaluation determined product low potency."
          ],
          [
           "OR",
           "F-0888-2023",
           "Soy Sauce (Soy and Wheat) are declared in the Ingredients statement of the Wakame Seaweed Salad, but the Contains statement declares Soy and Sesame (no wheat)."
          ],
          [
           "WA",
           "F-1807-2022",
           "Potential to be contaminated with Listeria monocytogenes."
          ],
          [
           "IL",
           "F-0936-2022",
           "Consumer complaints related to Cronobacter sakazakii or Salmonella Newport in infants and evidence of Cronobacter sakazakii in the manufacturing facility where the product had been produced"
          ],
          [
           "MO",
           "F-0913-2023",
           "Allergen contains statement does not declare \"Milk\""
          ],
          [
           "GA",
           "F-0099-2023",
           "Label does not indicate milk on the label."
          ],
          [
           "VA",
           "F-0366-2022",
           "The firm was notified by a customer that the Butter Almond containers contains Cookie Dough Ice Cream. The Cookie Dough Ice Cream contains soy and wheat which are not listed on the label for the Butter Almond Ice Cream."
          ],
          [
           "IL",
           "F-1088-2023",
           "Products may contain Salmonella"
          ],
          [
           "OH",
           "F-1124-2022",
           "Products are potentially contaminated with Salmonella."
          ],
          [
           "GA",
           "F-0647-2021",
           "The firm was notified by the FDA that the product contains the unapproved food additive 1,4-dimethylamylamine (DMAA)."
          ],
          [
           "VT",
           "F-0215-2021",
           "Cookie dough ingredient intended for use in ice cream may be contaminated with Listeria monocytogenes."
          ],
          [
           "MI",
           "F-0839-2023",
           "Listeria monocytogenes"
          ],
          [
           "NY",
           "F-1644-2023",
           "Products may be contaminated with Listeria monocytogenes."
          ],
          [
           "MI",
           "F-0834-2023",
           "Listeria monocytogenes"
          ],
          [
           "MI",
           "F-0634-2022",
           "The milk used in the cheese curd had been stored in a holding tank in excess of 72 hours, therefore exceeding the required 72 hour tank cleaning interval."
          ],
          [
           "CA",
           "F-0774-2020",
           "In House testing found a residue of 0.927 ppm of Zeta-cypermethrin on raspberries, which is above the U.S. MRL of 0.800 ppm"
          ],
          [
           "CA",
           "F-0310-2023",
           "Parsley imported from Mexico was found to be contaminated with Salmonella"
          ],
          [
           "NC",
           "F-0639-2020",
           "The firm was notified by their supplier of boiled eggs that the eggs my be contaminated with Listeria monocytogenes."
          ],
          [
           "MA",
           "F-1434-2020",
           "Product contains undeclared brazil nuts."
          ],
          [
           "NY",
           "F-0722-2021",
           "Product may be contaminated with Listeria monocytogenes."
          ],
          [
           "MD",
           "F-0076-2024",
           "On 02/03/2023, FRESH IDEATION FOOD GROUP, LLC dba Fresh Creative Cuisine of Baltimore, MD is  initiating a recall of  various products sold from January 24, 2023 through January 30, 2023 because the products have the potential to be contaminated with Listeria monocytogenes ."
          ],
          [
           "CA",
           "F-0590-2024",
           "Undeclared allergens; tree nuts"
          ],
          [
           "MD",
           "F-0537-2023",
           "On 02/03/2023, FRESH IDEATION FOOD GROUP, LLC dba Fresh Creative Cuisine of Baltimore, MD is  initiating a recall of  various products sold from January 24, 2023 through January 30, 2023 because the products have the potential to be contaminated with Listeria monocytogenes ."
          ],
          [
           "OR",
           "F-1087-2024",
           "Listeria monocytogenes. The recalled Cotija cheese was repackaged into finished wholesale and retail RTE products."
          ],
          [
           "MD",
           "F-0056-2024",
           "On 02/03/2023, FRESH IDEATION FOOD GROUP, LLC dba Fresh Creative Cuisine of Baltimore, MD is  initiating a recall of  various products sold from January 24, 2023 through January 30, 2023 because the products have the potential to be contaminated with Listeria monocytogenes ."
          ],
          [
           "NY",
           "F-0439-2021",
           "Product may contain a foreign object (blue plastic)."
          ],
          [
           "PA",
           "F-1386-2020",
           "Potential contamination with Salmonella Newport  in onions and prepared foods containing onions."
          ],
          [
           "PA",
           "F-1417-2020",
           "Potential contamination with Salmonella Newport in onions and prepared foods containing onions."
          ],
          [
           "FL",
           "F-1743-2024",
           "Due to elevated levels of lead. Sample collected by Maryland Department Of Health (MDDH) tested positive for high levels of lead in ground cinnamon."
          ],
          [
           "WA",
           "F-0673-2023",
           "Wild Leek was recalled due to undeclared Soybean, Wheat, and Fish (Anchovy)."
          ],
          [
           "WY",
           "F-1474-2022",
           "Products may potentially contain one or more of the following undeclared tree nuts: Pecans, Almonds, Coconut, Macadamia Nuts, & Walnuts."
          ],
          [
           "NJ",
           "F-0324-2024",
           "Possible Listeria monocytogenes contamination"
          ],
          [
           "MD",
           "F-0208-2024",
           "On 02/03/2023, FRESH IDEATION FOOD GROUP, LLC dba Fresh Creative Cuisine of Baltimore, MD is  initiating a recall of  various products sold from January 24, 2023 through January 30, 2023 because the products have the potential to be contaminated with Listeria monocytogenes ."
          ],
          [
           "AR",
           "F-0733-2020",
           "May contain pieces of food grade packing material"
          ],
          [
           "WA",
           "F-1395-2023",
           "Ice cream grab n go Pint containers' labels do not declare any ingredients including allergens Coconut."
          ],
          [
           "OH",
           "F-0759-2020",
           "Potential contamination of Listeria monocytogenes."
          ],
          [
           "MA",
           "F-0964-2023",
           "Product may be contaminated with Listeria monocytogenes."
          ],
          [
           "IL",
           "F-0996-2024",
           "potential Salmonella"
          ],
          [
           "NY",
           "F-0230-2021",
           "Product contains undeclared wheat, egg, and milk."
          ],
          [
           "MD",
           "F-0127-2024",
           "On 02/03/2023, FRESH IDEATION FOOD GROUP, LLC dba Fresh Creative Cuisine of Baltimore, MD is  initiating a recall of  various products sold from January 24, 2023 through January 30, 2023 because the products have the potential to be contaminated with Listeria monocytogenes ."
          ],
          [
           "WA",
           "F-1370-2023",
           "Pasta label declares semolina flour but does not declare wheat."
          ],
          [
           "OH",
           "F-0844-2024",
           "The food was not held at an appropriate temperature.  The holding temperature could affect spoilage and potentially support pathogen growth."
          ],
          [
           "OH",
           "F-1343-2022",
           "These products are being recalled due to the potential of leakage from the 1L container."
          ],
          [
           "NY",
           "F-1461-2020",
           "Recall required by Order of Permanent Injunction. The products are misbranded and deemed unapproved drugs based on labeling claims."
          ],
          [
           "KS",
           "F-1309-2024",
           "Potential Salmonella Contamination"
          ],
          [
           "CA",
           "F-0631-2020",
           "Product label does not contain Crustacean Shellfish on the ingredient list or allergen information"
          ],
          [
           "NY",
           "F-1101-2022",
           "Contains undeclared wheat (gluten) in product labeled \"gluten free\""
          ],
          [
           "WA",
           "F-1084-2024",
           "Undeclared wheat. Finished bakery product labels declared flour but did not specify wheat."
          ],
          [
           "FL",
           "F-1122-2020",
           "Ready to Eat salad products containing iceberg lettuce, red cabbage and/or carrot ingredients are recalled due to a possible health risk from Cyclospora."
          ],
          [
           "MD",
           "F-1609-2024",
           "Possible contamination with Listeria monocytogenes"
          ],
          [
           "CA",
           "F-1537-2024",
           "Toxic levels of muscimol"
          ],
          [
           "TX",
           "F-1501-2023",
           "Plastic foreign object found in product."
          ],
          [
           "OH",
           "F-1619-2020",
           "Foreign material, pieces of glass may be in the product"
          ],
          [
           "VT",
           "F-0248-2021",
           "Chocolate may contain plastic pieces"
          ],
          [
           "NY",
           "F-0836-2021",
           "May be contaminated with Listeria monocytogenes"
          ],
          [
           "CA",
           "F-0862-2023",
           "Products were found to contain flying fish instead of angler fish."
          ],
          [
           "MD",
           "F-1599-2024",
           "Possible contamination with Listeria monocytogenes"
          ],
          [
           "NY",
           "F-1683-2023",
           "Products may be contaminated with Listeria monocytogenes."
          ],
          [
           "NY",
           "F-1825-2024",
           "Products contain undeclared sub ingredients: wheat and milk"
          ],
          [
           "KS",
           "F-0930-2024",
           "Product is sub-potent for Vitamin D and label contains incorrect percent daily value."
          ],
          [
           "NM",
           "F-1569-2023",
           "Foreign material: pieces of a pen (writing utensil)."
          ],
          [
           "NC",
           "F-0926-2023",
           "Undeclared milk"
          ],
          [
           "NY",
           "F-1636-2023",
           "Products may be contaminated with Listeria monocytogenes."
          ],
          [
           "CA",
           "F-0163-2021",
           "Presence of metal shavings in tomato paste"
          ],
          [
           "MD",
           "F-0466-2023",
           "On 02/03/2023, FRESH IDEATION FOOD GROUP, LLC dba Fresh Creative Cuisine of Baltimore, MD is  initiating a recall of  various products sold from January 24, 2023 through January 30, 2023 because the products have the potential to be contaminated with Listeria monocytogenes ."
          ],
          [
           "TX",
           "F-0259-2023",
           "Label does not include the common name for the allergens milk and wheat"
          ],
          [
           "KS",
           "F-1323-2024",
           "Potential Salmonella Contamination"
          ],
          [
           "OR",
           "F-0969-2020",
           "Raspberry Rhubarb Pie packages were recalled due to undeclared artificial almond. The actual product inside a clamshell package is Cherry Pie, which contains artificial almond extract, but it was mislabeled as Raspberry Rhubarb Pie.  The Rhubarb Pie label does not declare artificial almond extract."
          ],
          [
           "ND",
           "F-1561-2022",
           "Foreign Material - plastic"
          ],
          [
           "TX",
           "F-1280-2024",
           "Potential metal contamination"
          ],
          [
           "MD",
           "F-0235-2024",
           "On 02/03/2023, FRESH IDEATION FOOD GROUP, LLC dba Fresh Creative Cuisine of Baltimore, MD is  initiating a recall of  various products sold from January 24, 2023 through January 30, 2023 because the products have the potential to be contaminated with Listeria monocytogenes ."
          ],
          [
           "OH",
           "F-0800-2020",
           "Coburn Farms 4.5oz  Snackers is being recalled due to a labeling error leading to undeclared peanut."
          ],
          [
           "OH",
           "F-1534-2023",
           "Undeclared FD&C Yellow #5 and Yellow #6"
          ],
          [
           "NY",
           "F-0766-2021",
           "Cheese label does not declare wheat from ale wash"
          ],
          [
           "IL",
           "F-0688-2020",
           "E.coli O26"
          ],
          [
           "MI",
           "F-0633-2022",
           "The milk used in the cheese curd had been stored in a holding tank in excess of 72 hours, therefore exceeding the required 72 hour tank cleaning interval."
          ],
          [
           "MD",
           "F-0220-2024",
           "On 02/03/2023, FRESH IDEATION FOOD GROUP, LLC dba Fresh Creative Cuisine of Baltimore, MD is  initiating a recall of  various products sold from January 24, 2023 through January 30, 2023 because the products have the potential to be contaminated with Listeria monocytogenes ."
          ],
          [
           "IL",
           "F-1220-2023",
           "Products may contain Salmonella"
          ],
          [
           "MD",
           "F-1569-2024",
           "Possible contamination with Listeria monocytogenes"
          ],
          [
           "GA",
           "F-0447-2022",
           "During an FDA investigation the firm was notified that the product contains undeclared milk."
          ],
          [
           "CA",
           "F-0323-2021",
           "Potential undeclared allergens (wheat and tree nuts)"
          ],
          [
           "FL",
           "F-1094-2020",
           "Ready to Eat salad products containing iceberg lettuce, red cabbage and/or carrot ingredients are recalled due to a possible health risk from Cyclospora."
          ],
          [
           "FL",
           "F-0501-2020",
           "Product has potential to be contaminated with bacteria."
          ],
          [
           "VA",
           "F-0986-2021",
           "Undeclared sulfites"
          ],
          [
           "IA",
           "F-0789-2024",
           "Undeclared allergens - sesame seed, coconut, soy, milk. Potential for unintended allergen presence (Sesame, Coconut, Soy, Wheat, Milk and Eggs)."
          ],
          [
           "CA",
           "F-0060-2021",
           "Potential Salmonella contamination."
          ],
          [
           "NY",
           "F-0862-2024",
           "Product contains undeclared soy lecithin."
          ],
          [
           "CA",
           "F-1042-2024",
           "Undeclared allergen; egg"
          ],
          [
           "VT",
           "F-0526-2024",
           "Products may be contaminated with Listeria monocytogenes."
          ],
          [
           "OH",
           "F-1681-2024",
           "Listeria monocyotgenes contamination"
          ],
          [
           "NJ",
           "F-0257-2022",
           "Product may be contaminated with foreign material (metal)"
          ],
          [
           "OH",
           "F-1399-2024",
           "Possibly contaminated with Listeria monocytogenes"
          ],
          [
           "FL",
           "F-1235-2024",
           "Undeclared Allergen: milk, eggs, wheat, peanuts, and tree nuts."
          ],
          [
           "",
           "F-1227-2022",
           "Potential contamination with Salmonella"
          ],
          [
           "TX",
           "F-0066-2022",
           "Undeclared egg yolks"
          ],
          [
           "PA",
           "F-1151-2024",
           "Foreign material (metal) in donuts"
          ],
          [
           "NJ",
           "F-0689-2021",
           "Possible metal fragments in Yogurt Bars"
          ],
          [
           "OH",
           "F-1162-2020",
           "Undeclared cashews in the product."
          ],
          [
           "UT",
           "F-0792-2021",
           "The firm was notified by an ingredient supplier of Medium Chain Triglycerides (MCT) that the ingredient potentially contained traces of milk. This affected two of the firm's products that are marketed and sold as vegan and dairy-free."
          ],
          [
           "MD",
           "F-0480-2023",
           "On 02/03/2023, FRESH IDEATION FOOD GROUP, LLC dba Fresh Creative Cuisine of Baltimore, MD is  initiating a recall of  various products sold from January 24, 2023 through January 30, 2023 because the products have the potential to be contaminated with Listeria monocytogenes ."
          ],
          [
           "IL",
           "F-1058-2023",
           "Products may contain Salmonella"
          ],
          [
           "MA",
           "F-0963-2023",
           "Product may be contaminated with Listeria monocytogenes."
          ],
          [
           "IL",
           "F-1063-2023",
           "Products may contain Salmonella"
          ],
          [
           "VA",
           "F-0746-2021",
           "Undeclared egg and milk"
          ],
          [
           "OH",
           "F-1120-2022",
           "Products are potentially contaminated with Salmonella."
          ],
          [
           "WI",
           "F-1501-2024",
           "Potential under-processing."
          ],
          [
           "GA",
           "F-0611-2020",
           "The firm was notified by FDA & CDC of a potential Listeria monocytogenes genetic match between environmental samples from our facility and case patient samples associated with an illness outbreak."
          ],
          [
           "MD",
           "F-0285-2024",
           "On 02/03/2023, FRESH IDEATION FOOD GROUP, LLC dba Fresh Creative Cuisine of Baltimore, MD is  initiating a recall of  various products sold from January 24, 2023 through January 30, 2023 because the products have the potential to be contaminated with Listeria monocytogenes ."
          ],
          [
           "CA",
           "F-0053-2023",
           "Indication of product spoilage"
          ],
          [
           "IA",
           "F-0021-2022",
           "Milk products and shipped without being properly pasteurized."
          ],
          [
           "MI",
           "F-0840-2023",
           "Listeria monocytogenes"
          ],
          [
           "KS",
           "F-1316-2024",
           "Potential Salmonella Contamination"
          ],
          [
           "WY",
           "F-1452-2022",
           "Products may potentially contain one or more of the following undeclared tree nuts: Pecans, Almonds, Coconut, Macadamia Nuts, & Walnuts."
          ],
          [
           "IN",
           "F-0278-2023",
           "Products held under insanitary conditions"
          ],
          [
           "OH",
           "F-0834-2024",
           "The food was not held at an appropriate temperature.  The holding temperature could affect spoilage and potentially support pathogen growth."
          ],
          [
           "CA",
           "F-0164-2021",
           "Presence of metal shavings in tomato paste"
          ]
         ],
         "hovertemplate": "<b>%{hovertext}</b><br><br>Latitude=%{lat}<br>Longitude=%{lon}<br>State=%{customdata[0]}<br>Recall Number=%{customdata[1]}<br>Reason for Recall=%{customdata[2]}<extra></extra>",
         "hovertext": [
          "Rancho Dominguez",
          "Brooklyn",
          "Monterey",
          "Lovell",
          "Sioux City",
          "Nof Ha-Galil",
          "San Luis",
          "Dayton",
          "Coldwater",
          "Owings Mills",
          "Jessup",
          "New Century",
          "Kansas City",
          "Chicopee",
          "Chicago",
          "Baltimore",
          "Visalia",
          "Charleston",
          "Mesa",
          "Caledonia",
          "Garden City",
          "New York",
          "Cleveland",
          "Piscataway",
          "Windermere",
          "Jamaica",
          "Oxnard",
          "Miami",
          "Chicago",
          "Chicago",
          "Albuquerque",
          "El Paso",
          "Coral Gables",
          "Buffalo",
          "Inglewood",
          "Marietta",
          "Danville",
          "Nof Ha-Galil",
          "Fort Myers",
          "Friesland",
          "Norcross",
          "Utica",
          "Olympia",
          "Navarre",
          "Pittsburgh",
          "Wayzata",
          "Everett",
          "Orrville",
          "Northvale",
          "Depew",
          "Conley",
          "Kent",
          "Chicago",
          "E Stroudsburg",
          "Melbourne",
          "Tukwila",
          "Chicago",
          "Grand Rapids",
          "Boise",
          "Sparks",
          "Chicago",
          "Brooklyn",
          "Sacramento",
          "New York",
          "Baltimore",
          "Brooklyn",
          "Wayzata",
          "Fresno",
          "Portland",
          "E Stroudsburg",
          "Brockport",
          "Woodward",
          "Fresno",
          "Dallas",
          "Bronx",
          "Blaine",
          "Maple Ridge",
          "Olympia",
          "Albuquerque",
          "Baltimore",
          "Chicago",
          "Baltimore",
          "Chicago",
          "Jessup",
          "Kent",
          "Minneapolis",
          "East Arlington",
          "Baltimore",
          "Berkeley",
          "Fond Du Lac",
          "Grand Prairie",
          "Nof Ha-Galil",
          "Brooklyn",
          "Malden",
          "Norcross",
          "Passaic",
          "Chesterfield",
          "Fresno",
          "Wallkill",
          "Rancho Cucamonga",
          "Murray",
          "Coventry",
          "Garden City",
          "Hubbard",
          "Streamwood",
          "Owings Mills",
          "Arlington",
          "Santa Ana",
          "Rock Hill",
          "Baltimore",
          "Los Angeles",
          "Buffalo",
          "Golden Valley",
          "American Fork",
          "Chicago",
          "Inglewood",
          "Cullen",
          "Warren",
          "Barronett",
          "Conley",
          "Thomasville",
          "Inver Grove Heights",
          "Willoughby Hills",
          "Nebraska City",
          "Long Beach",
          "Shirley",
          "Shirley",
          "Albuquerque",
          "Amityville",
          "Fresno",
          "Wayzata",
          "Piscataway",
          "Cleveland",
          "Greenville",
          "Rochester",
          "White Plains",
          "Tarpon Springs",
          "Baltimore",
          "Woodward",
          "Indianapolis",
          "Salt Lake City",
          "Covington",
          "Albuquerque",
          "South Plainfield",
          "Forest Grove",
          "Vernon",
          "Windermere",
          "Chicago",
          "Brick",
          "Boulder",
          "Baltimore",
          "Eden Prairie",
          "Seattle",
          "Springdale",
          "El Paso",
          "Hillsboro",
          "Baltimore",
          "Kent",
          "Baltimore",
          "Nof Ha-Galil",
          "Baltimore",
          "Monterey",
          "Phoenix",
          "Boise",
          "Torrance",
          "Baltimore",
          "Melville",
          "Zanesville",
          "Willernie",
          "Boerne",
          "Louisville",
          "New York",
          "San Antonio",
          "Idaho Falls",
          "Tampa",
          "Pittsburgh",
          "Green Bay",
          "Edgewood",
          "Burlington",
          "New York",
          "Golden",
          "Caldwell",
          "Owings Mills",
          "Columbus",
          "Pittsburgh",
          "Pittsburgh",
          "Conley",
          "Baltimore",
          "Eugene",
          "Portland",
          "New York",
          "College Park",
          "Baltimore",
          "Windermere",
          "Marathon",
          "Bridgeport",
          "Orrville",
          "Louisville",
          "Houston",
          "Coventry",
          "Irving",
          "Cambridge",
          "Norcross",
          "Boulder",
          "San Luis Obispo",
          "Brea",
          "Saint Marys",
          "Miami",
          "Oregon City",
          "Arlington",
          "Willard",
          "Jeffersonville",
          "Bellingham",
          "New York",
          "Belhaven",
          "Indianapolis",
          "Albuquerque",
          "Cincinnati",
          "Brooklyn",
          "Keene",
          "Muscatine",
          "Streamwood",
          "Boise",
          "Brooklyn",
          "Jacksonville",
          "Piscataway",
          "Shelby",
          "Brooklyn",
          "Williamstown",
          "Baltimore",
          "Spokane",
          "Portage",
          "Austin",
          "Chicago",
          "Dallas",
          "Lovell",
          "Chicago",
          "East Windsor",
          "Rochester",
          "San Francisco",
          "Thomasville",
          "Lake Worth",
          "Streamwood",
          "Sioux City",
          "Charlotte",
          "Conley",
          "Clovis",
          "Perth Amboy",
          "Walnut Creek",
          "Warren",
          "La Mirada",
          "Baltimore",
          "Walnut Creek",
          "Baltimore",
          "Baltimore",
          "North Brunswick",
          "Conley",
          "Shawnee",
          "Cambridge",
          "West Valley City",
          "Dover",
          "Baltimore",
          "Murray",
          "Fresno",
          "Mobile",
          "Mentor",
          "Framingham",
          "Charlottesville",
          "Columbus",
          "Nof Ha-Galil",
          "Ephrata",
          "Pico Rivera",
          "Sunbury",
          "Claysburg",
          "Gainesville",
          "Fredericksburg",
          "Chicago",
          "Chicago",
          "Opa Locka",
          "Baltimore",
          "Grand Prairie",
          "Minneapolis",
          "East Hardwick",
          "Oxnard",
          "Sacramento",
          "Albuquerque",
          "New York",
          "Elmont",
          "Brooklyn",
          "Chicago",
          "Redlands",
          "Watertown",
          "Walnut Creek",
          "Little Canada",
          "Roseburg",
          "Fostoria",
          "Kent",
          "Utica",
          "Toa Baja",
          "Costa Mesa",
          "Brooklyn",
          "Chicago",
          "San Luis Obispo",
          "Columbus",
          "Eureka",
          "Windermere",
          "Pico Rivera",
          "City Of Industry",
          "Brooklyn",
          "Madison",
          "Orrville",
          "Windermere",
          "Leola",
          "College Park",
          "Baltimore",
          "Norcross",
          "Chicago",
          "Rancho Dominguez",
          "Minneapolis",
          "Abbott Park",
          "Albuquerque",
          "Topeka",
          "Madison",
          "Norcross",
          "Stratham",
          "La Crosse",
          "Van Nuys",
          "Baltimore",
          "Depew",
          "Newburyport",
          "Inglewood",
          "Charlotte",
          "Saint Marys",
          "Milton Freewater",
          "Pleasant View",
          "Seattle",
          "Greenfield",
          "Etobicoke",
          "Concord",
          "Salt Lake City",
          "Bronx",
          "North Plains",
          "Bradenton",
          "Warren",
          "Jessup",
          "Boulder",
          "Boise",
          "Columbus",
          "Edison",
          "Santa Ana",
          "Orrville",
          "Rochester",
          "Willernie",
          "Phoenix",
          "College Park",
          "Miami",
          "Newberg",
          "San Juan",
          "Topeka",
          "Chesterfield",
          "Willard",
          "Charlotte",
          "Albuquerque",
          "Portland",
          "Chesterfield",
          "Miami",
          "Saint Marys",
          "Monterey",
          "Pennsauken",
          "Madison",
          "Cascade Locks",
          "Williston",
          "Tampa",
          "Newburgh",
          "Windermere",
          "Modesto",
          "Danville",
          "San Luis",
          "San Francisco",
          "Bellingham",
          "Saint Joseph",
          "Oceanside",
          "Baltimore",
          "Eagle",
          "Homosassa",
          "Portland",
          "Kennewick",
          "Abbott Park",
          "Saint Joseph",
          "Atlanta",
          "Reston",
          "Chicago",
          "Orrville",
          "Norcross",
          "Burlington",
          "Grand Rapids",
          "Brooklyn",
          "Grand Rapids",
          "Clare",
          "Watsonville",
          "Salinas",
          "Charlotte",
          "Cambridge",
          "Brooklyn",
          "Baltimore",
          "Fullerton",
          "Baltimore",
          "Beaverton",
          "Baltimore",
          "Brockport",
          "Pittsburgh",
          "Pittsburgh",
          "Apopka",
          "Kent",
          "Lovell",
          "Vineland",
          "Baltimore",
          "Rogers",
          "Seattle",
          "Troy",
          "Whately",
          "Danville",
          "Manhasset",
          "Baltimore",
          "Bellingham",
          "Cleveland",
          "Columbus",
          "Bronx",
          "New Century",
          "Orange",
          "Melville",
          "Richland",
          "Windermere",
          "Owings Mills",
          "Santa Ana",
          "Rockwall",
          "Cleveland",
          "Williston",
          "Shirley",
          "La Mirada",
          "Owings Mills",
          "Brooklyn",
          "Brooklyn",
          "Wichita",
          "Albuquerque",
          "Washington",
          "Brooklyn",
          "Lodi",
          "Baltimore",
          "Dallas",
          "New Century",
          "Silverton",
          "Grand Forks",
          "San Antonio",
          "Baltimore",
          "Hiram",
          "Mentor",
          "Rochester",
          "Decatur",
          "Clare",
          "Baltimore",
          "Chicago",
          "Owings Mills",
          "Norcross",
          "Monterey",
          "Windermere",
          "Tampa",
          "Richmond",
          "Marshalltown",
          "San Luis Obispo",
          "Rochester",
          "Garden Grove",
          "East Arlington",
          "Willard",
          "Pennsauken",
          "Saint Marys",
          "Fort Myers",
          "Nof Ha-Galil",
          "Burleson",
          "Sunbury",
          "Piscataway",
          "Orrville",
          "Lehi",
          "Baltimore",
          "Chicago",
          "Whately",
          "Chicago",
          "Sterling",
          "Orrville",
          "Green Bay",
          "Gainesville",
          "Baltimore",
          "Fresno",
          "Wellman",
          "Grand Rapids",
          "New Century",
          "Lovell",
          "Indianapolis",
          "Cleveland",
          "Lodi"
         ],
         "lat": [
          33.8595564,
          40.6526006,
          null,
          null,
          null,
          null,
          32.4902604,
          39.7589478,
          34.6917684,
          39.4041967,
          39.147001450000005,
          38.8305804,
          39.1134562,
          42.1487691,
          41.8755616,
          39.2908816,
          36.3302284,
          32.7884363,
          33.4151005,
          42.7891193,
          42.3255929,
          40.7127281,
          41.4996574,
          40.5462553,
          28.4944695,
          40.7029134,
          34.1976308,
          25.7741728,
          41.8755616,
          41.8755616,
          35.0841034,
          31.7601164,
          25.7331105,
          42.8867166,
          33.9562003,
          33.9528472,
          40.125222,
          null,
          26.640628,
          43.5885954,
          33.9412127,
          40.2342313,
          47.0451022,
          40.7248607,
          40.4416941,
          44.970759,
          47.9793437,
          40.8436664,
          41.0066649,
          42.9022047,
          33.6448311,
          47.3826903,
          41.8755616,
          40.9995386,
          28.0785034,
          47.4627356,
          41.8755616,
          42.9632425,
          43.6166163,
          39.5404679,
          41.8755616,
          40.6526006,
          38.5810606,
          40.7127281,
          39.2908816,
          40.6526006,
          44.970759,
          36.7394421,
          45.5202471,
          40.9995386,
          43.213671,
          41.8569299,
          36.7394421,
          32.7762719,
          40.8466508,
          48.9881108,
          36.0754044,
          47.0451022,
          35.0841034,
          39.2908816,
          41.8755616,
          39.2908816,
          41.8755616,
          39.147001450000005,
          47.3826903,
          44.9772995,
          43.0603553,
          39.2908816,
          37.8708393,
          43.7533414,
          32.7459645,
          null,
          40.6526006,
          42.4268484,
          33.9412127,
          41.0461864,
          38.661953,
          36.7394421,
          41.4636977,
          34.1033192,
          40.6667841,
          41.7822265,
          42.3255929,
          41.156425,
          42.0255827,
          39.4041967,
          38.8769326,
          33.7494951,
          34.9248667,
          39.2908816,
          34.0536909,
          42.8867166,
          44.9861176,
          40.3768064,
          41.8755616,
          33.9562003,
          37.1176477,
          42.4932575,
          45.636944,
          33.6448311,
          30.8365815,
          44.8479039,
          41.598382,
          40.676526,
          33.7690164,
          40.8012894,
          40.8012894,
          35.0841034,
          40.6789893,
          36.7394421,
          44.970759,
          40.5462553,
          41.4996574,
          39.77815075,
          43.157285,
          41.0339862,
          28.1470965,
          39.2908816,
          41.8569299,
          39.7683331,
          40.7596198,
          40.1172727,
          35.0841034,
          40.5792701,
          45.5190404,
          34.007135,
          28.4944695,
          41.8755616,
          40.0707244,
          40.0149856,
          39.2908816,
          44.8546856,
          47.6038321,
          36.1867442,
          31.7601164,
          45.5228939,
          39.2908816,
          47.3826903,
          39.2908816,
          null,
          39.2908816,
          null,
          33.4484367,
          43.6166163,
          33.8371392,
          39.2908816,
          40.7934322,
          39.9401426,
          45.0541329,
          29.7946641,
          38.2542376,
          40.7127281,
          29.4246002,
          43.4887907,
          27.9477595,
          40.4416941,
          44.5126379,
          42.6444914,
          44.4761601,
          40.7127281,
          39.7546349,
          43.6678736,
          39.4041967,
          39.9622601,
          40.4416941,
          40.4416941,
          33.6448311,
          39.2908816,
          44.0505054,
          45.5202471,
          40.7127281,
          33.6534427,
          39.2908816,
          28.4944695,
          24.7137524,
          41.1792695,
          40.8436664,
          39.977763,
          29.7589382,
          41.7822265,
          32.8295183,
          38.5714624,
          33.9412127,
          40.0149856,
          35.3540209,
          33.9170444,
          40.5422697,
          25.7741728,
          45.3573429,
          38.8769326,
          41.0531134,
          38.2770227,
          48.7544012,
          40.7127281,
          35.5401653,
          39.7683331,
          35.0841034,
          39.1014537,
          40.6526006,
          42.933597,
          41.4776121,
          42.0255827,
          43.6166163,
          40.6526006,
          30.3321838,
          40.5462553,
          40.3491604,
          40.6526006,
          42.7135472,
          39.2908816,
          47.6571934,
          44.4604931,
          30.2711286,
          41.8755616,
          32.7762719,
          null,
          41.8755616,
          41.9156316,
          43.157285,
          37.7792588,
          30.8365815,
          26.615891,
          42.0255827,
          null,
          35.2272086,
          33.6448311,
          36.8252277,
          40.5200187,
          39.8313042,
          42.4932575,
          33.9060971,
          39.2908816,
          39.8313042,
          39.2908816,
          39.2908816,
          40.4539249,
          33.6448311,
          35.3272928,
          38.5714624,
          40.6967254,
          27.99439345,
          39.2908816,
          40.6667841,
          36.7394421,
          30.6913462,
          41.6664781,
          42.2773177,
          38.029306,
          39.9622601,
          null,
          40.1799111,
          33.9830688,
          40.8619754,
          40.2967427,
          34.2978794,
          38.3031837,
          41.8755616,
          41.8755616,
          25.9023168,
          39.2908816,
          32.7459645,
          44.9772995,
          44.5217205,
          34.1976308,
          38.5810606,
          35.0841034,
          40.7127281,
          40.7076444,
          40.6526006,
          41.8755616,
          34.0550328,
          43.194335,
          39.8313042,
          45.0269101,
          43.216505,
          41.1574297,
          47.3826903,
          40.2342313,
          18.4426255,
          33.6633386,
          40.6526006,
          41.8755616,
          35.3540209,
          39.9622601,
          40.7906871,
          28.4944695,
          33.9830688,
          34.0182252,
          40.6526006,
          43.074761,
          40.8436664,
          28.4944695,
          40.087875,
          33.6534427,
          39.2908816,
          33.9412127,
          41.8755616,
          33.8595564,
          44.9772995,
          42.0317914,
          35.0841034,
          39.049011,
          43.074761,
          33.9412127,
          43.0244129,
          43.8122836,
          34.1866193,
          39.2908816,
          42.9022047,
          42.8132845,
          33.9562003,
          35.2272086,
          40.5422697,
          45.9329103,
          41.3199212,
          47.6038321,
          42.5876342,
          null,
          null,
          40.7596198,
          40.8466508,
          45.5973123,
          27.4989278,
          42.4932575,
          39.147001450000005,
          40.0149856,
          43.6166163,
          39.9622601,
          40.518157,
          33.7494951,
          40.8436664,
          43.157285,
          45.0541329,
          33.4484367,
          33.6534427,
          25.7741728,
          45.300347,
          18.465299,
          39.049011,
          38.661953,
          41.0531134,
          35.2272086,
          35.0841034,
          45.5202471,
          42.8873038,
          25.7741728,
          40.5422697,
          null,
          39.9562238,
          43.074761,
          45.669513,
          44.4376099,
          27.9477595,
          41.5034271,
          28.4944695,
          37.6393419,
          40.125222,
          32.4902604,
          37.7792588,
          48.7544012,
          39.7686055,
          33.1958696,
          39.2908816,
          43.6954424,
          28.782535,
          45.5202471,
          46.2087066,
          42.0317914,
          39.7686055,
          33.7489924,
          38.953055899999995,
          41.8755616,
          40.8436664,
          33.9412127,
          44.4761601,
          42.9632425,
          40.6526006,
          42.9632425,
          43.9688673,
          36.9092773,
          36.6744117,
          35.2272086,
          42.3656347,
          40.6526006,
          39.2908816,
          33.8708215,
          39.2908816,
          45.4871723,
          39.2908816,
          43.213671,
          40.4416941,
          40.4416941,
          28.678013,
          47.3826903,
          null,
          39.4862777,
          39.2908816,
          36.3330154,
          47.6038321,
          40.0394982,
          42.4399249,
          40.125222,
          40.7956894,
          39.2908816,
          48.7544012,
          41.4996574,
          39.9622601,
          40.8466508,
          38.8305804,
          33.750631,
          40.7934322,
          46.2804298,
          28.4944695,
          39.4041967,
          33.7494951,
          32.8923464,
          41.4996574,
          44.4376099,
          40.8012894,
          33.9060971,
          39.4041967,
          40.6526006,
          40.6526006,
          37.6922361,
          35.0841034,
          35.8725573,
          40.6526006,
          38.1343744,
          39.2908816,
          32.7762719,
          38.8305804,
          45.0049305,
          47.9252042,
          29.4246002,
          39.2908816,
          41.312555,
          41.6664781,
          43.157285,
          39.8454163,
          43.9688673,
          39.2908816,
          41.8755616,
          39.4041967,
          33.9412127,
          null,
          28.4944695,
          27.9477595,
          37.5385087,
          42.048881,
          35.3540209,
          43.157285,
          33.7746292,
          43.0603553,
          41.0531134,
          39.9562238,
          40.5422697,
          26.640628,
          null,
          30.4764878,
          40.8619754,
          40.5462553,
          40.8436664,
          40.3881114,
          39.2908816,
          41.8755616,
          42.4399249,
          41.8755616,
          39.0017455,
          40.8436664,
          44.5126379,
          34.2978794,
          39.2908816,
          36.7394421,
          41.4650649,
          42.9632425,
          38.8305804,
          null,
          39.7683331,
          41.4996574,
          38.1343744
         ],
         "legendgroup": "",
         "lon": [
          -118.2167197,
          -73.9497211,
          null,
          null,
          null,
          null,
          -114.7821295,
          -84.1916069,
          -89.9773124,
          -76.7956745,
          -76.76991768022445,
          -94.88806111131836,
          -94.626497,
          -72.6071119,
          -87.6244212,
          -76.610759,
          -119.292058,
          -79.9399309,
          -111.831455,
          -85.5163391,
          -83.3310422,
          -74.0060152,
          -81.6936772,
          -74.4660408,
          -81.5345547,
          -73.8006429,
          -119.180381,
          -80.19362,
          -87.6244212,
          -87.6244212,
          -106.650985,
          -106.4870404,
          -80.2585107,
          -78.8783922,
          -118.353132,
          -84.5496148,
          -87.6304614,
          null,
          -81.8723084,
          -89.067335,
          -84.2135309,
          -82.4512699,
          -122.8950075,
          -81.5218427,
          -79.9900861,
          -93.511947,
          -122.2127011,
          -81.7640212,
          -73.9490627,
          -78.6956723,
          -84.3257571,
          -122.2270272,
          -87.6244212,
          -75.1812913,
          -80.6077908,
          -122.2559156,
          -87.6244212,
          -85.6678639,
          -116.200886,
          -119.7487235,
          -87.6244212,
          -73.9497211,
          -121.493895,
          -74.0060152,
          -76.610759,
          -73.9497211,
          -93.511947,
          -119.78483,
          -122.674194,
          -75.1812913,
          -77.93918,
          -93.9218956,
          -119.78483,
          -96.7968559,
          -73.8785937,
          -122.743575,
          -78.43302233761821,
          -122.8950075,
          -106.650985,
          -76.610759,
          -87.6244212,
          -76.610759,
          -87.6244212,
          -76.76991768022445,
          -122.2270272,
          -93.2654692,
          -73.1406619,
          -76.610759,
          -122.272863,
          -88.4493796,
          -96.9977846,
          null,
          -73.9497211,
          -71.0683741,
          -84.2135309,
          -74.3177933,
          -90.5643258,
          -119.78483,
          -74.3724212,
          -117.575173,
          -111.888417,
          -72.31157629536125,
          -83.3310422,
          -80.5688946,
          -88.1784085,
          -76.7956745,
          -77.0893094,
          -117.873221,
          -81.0250784,
          -76.610759,
          -118.242766,
          -78.8783922,
          -93.3784618,
          -111.7959146,
          -87.6244212,
          -118.353132,
          -78.6491684,
          -83.0062746,
          -91.9929895,
          -84.3257571,
          -83.9787808,
          -93.0428119,
          -81.418447,
          -95.858694,
          -118.191604,
          -72.8675941,
          -72.8675941,
          -106.650985,
          -73.4170673,
          -119.78483,
          -93.511947,
          -74.4660408,
          -81.6936772,
          -75.60597661661248,
          -77.615214,
          -73.7629097,
          -82.756367,
          -76.610759,
          -93.9218956,
          -86.1583502,
          -111.886797,
          -84.3538367,
          -106.650985,
          -74.4115401,
          -123.1110551,
          -118.22525,
          -81.5345547,
          -87.6244212,
          -74.1280562,
          -105.270545,
          -76.610759,
          -93.470786,
          -122.330062,
          -94.1288142,
          -106.4870404,
          -122.989827,
          -76.610759,
          -122.2270272,
          -76.610759,
          null,
          -76.610759,
          null,
          -112.074141,
          -116.200886,
          -118.3413606,
          -76.610759,
          -73.4151214,
          -82.005019,
          -92.9566037,
          -98.7319703,
          -85.759407,
          -74.0060152,
          -98.4951405,
          -112.03628,
          -82.458444,
          -79.9900861,
          -88.0125794,
          -91.4011118,
          -73.212906,
          -74.0060152,
          -105.22058,
          -116.689415,
          -76.7956745,
          -83.0007065,
          -79.9900861,
          -79.9900861,
          -84.3257571,
          -76.610759,
          -123.0950506,
          -122.674194,
          -74.0060152,
          -84.4493725,
          -76.610759,
          -81.5345547,
          -81.0903512,
          -73.1887863,
          -81.7640212,
          -105.1319296,
          -95.3676974,
          -72.31157629536125,
          -96.9442177,
          -76.0763177,
          -84.2135309,
          -105.270545,
          -120.375716,
          -117.888855,
          -84.3893962,
          -80.19362,
          -122.606758,
          -77.0893094,
          -82.7262958,
          -85.7371604,
          -122.478836,
          -74.0060152,
          -76.6229874,
          -86.1583502,
          -106.650985,
          -84.5124602,
          -73.9497211,
          -72.2784264,
          -91.1210053,
          -88.1784085,
          -116.200886,
          -73.9497211,
          -81.655651,
          -74.4660408,
          -84.1593008,
          -73.9497211,
          -73.2094566,
          -76.610759,
          -117.42351,
          -89.5108818,
          -97.7436995,
          -87.6244212,
          -96.7968559,
          null,
          -87.6244212,
          -72.6130726,
          -77.615214,
          -122.4193286,
          -83.9787808,
          -80.0691435,
          -88.1784085,
          null,
          -80.8430827,
          -84.3257571,
          -119.7029194,
          -74.2745215,
          -82.8915696,
          -83.0062746,
          -118.0107092,
          -76.610759,
          -82.8915696,
          -76.610759,
          -76.610759,
          -74.476545,
          -84.3257571,
          -96.9253004,
          -76.0763177,
          -111.986821,
          -82.22171105983051,
          -76.610759,
          -111.888417,
          -119.78483,
          -88.0437509,
          -81.3399769,
          -71.4165905,
          -78.4766781,
          -83.0007065,
          null,
          -76.1789242,
          -118.096735,
          -76.7936252,
          -78.449737,
          -83.8240663,
          -77.4605399,
          -87.6244212,
          -87.6244212,
          -80.2503271,
          -76.610759,
          -96.9977846,
          -93.2654692,
          -72.3087159,
          -119.180381,
          -121.493895,
          -106.650985,
          -74.0060152,
          -73.7093041,
          -73.9497211,
          -87.6244212,
          -117.1827445,
          -88.7241822,
          -82.8915696,
          -93.0877197,
          -123.3417381,
          -83.4141061,
          -122.2270272,
          -82.4512699,
          -66.2545652,
          -117.903317,
          -73.9497211,
          -87.6244212,
          -120.375716,
          -83.0007065,
          -124.1673746,
          -81.5345547,
          -118.096735,
          -117.9593061,
          -73.9497211,
          -89.3837613,
          -81.7640212,
          -81.5345547,
          -76.1849534,
          -84.4493725,
          -76.610759,
          -84.2135309,
          -87.6244212,
          -118.2167197,
          -93.2654692,
          -88.30177572636755,
          -106.650985,
          -95.677556,
          -89.3837613,
          -84.2135309,
          -70.9122808,
          -91.2514355,
          -118.4486675,
          -76.610759,
          -78.6956723,
          -70.8819188,
          -118.353132,
          -80.8430827,
          -84.3893962,
          -118.387755,
          -111.988791,
          -122.330062,
          -72.6002068,
          null,
          null,
          -111.886797,
          -73.8785937,
          -122.993626,
          -82.5748194,
          -83.0062746,
          -76.76991768022445,
          -105.270545,
          -116.200886,
          -83.0007065,
          -74.4113926,
          -117.873221,
          -81.7640212,
          -77.615214,
          -92.9566037,
          -112.074141,
          -84.4493725,
          -80.19362,
          -122.972751,
          -66.116666,
          -95.677556,
          -90.5643258,
          -82.7262958,
          -80.8430827,
          -106.650985,
          -122.674194,
          -72.4703661,
          -80.19362,
          -84.3893962,
          null,
          -75.0579502,
          -89.3837613,
          -121.890402,
          -73.0682659,
          -82.458444,
          -74.0104179,
          -81.5345547,
          -120.9968892,
          -87.6304614,
          -114.7821295,
          -122.4193286,
          -122.478836,
          -94.8466322,
          -117.379483,
          -76.610759,
          -116.3540138,
          -82.60652720207852,
          -122.674194,
          -119.119919,
          -88.30177572636755,
          -94.8466322,
          -84.3902644,
          -77.35021396591173,
          -87.6244212,
          -81.7640212,
          -84.2135309,
          -73.212906,
          -85.6678639,
          -73.9497211,
          -85.6678639,
          -84.8505091,
          -121.7529071,
          -121.655037,
          -80.8430827,
          -71.1040018,
          -73.9497211,
          -76.610759,
          -117.929416,
          -76.610759,
          -122.80378,
          -76.610759,
          -77.93918,
          -79.9900861,
          -79.9900861,
          -81.511398,
          -122.2270272,
          null,
          -75.0254256,
          -76.610759,
          -94.1166283,
          -122.330062,
          -84.2032767,
          -72.6349083,
          -87.6304614,
          -73.6989103,
          -76.610759,
          -122.478836,
          -81.6936772,
          -83.0007065,
          -73.8785937,
          -94.88806111131836,
          -117.8722311,
          -73.4151214,
          -119.275205,
          -81.5345547,
          -76.7956745,
          -117.873221,
          -96.4066987,
          -81.6936772,
          -73.0682659,
          -72.8675941,
          -118.0107092,
          -76.7956745,
          -73.9497211,
          -73.9497211,
          -97.3375448,
          -106.650985,
          -76.6215245,
          -73.9497211,
          -121.2735432,
          -76.610759,
          -96.7968559,
          -94.88806111131836,
          -122.7832947,
          -97.0306741,
          -98.4951405,
          -76.610759,
          -81.14371,
          -81.3399769,
          -77.615214,
          -88.9524151,
          -84.8505091,
          -76.610759,
          -87.6244212,
          -76.7956745,
          -84.2135309,
          null,
          -81.5345547,
          -82.458444,
          -77.43428,
          -92.9122672,
          -120.375716,
          -77.615214,
          -117.9463717,
          -73.1406619,
          -82.7262958,
          -75.0579502,
          -84.3893962,
          -81.8723084,
          null,
          -96.6353488,
          -76.7936252,
          -74.4660408,
          -81.7640212,
          -111.8486019,
          -76.610759,
          -87.6244212,
          -72.6349083,
          -87.6244212,
          -77.4033349,
          -81.7640212,
          -88.0125794,
          -83.8240663,
          -76.610759,
          -119.78483,
          -91.8378537,
          -85.6678639,
          -94.88806111131836,
          null,
          -86.1583502,
          -81.6936772,
          -121.2735432
         ],
         "marker": {
          "color": "#636efa"
         },
         "mode": "markers",
         "name": "",
         "showlegend": false,
         "subplot": "mapbox",
         "type": "scattermapbox"
        }
       ],
       "layout": {
        "height": 1000,
        "legend": {
         "tracegroupgap": 0
        },
        "mapbox": {
         "center": {
          "lat": 39.02091522811203,
          "lon": -90.7533055736752
         },
         "domain": {
          "x": [
           0,
           1
          ],
          "y": [
           0,
           1
          ]
         },
         "style": "open-street-map",
         "zoom": 3
        },
        "margin": {
         "b": 0,
         "l": 0,
         "r": 0,
         "t": 50
        },
        "template": {
         "data": {
          "bar": [
           {
            "error_x": {
             "color": "#2a3f5f"
            },
            "error_y": {
             "color": "#2a3f5f"
            },
            "marker": {
             "line": {
              "color": "#E5ECF6",
              "width": 0.5
             },
             "pattern": {
              "fillmode": "overlay",
              "size": 10,
              "solidity": 0.2
             }
            },
            "type": "bar"
           }
          ],
          "barpolar": [
           {
            "marker": {
             "line": {
              "color": "#E5ECF6",
              "width": 0.5
             },
             "pattern": {
              "fillmode": "overlay",
              "size": 10,
              "solidity": 0.2
             }
            },
            "type": "barpolar"
           }
          ],
          "carpet": [
           {
            "aaxis": {
             "endlinecolor": "#2a3f5f",
             "gridcolor": "white",
             "linecolor": "white",
             "minorgridcolor": "white",
             "startlinecolor": "#2a3f5f"
            },
            "baxis": {
             "endlinecolor": "#2a3f5f",
             "gridcolor": "white",
             "linecolor": "white",
             "minorgridcolor": "white",
             "startlinecolor": "#2a3f5f"
            },
            "type": "carpet"
           }
          ],
          "choropleth": [
           {
            "colorbar": {
             "outlinewidth": 0,
             "ticks": ""
            },
            "type": "choropleth"
           }
          ],
          "contour": [
           {
            "colorbar": {
             "outlinewidth": 0,
             "ticks": ""
            },
            "colorscale": [
             [
              0,
              "#0d0887"
             ],
             [
              0.1111111111111111,
              "#46039f"
             ],
             [
              0.2222222222222222,
              "#7201a8"
             ],
             [
              0.3333333333333333,
              "#9c179e"
             ],
             [
              0.4444444444444444,
              "#bd3786"
             ],
             [
              0.5555555555555556,
              "#d8576b"
             ],
             [
              0.6666666666666666,
              "#ed7953"
             ],
             [
              0.7777777777777778,
              "#fb9f3a"
             ],
             [
              0.8888888888888888,
              "#fdca26"
             ],
             [
              1,
              "#f0f921"
             ]
            ],
            "type": "contour"
           }
          ],
          "contourcarpet": [
           {
            "colorbar": {
             "outlinewidth": 0,
             "ticks": ""
            },
            "type": "contourcarpet"
           }
          ],
          "heatmap": [
           {
            "colorbar": {
             "outlinewidth": 0,
             "ticks": ""
            },
            "colorscale": [
             [
              0,
              "#0d0887"
             ],
             [
              0.1111111111111111,
              "#46039f"
             ],
             [
              0.2222222222222222,
              "#7201a8"
             ],
             [
              0.3333333333333333,
              "#9c179e"
             ],
             [
              0.4444444444444444,
              "#bd3786"
             ],
             [
              0.5555555555555556,
              "#d8576b"
             ],
             [
              0.6666666666666666,
              "#ed7953"
             ],
             [
              0.7777777777777778,
              "#fb9f3a"
             ],
             [
              0.8888888888888888,
              "#fdca26"
             ],
             [
              1,
              "#f0f921"
             ]
            ],
            "type": "heatmap"
           }
          ],
          "heatmapgl": [
           {
            "colorbar": {
             "outlinewidth": 0,
             "ticks": ""
            },
            "colorscale": [
             [
              0,
              "#0d0887"
             ],
             [
              0.1111111111111111,
              "#46039f"
             ],
             [
              0.2222222222222222,
              "#7201a8"
             ],
             [
              0.3333333333333333,
              "#9c179e"
             ],
             [
              0.4444444444444444,
              "#bd3786"
             ],
             [
              0.5555555555555556,
              "#d8576b"
             ],
             [
              0.6666666666666666,
              "#ed7953"
             ],
             [
              0.7777777777777778,
              "#fb9f3a"
             ],
             [
              0.8888888888888888,
              "#fdca26"
             ],
             [
              1,
              "#f0f921"
             ]
            ],
            "type": "heatmapgl"
           }
          ],
          "histogram": [
           {
            "marker": {
             "pattern": {
              "fillmode": "overlay",
              "size": 10,
              "solidity": 0.2
             }
            },
            "type": "histogram"
           }
          ],
          "histogram2d": [
           {
            "colorbar": {
             "outlinewidth": 0,
             "ticks": ""
            },
            "colorscale": [
             [
              0,
              "#0d0887"
             ],
             [
              0.1111111111111111,
              "#46039f"
             ],
             [
              0.2222222222222222,
              "#7201a8"
             ],
             [
              0.3333333333333333,
              "#9c179e"
             ],
             [
              0.4444444444444444,
              "#bd3786"
             ],
             [
              0.5555555555555556,
              "#d8576b"
             ],
             [
              0.6666666666666666,
              "#ed7953"
             ],
             [
              0.7777777777777778,
              "#fb9f3a"
             ],
             [
              0.8888888888888888,
              "#fdca26"
             ],
             [
              1,
              "#f0f921"
             ]
            ],
            "type": "histogram2d"
           }
          ],
          "histogram2dcontour": [
           {
            "colorbar": {
             "outlinewidth": 0,
             "ticks": ""
            },
            "colorscale": [
             [
              0,
              "#0d0887"
             ],
             [
              0.1111111111111111,
              "#46039f"
             ],
             [
              0.2222222222222222,
              "#7201a8"
             ],
             [
              0.3333333333333333,
              "#9c179e"
             ],
             [
              0.4444444444444444,
              "#bd3786"
             ],
             [
              0.5555555555555556,
              "#d8576b"
             ],
             [
              0.6666666666666666,
              "#ed7953"
             ],
             [
              0.7777777777777778,
              "#fb9f3a"
             ],
             [
              0.8888888888888888,
              "#fdca26"
             ],
             [
              1,
              "#f0f921"
             ]
            ],
            "type": "histogram2dcontour"
           }
          ],
          "mesh3d": [
           {
            "colorbar": {
             "outlinewidth": 0,
             "ticks": ""
            },
            "type": "mesh3d"
           }
          ],
          "parcoords": [
           {
            "line": {
             "colorbar": {
              "outlinewidth": 0,
              "ticks": ""
             }
            },
            "type": "parcoords"
           }
          ],
          "pie": [
           {
            "automargin": true,
            "type": "pie"
           }
          ],
          "scatter": [
           {
            "fillpattern": {
             "fillmode": "overlay",
             "size": 10,
             "solidity": 0.2
            },
            "type": "scatter"
           }
          ],
          "scatter3d": [
           {
            "line": {
             "colorbar": {
              "outlinewidth": 0,
              "ticks": ""
             }
            },
            "marker": {
             "colorbar": {
              "outlinewidth": 0,
              "ticks": ""
             }
            },
            "type": "scatter3d"
           }
          ],
          "scattercarpet": [
           {
            "marker": {
             "colorbar": {
              "outlinewidth": 0,
              "ticks": ""
             }
            },
            "type": "scattercarpet"
           }
          ],
          "scattergeo": [
           {
            "marker": {
             "colorbar": {
              "outlinewidth": 0,
              "ticks": ""
             }
            },
            "type": "scattergeo"
           }
          ],
          "scattergl": [
           {
            "marker": {
             "colorbar": {
              "outlinewidth": 0,
              "ticks": ""
             }
            },
            "type": "scattergl"
           }
          ],
          "scattermapbox": [
           {
            "marker": {
             "colorbar": {
              "outlinewidth": 0,
              "ticks": ""
             }
            },
            "type": "scattermapbox"
           }
          ],
          "scatterpolar": [
           {
            "marker": {
             "colorbar": {
              "outlinewidth": 0,
              "ticks": ""
             }
            },
            "type": "scatterpolar"
           }
          ],
          "scatterpolargl": [
           {
            "marker": {
             "colorbar": {
              "outlinewidth": 0,
              "ticks": ""
             }
            },
            "type": "scatterpolargl"
           }
          ],
          "scatterternary": [
           {
            "marker": {
             "colorbar": {
              "outlinewidth": 0,
              "ticks": ""
             }
            },
            "type": "scatterternary"
           }
          ],
          "surface": [
           {
            "colorbar": {
             "outlinewidth": 0,
             "ticks": ""
            },
            "colorscale": [
             [
              0,
              "#0d0887"
             ],
             [
              0.1111111111111111,
              "#46039f"
             ],
             [
              0.2222222222222222,
              "#7201a8"
             ],
             [
              0.3333333333333333,
              "#9c179e"
             ],
             [
              0.4444444444444444,
              "#bd3786"
             ],
             [
              0.5555555555555556,
              "#d8576b"
             ],
             [
              0.6666666666666666,
              "#ed7953"
             ],
             [
              0.7777777777777778,
              "#fb9f3a"
             ],
             [
              0.8888888888888888,
              "#fdca26"
             ],
             [
              1,
              "#f0f921"
             ]
            ],
            "type": "surface"
           }
          ],
          "table": [
           {
            "cells": {
             "fill": {
              "color": "#EBF0F8"
             },
             "line": {
              "color": "white"
             }
            },
            "header": {
             "fill": {
              "color": "#C8D4E3"
             },
             "line": {
              "color": "white"
             }
            },
            "type": "table"
           }
          ]
         },
         "layout": {
          "annotationdefaults": {
           "arrowcolor": "#2a3f5f",
           "arrowhead": 0,
           "arrowwidth": 1
          },
          "autotypenumbers": "strict",
          "coloraxis": {
           "colorbar": {
            "outlinewidth": 0,
            "ticks": ""
           }
          },
          "colorscale": {
           "diverging": [
            [
             0,
             "#8e0152"
            ],
            [
             0.1,
             "#c51b7d"
            ],
            [
             0.2,
             "#de77ae"
            ],
            [
             0.3,
             "#f1b6da"
            ],
            [
             0.4,
             "#fde0ef"
            ],
            [
             0.5,
             "#f7f7f7"
            ],
            [
             0.6,
             "#e6f5d0"
            ],
            [
             0.7,
             "#b8e186"
            ],
            [
             0.8,
             "#7fbc41"
            ],
            [
             0.9,
             "#4d9221"
            ],
            [
             1,
             "#276419"
            ]
           ],
           "sequential": [
            [
             0,
             "#0d0887"
            ],
            [
             0.1111111111111111,
             "#46039f"
            ],
            [
             0.2222222222222222,
             "#7201a8"
            ],
            [
             0.3333333333333333,
             "#9c179e"
            ],
            [
             0.4444444444444444,
             "#bd3786"
            ],
            [
             0.5555555555555556,
             "#d8576b"
            ],
            [
             0.6666666666666666,
             "#ed7953"
            ],
            [
             0.7777777777777778,
             "#fb9f3a"
            ],
            [
             0.8888888888888888,
             "#fdca26"
            ],
            [
             1,
             "#f0f921"
            ]
           ],
           "sequentialminus": [
            [
             0,
             "#0d0887"
            ],
            [
             0.1111111111111111,
             "#46039f"
            ],
            [
             0.2222222222222222,
             "#7201a8"
            ],
            [
             0.3333333333333333,
             "#9c179e"
            ],
            [
             0.4444444444444444,
             "#bd3786"
            ],
            [
             0.5555555555555556,
             "#d8576b"
            ],
            [
             0.6666666666666666,
             "#ed7953"
            ],
            [
             0.7777777777777778,
             "#fb9f3a"
            ],
            [
             0.8888888888888888,
             "#fdca26"
            ],
            [
             1,
             "#f0f921"
            ]
           ]
          },
          "colorway": [
           "#636efa",
           "#EF553B",
           "#00cc96",
           "#ab63fa",
           "#FFA15A",
           "#19d3f3",
           "#FF6692",
           "#B6E880",
           "#FF97FF",
           "#FECB52"
          ],
          "font": {
           "color": "#2a3f5f"
          },
          "geo": {
           "bgcolor": "white",
           "lakecolor": "white",
           "landcolor": "#E5ECF6",
           "showlakes": true,
           "showland": true,
           "subunitcolor": "white"
          },
          "hoverlabel": {
           "align": "left"
          },
          "hovermode": "closest",
          "mapbox": {
           "style": "light"
          },
          "paper_bgcolor": "white",
          "plot_bgcolor": "#E5ECF6",
          "polar": {
           "angularaxis": {
            "gridcolor": "white",
            "linecolor": "white",
            "ticks": ""
           },
           "bgcolor": "#E5ECF6",
           "radialaxis": {
            "gridcolor": "white",
            "linecolor": "white",
            "ticks": ""
           }
          },
          "scene": {
           "xaxis": {
            "backgroundcolor": "#E5ECF6",
            "gridcolor": "white",
            "gridwidth": 2,
            "linecolor": "white",
            "showbackground": true,
            "ticks": "",
            "zerolinecolor": "white"
           },
           "yaxis": {
            "backgroundcolor": "#E5ECF6",
            "gridcolor": "white",
            "gridwidth": 2,
            "linecolor": "white",
            "showbackground": true,
            "ticks": "",
            "zerolinecolor": "white"
           },
           "zaxis": {
            "backgroundcolor": "#E5ECF6",
            "gridcolor": "white",
            "gridwidth": 2,
            "linecolor": "white",
            "showbackground": true,
            "ticks": "",
            "zerolinecolor": "white"
           }
          },
          "shapedefaults": {
           "line": {
            "color": "#2a3f5f"
           }
          },
          "ternary": {
           "aaxis": {
            "gridcolor": "white",
            "linecolor": "white",
            "ticks": ""
           },
           "baxis": {
            "gridcolor": "white",
            "linecolor": "white",
            "ticks": ""
           },
           "bgcolor": "#E5ECF6",
           "caxis": {
            "gridcolor": "white",
            "linecolor": "white",
            "ticks": ""
           }
          },
          "title": {
           "x": 0.05
          },
          "xaxis": {
           "automargin": true,
           "gridcolor": "white",
           "linecolor": "white",
           "ticks": "",
           "title": {
            "standoff": 15
           },
           "zerolinecolor": "white",
           "zerolinewidth": 2
          },
          "yaxis": {
           "automargin": true,
           "gridcolor": "white",
           "linecolor": "white",
           "ticks": "",
           "title": {
            "standoff": 15
           },
           "zerolinecolor": "white",
           "zerolinewidth": 2
          }
         }
        },
        "title": {
         "text": "FDA Recalls by City"
        },
        "width": 2000
       }
      }
     },
     "metadata": {},
     "output_type": "display_data"
    }
   ],
   "source": [
    "client = MongoClient('mongodb://localhost:27017/')\n",
    "db = client['fda_recalls']\n",
    "collection = db['food_enforcement']\n",
    "\n",
    "# Get unique cities and states for geocoding\n",
    "city_state_df = clean_df[['City', 'State']].drop_duplicates()\n",
    "\n",
    "# Geocoding cities to get latitude and longitude\n",
    "geolocator = Nominatim(user_agent=\"fda_recall_app\")\n",
    "latitudes = []\n",
    "longitudes = []\n",
    "\n",
    "for index, row in city_state_df.iterrows():\n",
    "    city_state = f\"{row['City']}, {row['State']}, USA\"\n",
    "    try:\n",
    "        location = geolocator.geocode(city_state)\n",
    "        if location:\n",
    "            latitudes.append(location.latitude)\n",
    "            longitudes.append(location.longitude)\n",
    "        else:\n",
    "            latitudes.append(None)\n",
    "            longitudes.append(None)\n",
    "    except:\n",
    "        latitudes.append(None)\n",
    "        longitudes.append(None)\n",
    "    time.sleep(1)  # Add delay to avoid overwhelming the geocoding API\n",
    "\n",
    "    # Add latitude and longitude to the DataFrame\n",
    "city_state_df['Latitude'] = latitudes\n",
    "city_state_df['Longitude'] = longitudes\n",
    "\n",
    "    # Filter out rows where geocoding failed\n",
    "city_state_df = city_state_df.dropna(subset=['Latitude', 'Longitude'])\n",
    "\n",
    "    # Merge latitude and longitude back to the main DataFrame\n",
    "clean_df = pd.merge(clean_df, city_state_df, on=['City', 'State'], how='left')\n",
    "\n",
    "    # Create a map with city markers using Plotly\n",
    "fig = px.scatter_mapbox(\n",
    "    clean_df,\n",
    "    lat=\"Latitude\",\n",
    "    lon=\"Longitude\",\n",
    "    hover_name=\"City\",\n",
    "    hover_data=[\"State\", \"Recall Number\", \"Reason for Recall\"],\n",
    "    zoom=3,\n",
    "    height=1000,\n",
    "    width=2000,\n",
    "    title=\"FDA Recalls by City\"\n",
    ")\n",
    "\n",
    "    # Set mapbox style\n",
    "fig.update_layout(\n",
    "    mapbox_style=\"open-street-map\",\n",
    "    margin={\"r\": 0, \"t\": 50, \"l\": 0, \"b\": 0}  # Adjusted margins for full-width display\n",
    ")\n",
    "\n",
    "    # Show or save the figure as an interactive HTML file\n",
    "fig.write_html(\"./output_data/fda_recalls_by_city.html\")\n",
    "print(\"Map with city markers saved as HTML file.\")\n",
    "\n",
    "fig.show()"
   ]
  },
  {
   "cell_type": "code",
   "execution_count": 5,
   "metadata": {},
   "outputs": [
    {
     "data": {
      "image/png": "[encoded data removed]",
      "text/plain": [
       "<Figure size 1200x800 with 1 Axes>"
      ]
     },
     "metadata": {},
     "output_type": "display_data"
    },
    {
     "data": {
      "application/vnd.jupyter.widget-view+json": {
       "model_id": "61b55f937e654da0898ec5d87b1c541f",
       "version_major": 2,
       "version_minor": 0
      },
      "text/plain": [
       "interactive(children=(Dropdown(description='State:', options=('AL', 'AR', 'AZ', 'CA', 'CO', 'CT', 'DE', 'FL', …"
      ]
     },
     "metadata": {},
     "output_type": "display_data"
    }
   ],
   "source": [
    "# Set plot style\n",
    "sns.set(style=\"whitegrid\")\n",
    "\n",
    "# Function to plot the top cities in the top 3 states\n",
    "def plot_top_3_states():\n",
    "    state_counts = clean_df['State'].value_counts().reset_index()\n",
    "    state_counts.columns = ['State', 'Count']\n",
    "\n",
    "    # Get top 3 states\n",
    "    top_states = state_counts.head(3)['State']\n",
    "    top_cities_df = pd.DataFrame()\n",
    "\n",
    "    # Loop through top states and get city counts\n",
    "    for state in top_states:\n",
    "        state_df = clean_df[clean_df['State'] == state]\n",
    "        city_counts = state_df['City'].value_counts().reset_index()\n",
    "        city_counts.columns = ['City', 'Count']\n",
    "        city_counts['State'] = state\n",
    "        top_cities_df = pd.concat([top_cities_df, city_counts.head(10)], ignore_index=True)\n",
    "\n",
    "    # Plot the top cities in the top 3 states\n",
    "    plt.figure(figsize=(12, 8))  # Ensure consistent size\n",
    "    barplot = sns.barplot(x='Count', y='City', hue='State', data=top_cities_df, palette=\"viridis\")\n",
    "    plt.title('Top Cities in the Top 3 States of Recalls (2020-2024)', fontsize=16)\n",
    "    plt.xlabel('Number of Recalls')\n",
    "    plt.ylabel('City')\n",
    "    sns.despine(left=True, bottom=True)\n",
    "    plt.grid(True, axis='x', linestyle='--', alpha=0.6)\n",
    "    plt.xticks(rotation=45, ha='right')\n",
    "\n",
    "    # Add labels\n",
    "    for p in barplot.patches:\n",
    "        if int(p.get_width()) > 0:\n",
    "            barplot.annotate(f'{int(p.get_width())}', (p.get_width() + 0.3, p.get_y() + 0.55), ha='center')\n",
    "\n",
    "    plt.legend(title='State', loc='upper right')\n",
    "    plt.show()\n",
    "\n",
    "# Function to update the plot based on the selected state\n",
    "def update_plot(state):\n",
    "    state_df = clean_df[clean_df['State'] == state]\n",
    "    city_counts = state_df['City'].value_counts().reset_index()\n",
    "    city_counts.columns = ['City', 'Count']\n",
    "\n",
    "    if not city_counts.empty:\n",
    "        plt.figure(figsize=(12, 8))  \n",
    "        barplot = sns.barplot(x='Count', y='City', hue='City', data=city_counts.head(10), palette=\"coolwarm\")\n",
    "        plt.title(f'Top Cities in {state} for Recalls (2020-2024)', fontsize=16)\n",
    "        plt.xlabel('Number of Recalls')\n",
    "        plt.ylabel('City')\n",
    "        sns.despine(left=True, bottom=True)\n",
    "        plt.xticks(rotation=45, ha='right')\n",
    "\n",
    "        # Add labels\n",
    "        for index, value in enumerate(city_counts['Count'].head(10)):\n",
    "            barplot.text(value, index, f'{value}', color='black', va=\"center\", fontsize=12)\n",
    "\n",
    "        if barplot.legend_:\n",
    "            barplot.legend_.remove()\n",
    "\n",
    "        plt.show()\n",
    "    else:\n",
    "        print(f\"No recall data available for {state}.\")\n",
    "\n",
    "# Plot the top 3 states chart\n",
    "plot_top_3_states()\n",
    "\n",
    "# Create a dropdown for state selection, sorted alphabetically\n",
    "state_dropdown = widgets.Dropdown(\n",
    "    options=sorted(clean_df[clean_df['Country'] == \"United States\"]['State'].unique()),\n",
    "    description='State:',\n",
    "    disabled=False,\n",
    ")\n",
    "\n",
    "#Dropdown \n",
    "widgets.interact(update_plot, state=state_dropdown);"
   ]
  },
  {
   "cell_type": "code",
   "execution_count": 6,
   "metadata": {},
   "outputs": [
    {
     "data": {
      "application/vnd.plotly.v1+json": {
       "config": {
        "plotlyServerURL": "https://plot.ly"
       },
       "data": [
        {
         "coloraxis": "coloraxis",
         "customdata": [
          [
           6,
           "Nof Ha-Galil",
           6
          ],
          [
           1,
           "Mobile",
           1
          ],
          [
           2,
           "Rogers",
           1
          ],
          [
           5,
           "Phoenix",
           2
          ],
          [
           54,
           "Fresno",
           6
          ],
          [
           5,
           "Boulder",
           3
          ],
          [
           4,
           "Coventry",
           2
          ],
          [
           1,
           "Greenville",
           1
          ],
          [
           28,
           "Windermere",
           8
          ],
          [
           21,
           "Norcross",
           7
          ],
          [
           8,
           "Sioux City",
           2
          ],
          [
           7,
           "Boise",
           4
          ],
          [
           30,
           "Chicago",
           21
          ],
          [
           4,
           "Indianapolis",
           3
          ],
          [
           8,
           "New Century",
           4
          ],
          [
           1,
           "Louisville",
           1
          ],
          [
           9,
           "Whately",
           2
          ],
          [
           44,
           "Baltimore",
           33
          ],
          [
           12,
           "Grand Rapids",
           4
          ],
          [
           12,
           "Minneapolis",
           3
          ],
          [
           4,
           "Chesterfield",
           2
          ],
          [
           1,
           "Coldwater",
           1
          ],
          [
           3,
           "Concord",
           1
          ],
          [
           6,
           "Charlotte",
           4
          ],
          [
           1,
           "Grand Forks",
           1
          ],
          [
           1,
           "Nebraska City",
           1
          ],
          [
           3,
           "Chesterfield",
           1
          ],
          [
           14,
           "Piscataway",
           4
          ],
          [
           9,
           "Albuquerque",
           9
          ],
          [
           1,
           "Sparks",
           1
          ],
          [
           48,
           "Brooklyn",
           15
          ],
          [
           42,
           "Orrville",
           7
          ],
          [
           1,
           "Shawnee",
           1
          ],
          [
           15,
           "Portland",
           4
          ],
          [
           13,
           "Pittsburgh",
           6
          ],
          [
           2,
           "San Juan",
           1
          ],
          [
           2,
           "Charleston",
           1
          ],
          [
           15,
           "Dallas",
           3
          ],
          [
           8,
           "Murray",
           2
          ],
          [
           8,
           "Arlington",
           2
          ],
          [
           7,
           "Burlington",
           2
          ],
          [
           19,
           "Kent",
           5
          ],
          [
           11,
           "Madison",
           3
          ],
          [
           4,
           "Lovell",
           4
          ]
         ],
         "geo": "geo",
         "hovertemplate": "<b>%{hovertext}</b><br><br>State=%{location}<br>Total Recalls=%{z}<br>City=%{customdata[1]}<br>City Recalls=%{customdata[2]}<extra></extra>",
         "hovertext": [
          "",
          "AL",
          "AR",
          "AZ",
          "CA",
          "CO",
          "CT",
          "DE",
          "FL",
          "GA",
          "IA",
          "ID",
          "IL",
          "IN",
          "KS",
          "KY",
          "MA",
          "MD",
          "MI",
          "MN",
          "MO",
          "MS",
          "N/A",
          "NC",
          "ND",
          "NE",
          "NH",
          "NJ",
          "NM",
          "NV",
          "NY",
          "OH",
          "OK",
          "OR",
          "PA",
          "PR",
          "SC",
          "TX",
          "UT",
          "VA",
          "VT",
          "WA",
          "WI",
          "WY"
         ],
         "locationmode": "USA-states",
         "locations": [
          "",
          "AL",
          "AR",
          "AZ",
          "CA",
          "CO",
          "CT",
          "DE",
          "FL",
          "GA",
          "IA",
          "ID",
          "IL",
          "IN",
          "KS",
          "KY",
          "MA",
          "MD",
          "MI",
          "MN",
          "MO",
          "MS",
          "N/A",
          "NC",
          "ND",
          "NE",
          "NH",
          "NJ",
          "NM",
          "NV",
          "NY",
          "OH",
          "OK",
          "OR",
          "PA",
          "PR",
          "SC",
          "TX",
          "UT",
          "VA",
          "VT",
          "WA",
          "WI",
          "WY"
         ],
         "name": "",
         "type": "choropleth",
         "z": [
          6,
          1,
          2,
          5,
          54,
          5,
          4,
          1,
          28,
          21,
          8,
          7,
          30,
          4,
          8,
          1,
          9,
          44,
          12,
          12,
          4,
          1,
          3,
          6,
          1,
          1,
          3,
          14,
          9,
          1,
          48,
          42,
          1,
          15,
          13,
          2,
          2,
          15,
          8,
          8,
          7,
          19,
          11,
          4
         ]
        },
        {
         "lat": [
          32.806671
         ],
         "locationmode": "USA-states",
         "lon": [
          -86.79113
         ],
         "mode": "text",
         "showlegend": false,
         "text": "AL",
         "textfont": {
          "color": "black",
          "size": 12
         },
         "type": "scattergeo"
        },
        {
         "lat": [
          61.370716
         ],
         "locationmode": "USA-states",
         "lon": [
          -152.404419
         ],
         "mode": "text",
         "showlegend": false,
         "text": "AK",
         "textfont": {
          "color": "black",
          "size": 12
         },
         "type": "scattergeo"
        },
        {
         "lat": [
          33.729759
         ],
         "locationmode": "USA-states",
         "lon": [
          -111.431221
         ],
         "mode": "text",
         "showlegend": false,
         "text": "AZ",
         "textfont": {
          "color": "black",
          "size": 12
         },
         "type": "scattergeo"
        },
        {
         "lat": [
          34.969704
         ],
         "locationmode": "USA-states",
         "lon": [
          -92.373123
         ],
         "mode": "text",
         "showlegend": false,
         "text": "AR",
         "textfont": {
          "color": "black",
          "size": 12
         },
         "type": "scattergeo"
        },
        {
         "lat": [
          36.116203
         ],
         "locationmode": "USA-states",
         "lon": [
          -119.681564
         ],
         "mode": "text",
         "showlegend": false,
         "text": "CA",
         "textfont": {
          "color": "black",
          "size": 12
         },
         "type": "scattergeo"
        },
        {
         "lat": [
          39.059811
         ],
         "locationmode": "USA-states",
         "lon": [
          -105.311104
         ],
         "mode": "text",
         "showlegend": false,
         "text": "CO",
         "textfont": {
          "color": "black",
          "size": 12
         },
         "type": "scattergeo"
        },
        {
         "lat": [
          41.597782
         ],
         "locationmode": "USA-states",
         "lon": [
          -72.755371
         ],
         "mode": "text",
         "showlegend": false,
         "text": "CT",
         "textfont": {
          "color": "black",
          "size": 12
         },
         "type": "scattergeo"
        },
        {
         "lat": [
          39.318523
         ],
         "locationmode": "USA-states",
         "lon": [
          -75.507141
         ],
         "mode": "text",
         "showlegend": false,
         "text": "DE",
         "textfont": {
          "color": "black",
          "size": 12
         },
         "type": "scattergeo"
        },
        {
         "lat": [
          27.766279
         ],
         "locationmode": "USA-states",
         "lon": [
          -81.686783
         ],
         "mode": "text",
         "showlegend": false,
         "text": "FL",
         "textfont": {
          "color": "black",
          "size": 12
         },
         "type": "scattergeo"
        },
        {
         "lat": [
          33.040619
         ],
         "locationmode": "USA-states",
         "lon": [
          -83.643074
         ],
         "mode": "text",
         "showlegend": false,
         "text": "GA",
         "textfont": {
          "color": "black",
          "size": 12
         },
         "type": "scattergeo"
        },
        {
         "lat": [
          21.094318
         ],
         "locationmode": "USA-states",
         "lon": [
          -157.498337
         ],
         "mode": "text",
         "showlegend": false,
         "text": "HI",
         "textfont": {
          "color": "black",
          "size": 12
         },
         "type": "scattergeo"
        },
        {
         "lat": [
          44.240459
         ],
         "locationmode": "USA-states",
         "lon": [
          -114.478828
         ],
         "mode": "text",
         "showlegend": false,
         "text": "ID",
         "textfont": {
          "color": "black",
          "size": 12
         },
         "type": "scattergeo"
        },
        {
         "lat": [
          40.349457
         ],
         "locationmode": "USA-states",
         "lon": [
          -88.986137
         ],
         "mode": "text",
         "showlegend": false,
         "text": "IL",
         "textfont": {
          "color": "black",
          "size": 12
         },
         "type": "scattergeo"
        },
        {
         "lat": [
          39.849426
         ],
         "locationmode": "USA-states",
         "lon": [
          -86.258278
         ],
         "mode": "text",
         "showlegend": false,
         "text": "IN",
         "textfont": {
          "color": "black",
          "size": 12
         },
         "type": "scattergeo"
        },
        {
         "lat": [
          42.011539
         ],
         "locationmode": "USA-states",
         "lon": [
          -93.210526
         ],
         "mode": "text",
         "showlegend": false,
         "text": "IA",
         "textfont": {
          "color": "black",
          "size": 12
         },
         "type": "scattergeo"
        },
        {
         "lat": [
          38.5266
         ],
         "locationmode": "USA-states",
         "lon": [
          -96.726486
         ],
         "mode": "text",
         "showlegend": false,
         "text": "KS",
         "textfont": {
          "color": "black",
          "size": 12
         },
         "type": "scattergeo"
        },
        {
         "lat": [
          37.66814
         ],
         "locationmode": "USA-states",
         "lon": [
          -84.670067
         ],
         "mode": "text",
         "showlegend": false,
         "text": "KY",
         "textfont": {
          "color": "black",
          "size": 12
         },
         "type": "scattergeo"
        },
        {
         "lat": [
          31.169546
         ],
         "locationmode": "USA-states",
         "lon": [
          -91.867805
         ],
         "mode": "text",
         "showlegend": false,
         "text": "LA",
         "textfont": {
          "color": "black",
          "size": 12
         },
         "type": "scattergeo"
        },
        {
         "lat": [
          44.693947
         ],
         "locationmode": "USA-states",
         "lon": [
          -69.381927
         ],
         "mode": "text",
         "showlegend": false,
         "text": "ME",
         "textfont": {
          "color": "black",
          "size": 12
         },
         "type": "scattergeo"
        },
        {
         "lat": [
          39.063946
         ],
         "locationmode": "USA-states",
         "lon": [
          -76.802101
         ],
         "mode": "text",
         "showlegend": false,
         "text": "MD",
         "textfont": {
          "color": "black",
          "size": 12
         },
         "type": "scattergeo"
        },
        {
         "lat": [
          42.230171
         ],
         "locationmode": "USA-states",
         "lon": [
          -71.530106
         ],
         "mode": "text",
         "showlegend": false,
         "text": "MA",
         "textfont": {
          "color": "black",
          "size": 12
         },
         "type": "scattergeo"
        },
        {
         "lat": [
          43.326618
         ],
         "locationmode": "USA-states",
         "lon": [
          -84.536095
         ],
         "mode": "text",
         "showlegend": false,
         "text": "MI",
         "textfont": {
          "color": "black",
          "size": 12
         },
         "type": "scattergeo"
        },
        {
         "lat": [
          45.694454
         ],
         "locationmode": "USA-states",
         "lon": [
          -93.900192
         ],
         "mode": "text",
         "showlegend": false,
         "text": "MN",
         "textfont": {
          "color": "black",
          "size": 12
         },
         "type": "scattergeo"
        },
        {
         "lat": [
          32.741646
         ],
         "locationmode": "USA-states",
         "lon": [
          -89.678696
         ],
         "mode": "text",
         "showlegend": false,
         "text": "MS",
         "textfont": {
          "color": "black",
          "size": 12
         },
         "type": "scattergeo"
        },
        {
         "lat": [
          38.456085
         ],
         "locationmode": "USA-states",
         "lon": [
          -92.288368
         ],
         "mode": "text",
         "showlegend": false,
         "text": "MO",
         "textfont": {
          "color": "black",
          "size": 12
         },
         "type": "scattergeo"
        },
        {
         "lat": [
          46.921925
         ],
         "locationmode": "USA-states",
         "lon": [
          -110.454353
         ],
         "mode": "text",
         "showlegend": false,
         "text": "MT",
         "textfont": {
          "color": "black",
          "size": 12
         },
         "type": "scattergeo"
        },
        {
         "lat": [
          41.12537
         ],
         "locationmode": "USA-states",
         "lon": [
          -98.268082
         ],
         "mode": "text",
         "showlegend": false,
         "text": "NE",
         "textfont": {
          "color": "black",
          "size": 12
         },
         "type": "scattergeo"
        },
        {
         "lat": [
          38.313515
         ],
         "locationmode": "USA-states",
         "lon": [
          -117.055374
         ],
         "mode": "text",
         "showlegend": false,
         "text": "NV",
         "textfont": {
          "color": "black",
          "size": 12
         },
         "type": "scattergeo"
        },
        {
         "lat": [
          43.452492
         ],
         "locationmode": "USA-states",
         "lon": [
          -71.563896
         ],
         "mode": "text",
         "showlegend": false,
         "text": "NH",
         "textfont": {
          "color": "black",
          "size": 12
         },
         "type": "scattergeo"
        },
        {
         "lat": [
          40.298904
         ],
         "locationmode": "USA-states",
         "lon": [
          -74.521011
         ],
         "mode": "text",
         "showlegend": false,
         "text": "NJ",
         "textfont": {
          "color": "black",
          "size": 12
         },
         "type": "scattergeo"
        },
        {
         "lat": [
          34.840515
         ],
         "locationmode": "USA-states",
         "lon": [
          -106.248482
         ],
         "mode": "text",
         "showlegend": false,
         "text": "NM",
         "textfont": {
          "color": "black",
          "size": 12
         },
         "type": "scattergeo"
        },
        {
         "lat": [
          42.165726
         ],
         "locationmode": "USA-states",
         "lon": [
          -74.948051
         ],
         "mode": "text",
         "showlegend": false,
         "text": "NY",
         "textfont": {
          "color": "black",
          "size": 12
         },
         "type": "scattergeo"
        },
        {
         "lat": [
          35.630066
         ],
         "locationmode": "USA-states",
         "lon": [
          -79.806419
         ],
         "mode": "text",
         "showlegend": false,
         "text": "NC",
         "textfont": {
          "color": "black",
          "size": 12
         },
         "type": "scattergeo"
        },
        {
         "lat": [
          47.528912
         ],
         "locationmode": "USA-states",
         "lon": [
          -99.784012
         ],
         "mode": "text",
         "showlegend": false,
         "text": "ND",
         "textfont": {
          "color": "black",
          "size": 12
         },
         "type": "scattergeo"
        },
        {
         "lat": [
          40.388783
         ],
         "locationmode": "USA-states",
         "lon": [
          -82.764915
         ],
         "mode": "text",
         "showlegend": false,
         "text": "OH",
         "textfont": {
          "color": "black",
          "size": 12
         },
         "type": "scattergeo"
        },
        {
         "lat": [
          35.565342
         ],
         "locationmode": "USA-states",
         "lon": [
          -96.928917
         ],
         "mode": "text",
         "showlegend": false,
         "text": "OK",
         "textfont": {
          "color": "black",
          "size": 12
         },
         "type": "scattergeo"
        },
        {
         "lat": [
          44.572021
         ],
         "locationmode": "USA-states",
         "lon": [
          -122.070938
         ],
         "mode": "text",
         "showlegend": false,
         "text": "OR",
         "textfont": {
          "color": "black",
          "size": 12
         },
         "type": "scattergeo"
        },
        {
         "lat": [
          40.590752
         ],
         "locationmode": "USA-states",
         "lon": [
          -77.209755
         ],
         "mode": "text",
         "showlegend": false,
         "text": "PA",
         "textfont": {
          "color": "black",
          "size": 12
         },
         "type": "scattergeo"
        },
        {
         "lat": [
          41.680893
         ],
         "locationmode": "USA-states",
         "lon": [
          -71.51178
         ],
         "mode": "text",
         "showlegend": false,
         "text": "RI",
         "textfont": {
          "color": "black",
          "size": 12
         },
         "type": "scattergeo"
        },
        {
         "lat": [
          33.856892
         ],
         "locationmode": "USA-states",
         "lon": [
          -80.945007
         ],
         "mode": "text",
         "showlegend": false,
         "text": "SC",
         "textfont": {
          "color": "black",
          "size": 12
         },
         "type": "scattergeo"
        },
        {
         "lat": [
          44.299782
         ],
         "locationmode": "USA-states",
         "lon": [
          -99.438828
         ],
         "mode": "text",
         "showlegend": false,
         "text": "SD",
         "textfont": {
          "color": "black",
          "size": 12
         },
         "type": "scattergeo"
        },
        {
         "lat": [
          35.747845
         ],
         "locationmode": "USA-states",
         "lon": [
          -86.692345
         ],
         "mode": "text",
         "showlegend": false,
         "text": "TN",
         "textfont": {
          "color": "black",
          "size": 12
         },
         "type": "scattergeo"
        },
        {
         "lat": [
          31.054487
         ],
         "locationmode": "USA-states",
         "lon": [
          -97.563461
         ],
         "mode": "text",
         "showlegend": false,
         "text": "TX",
         "textfont": {
          "color": "black",
          "size": 12
         },
         "type": "scattergeo"
        },
        {
         "lat": [
          40.150032
         ],
         "locationmode": "USA-states",
         "lon": [
          -111.862434
         ],
         "mode": "text",
         "showlegend": false,
         "text": "UT",
         "textfont": {
          "color": "black",
          "size": 12
         },
         "type": "scattergeo"
        },
        {
         "lat": [
          44.045876
         ],
         "locationmode": "USA-states",
         "lon": [
          -72.710686
         ],
         "mode": "text",
         "showlegend": false,
         "text": "VT",
         "textfont": {
          "color": "black",
          "size": 12
         },
         "type": "scattergeo"
        },
        {
         "lat": [
          37.769337
         ],
         "locationmode": "USA-states",
         "lon": [
          -78.169968
         ],
         "mode": "text",
         "showlegend": false,
         "text": "VA",
         "textfont": {
          "color": "black",
          "size": 12
         },
         "type": "scattergeo"
        },
        {
         "lat": [
          47.400902
         ],
         "locationmode": "USA-states",
         "lon": [
          -121.490494
         ],
         "mode": "text",
         "showlegend": false,
         "text": "WA",
         "textfont": {
          "color": "black",
          "size": 12
         },
         "type": "scattergeo"
        },
        {
         "lat": [
          38.491226
         ],
         "locationmode": "USA-states",
         "lon": [
          -80.954456
         ],
         "mode": "text",
         "showlegend": false,
         "text": "WV",
         "textfont": {
          "color": "black",
          "size": 12
         },
         "type": "scattergeo"
        },
        {
         "lat": [
          44.268543
         ],
         "locationmode": "USA-states",
         "lon": [
          -89.616508
         ],
         "mode": "text",
         "showlegend": false,
         "text": "WI",
         "textfont": {
          "color": "black",
          "size": 12
         },
         "type": "scattergeo"
        },
        {
         "lat": [
          42.755966
         ],
         "locationmode": "USA-states",
         "lon": [
          -107.30249
         ],
         "mode": "text",
         "showlegend": false,
         "text": "WY",
         "textfont": {
          "color": "black",
          "size": 12
         },
         "type": "scattergeo"
        }
       ],
       "layout": {
        "coloraxis": {
         "colorbar": {
          "title": {
           "text": "Total Recalls"
          }
         },
         "colorscale": [
          [
           0,
           "rgb(255,255,204)"
          ],
          [
           0.125,
           "rgb(255,237,160)"
          ],
          [
           0.25,
           "rgb(254,217,118)"
          ],
          [
           0.375,
           "rgb(254,178,76)"
          ],
          [
           0.5,
           "rgb(253,141,60)"
          ],
          [
           0.625,
           "rgb(252,78,42)"
          ],
          [
           0.75,
           "rgb(227,26,28)"
          ],
          [
           0.875,
           "rgb(189,0,38)"
          ],
          [
           1,
           "rgb(128,0,38)"
          ]
         ]
        },
        "geo": {
         "center": {},
         "domain": {
          "x": [
           0,
           1
          ],
          "y": [
           0,
           1
          ]
         },
         "lakecolor": "rgb(255, 255, 255)",
         "scope": "usa"
        },
        "legend": {
         "tracegroupgap": 0
        },
        "margin": {
         "b": 0,
         "l": 0,
         "r": 0,
         "t": 50
        },
        "template": {
         "data": {
          "bar": [
           {
            "error_x": {
             "color": "#2a3f5f"
            },
            "error_y": {
             "color": "#2a3f5f"
            },
            "marker": {
             "line": {
              "color": "#E5ECF6",
              "width": 0.5
             },
             "pattern": {
              "fillmode": "overlay",
              "size": 10,
              "solidity": 0.2
             }
            },
            "type": "bar"
           }
          ],
          "barpolar": [
           {
            "marker": {
             "line": {
              "color": "#E5ECF6",
              "width": 0.5
             },
             "pattern": {
              "fillmode": "overlay",
              "size": 10,
              "solidity": 0.2
             }
            },
            "type": "barpolar"
           }
          ],
          "carpet": [
           {
            "aaxis": {
             "endlinecolor": "#2a3f5f",
             "gridcolor": "white",
             "linecolor": "white",
             "minorgridcolor": "white",
             "startlinecolor": "#2a3f5f"
            },
            "baxis": {
             "endlinecolor": "#2a3f5f",
             "gridcolor": "white",
             "linecolor": "white",
             "minorgridcolor": "white",
             "startlinecolor": "#2a3f5f"
            },
            "type": "carpet"
           }
          ],
          "choropleth": [
           {
            "colorbar": {
             "outlinewidth": 0,
             "ticks": ""
            },
            "type": "choropleth"
           }
          ],
          "contour": [
           {
            "colorbar": {
             "outlinewidth": 0,
             "ticks": ""
            },
            "colorscale": [
             [
              0,
              "#0d0887"
             ],
             [
              0.1111111111111111,
              "#46039f"
             ],
             [
              0.2222222222222222,
              "#7201a8"
             ],
             [
              0.3333333333333333,
              "#9c179e"
             ],
             [
              0.4444444444444444,
              "#bd3786"
             ],
             [
              0.5555555555555556,
              "#d8576b"
             ],
             [
              0.6666666666666666,
              "#ed7953"
             ],
             [
              0.7777777777777778,
              "#fb9f3a"
             ],
             [
              0.8888888888888888,
              "#fdca26"
             ],
             [
              1,
              "#f0f921"
             ]
            ],
            "type": "contour"
           }
          ],
          "contourcarpet": [
           {
            "colorbar": {
             "outlinewidth": 0,
             "ticks": ""
            },
            "type": "contourcarpet"
           }
          ],
          "heatmap": [
           {
            "colorbar": {
             "outlinewidth": 0,
             "ticks": ""
            },
            "colorscale": [
             [
              0,
              "#0d0887"
             ],
             [
              0.1111111111111111,
              "#46039f"
             ],
             [
              0.2222222222222222,
              "#7201a8"
             ],
             [
              0.3333333333333333,
              "#9c179e"
             ],
             [
              0.4444444444444444,
              "#bd3786"
             ],
             [
              0.5555555555555556,
              "#d8576b"
             ],
             [
              0.6666666666666666,
              "#ed7953"
             ],
             [
              0.7777777777777778,
              "#fb9f3a"
             ],
             [
              0.8888888888888888,
              "#fdca26"
             ],
             [
              1,
              "#f0f921"
             ]
            ],
            "type": "heatmap"
           }
          ],
          "heatmapgl": [
           {
            "colorbar": {
             "outlinewidth": 0,
             "ticks": ""
            },
            "colorscale": [
             [
              0,
              "#0d0887"
             ],
             [
              0.1111111111111111,
              "#46039f"
             ],
             [
              0.2222222222222222,
              "#7201a8"
             ],
             [
              0.3333333333333333,
              "#9c179e"
             ],
             [
              0.4444444444444444,
              "#bd3786"
             ],
             [
              0.5555555555555556,
              "#d8576b"
             ],
             [
              0.6666666666666666,
              "#ed7953"
             ],
             [
              0.7777777777777778,
              "#fb9f3a"
             ],
             [
              0.8888888888888888,
              "#fdca26"
             ],
             [
              1,
              "#f0f921"
             ]
            ],
            "type": "heatmapgl"
           }
          ],
          "histogram": [
           {
            "marker": {
             "pattern": {
              "fillmode": "overlay",
              "size": 10,
              "solidity": 0.2
             }
            },
            "type": "histogram"
           }
          ],
          "histogram2d": [
           {
            "colorbar": {
             "outlinewidth": 0,
             "ticks": ""
            },
            "colorscale": [
             [
              0,
              "#0d0887"
             ],
             [
              0.1111111111111111,
              "#46039f"
             ],
             [
              0.2222222222222222,
              "#7201a8"
             ],
             [
              0.3333333333333333,
              "#9c179e"
             ],
             [
              0.4444444444444444,
              "#bd3786"
             ],
             [
              0.5555555555555556,
              "#d8576b"
             ],
             [
              0.6666666666666666,
              "#ed7953"
             ],
             [
              0.7777777777777778,
              "#fb9f3a"
             ],
             [
              0.8888888888888888,
              "#fdca26"
             ],
             [
              1,
              "#f0f921"
             ]
            ],
            "type": "histogram2d"
           }
          ],
          "histogram2dcontour": [
           {
            "colorbar": {
             "outlinewidth": 0,
             "ticks": ""
            },
            "colorscale": [
             [
              0,
              "#0d0887"
             ],
             [
              0.1111111111111111,
              "#46039f"
             ],
             [
              0.2222222222222222,
              "#7201a8"
             ],
             [
              0.3333333333333333,
              "#9c179e"
             ],
             [
              0.4444444444444444,
              "#bd3786"
             ],
             [
              0.5555555555555556,
              "#d8576b"
             ],
             [
              0.6666666666666666,
              "#ed7953"
             ],
             [
              0.7777777777777778,
              "#fb9f3a"
             ],
             [
              0.8888888888888888,
              "#fdca26"
             ],
             [
              1,
              "#f0f921"
             ]
            ],
            "type": "histogram2dcontour"
           }
          ],
          "mesh3d": [
           {
            "colorbar": {
             "outlinewidth": 0,
             "ticks": ""
            },
            "type": "mesh3d"
           }
          ],
          "parcoords": [
           {
            "line": {
             "colorbar": {
              "outlinewidth": 0,
              "ticks": ""
             }
            },
            "type": "parcoords"
           }
          ],
          "pie": [
           {
            "automargin": true,
            "type": "pie"
           }
          ],
          "scatter": [
           {
            "fillpattern": {
             "fillmode": "overlay",
             "size": 10,
             "solidity": 0.2
            },
            "type": "scatter"
           }
          ],
          "scatter3d": [
           {
            "line": {
             "colorbar": {
              "outlinewidth": 0,
              "ticks": ""
             }
            },
            "marker": {
             "colorbar": {
              "outlinewidth": 0,
              "ticks": ""
             }
            },
            "type": "scatter3d"
           }
          ],
          "scattercarpet": [
           {
            "marker": {
             "colorbar": {
              "outlinewidth": 0,
              "ticks": ""
             }
            },
            "type": "scattercarpet"
           }
          ],
          "scattergeo": [
           {
            "marker": {
             "colorbar": {
              "outlinewidth": 0,
              "ticks": ""
             }
            },
            "type": "scattergeo"
           }
          ],
          "scattergl": [
           {
            "marker": {
             "colorbar": {
              "outlinewidth": 0,
              "ticks": ""
             }
            },
            "type": "scattergl"
           }
          ],
          "scattermapbox": [
           {
            "marker": {
             "colorbar": {
              "outlinewidth": 0,
              "ticks": ""
             }
            },
            "type": "scattermapbox"
           }
          ],
          "scatterpolar": [
           {
            "marker": {
             "colorbar": {
              "outlinewidth": 0,
              "ticks": ""
             }
            },
            "type": "scatterpolar"
           }
          ],
          "scatterpolargl": [
           {
            "marker": {
             "colorbar": {
              "outlinewidth": 0,
              "ticks": ""
             }
            },
            "type": "scatterpolargl"
           }
          ],
          "scatterternary": [
           {
            "marker": {
             "colorbar": {
              "outlinewidth": 0,
              "ticks": ""
             }
            },
            "type": "scatterternary"
           }
          ],
          "surface": [
           {
            "colorbar": {
             "outlinewidth": 0,
             "ticks": ""
            },
            "colorscale": [
             [
              0,
              "#0d0887"
             ],
             [
              0.1111111111111111,
              "#46039f"
             ],
             [
              0.2222222222222222,
              "#7201a8"
             ],
             [
              0.3333333333333333,
              "#9c179e"
             ],
             [
              0.4444444444444444,
              "#bd3786"
             ],
             [
              0.5555555555555556,
              "#d8576b"
             ],
             [
              0.6666666666666666,
              "#ed7953"
             ],
             [
              0.7777777777777778,
              "#fb9f3a"
             ],
             [
              0.8888888888888888,
              "#fdca26"
             ],
             [
              1,
              "#f0f921"
             ]
            ],
            "type": "surface"
           }
          ],
          "table": [
           {
            "cells": {
             "fill": {
              "color": "#EBF0F8"
             },
             "line": {
              "color": "white"
             }
            },
            "header": {
             "fill": {
              "color": "#C8D4E3"
             },
             "line": {
              "color": "white"
             }
            },
            "type": "table"
           }
          ]
         },
         "layout": {
          "annotationdefaults": {
           "arrowcolor": "#2a3f5f",
           "arrowhead": 0,
           "arrowwidth": 1
          },
          "autotypenumbers": "strict",
          "coloraxis": {
           "colorbar": {
            "outlinewidth": 0,
            "ticks": ""
           }
          },
          "colorscale": {
           "diverging": [
            [
             0,
             "#8e0152"
            ],
            [
             0.1,
             "#c51b7d"
            ],
            [
             0.2,
             "#de77ae"
            ],
            [
             0.3,
             "#f1b6da"
            ],
            [
             0.4,
             "#fde0ef"
            ],
            [
             0.5,
             "#f7f7f7"
            ],
            [
             0.6,
             "#e6f5d0"
            ],
            [
             0.7,
             "#b8e186"
            ],
            [
             0.8,
             "#7fbc41"
            ],
            [
             0.9,
             "#4d9221"
            ],
            [
             1,
             "#276419"
            ]
           ],
           "sequential": [
            [
             0,
             "#0d0887"
            ],
            [
             0.1111111111111111,
             "#46039f"
            ],
            [
             0.2222222222222222,
             "#7201a8"
            ],
            [
             0.3333333333333333,
             "#9c179e"
            ],
            [
             0.4444444444444444,
             "#bd3786"
            ],
            [
             0.5555555555555556,
             "#d8576b"
            ],
            [
             0.6666666666666666,
             "#ed7953"
            ],
            [
             0.7777777777777778,
             "#fb9f3a"
            ],
            [
             0.8888888888888888,
             "#fdca26"
            ],
            [
             1,
             "#f0f921"
            ]
           ],
           "sequentialminus": [
            [
             0,
             "#0d0887"
            ],
            [
             0.1111111111111111,
             "#46039f"
            ],
            [
             0.2222222222222222,
             "#7201a8"
            ],
            [
             0.3333333333333333,
             "#9c179e"
            ],
            [
             0.4444444444444444,
             "#bd3786"
            ],
            [
             0.5555555555555556,
             "#d8576b"
            ],
            [
             0.6666666666666666,
             "#ed7953"
            ],
            [
             0.7777777777777778,
             "#fb9f3a"
            ],
            [
             0.8888888888888888,
             "#fdca26"
            ],
            [
             1,
             "#f0f921"
            ]
           ]
          },
          "colorway": [
           "#636efa",
           "#EF553B",
           "#00cc96",
           "#ab63fa",
           "#FFA15A",
           "#19d3f3",
           "#FF6692",
           "#B6E880",
           "#FF97FF",
           "#FECB52"
          ],
          "font": {
           "color": "#2a3f5f"
          },
          "geo": {
           "bgcolor": "white",
           "lakecolor": "white",
           "landcolor": "#E5ECF6",
           "showlakes": true,
           "showland": true,
           "subunitcolor": "white"
          },
          "hoverlabel": {
           "align": "left"
          },
          "hovermode": "closest",
          "mapbox": {
           "style": "light"
          },
          "paper_bgcolor": "white",
          "plot_bgcolor": "#E5ECF6",
          "polar": {
           "angularaxis": {
            "gridcolor": "white",
            "linecolor": "white",
            "ticks": ""
           },
           "bgcolor": "#E5ECF6",
           "radialaxis": {
            "gridcolor": "white",
            "linecolor": "white",
            "ticks": ""
           }
          },
          "scene": {
           "xaxis": {
            "backgroundcolor": "#E5ECF6",
            "gridcolor": "white",
            "gridwidth": 2,
            "linecolor": "white",
            "showbackground": true,
            "ticks": "",
            "zerolinecolor": "white"
           },
           "yaxis": {
            "backgroundcolor": "#E5ECF6",
            "gridcolor": "white",
            "gridwidth": 2,
            "linecolor": "white",
            "showbackground": true,
            "ticks": "",
            "zerolinecolor": "white"
           },
           "zaxis": {
            "backgroundcolor": "#E5ECF6",
            "gridcolor": "white",
            "gridwidth": 2,
            "linecolor": "white",
            "showbackground": true,
            "ticks": "",
            "zerolinecolor": "white"
           }
          },
          "shapedefaults": {
           "line": {
            "color": "#2a3f5f"
           }
          },
          "ternary": {
           "aaxis": {
            "gridcolor": "white",
            "linecolor": "white",
            "ticks": ""
           },
           "baxis": {
            "gridcolor": "white",
            "linecolor": "white",
            "ticks": ""
           },
           "bgcolor": "#E5ECF6",
           "caxis": {
            "gridcolor": "white",
            "linecolor": "white",
            "ticks": ""
           }
          },
          "title": {
           "x": 0.05
          },
          "xaxis": {
           "automargin": true,
           "gridcolor": "white",
           "linecolor": "white",
           "ticks": "",
           "title": {
            "standoff": 15
           },
           "zerolinecolor": "white",
           "zerolinewidth": 2
          },
          "yaxis": {
           "automargin": true,
           "gridcolor": "white",
           "linecolor": "white",
           "ticks": "",
           "title": {
            "standoff": 15
           },
           "zerolinecolor": "white",
           "zerolinewidth": 2
          }
         }
        },
        "title": {
         "text": "Total Recalls by State and Top City (2020-2024)",
         "x": 0.5,
         "xanchor": "center",
         "y": 0.95,
         "yanchor": "top"
        }
       }
      }
     },
     "metadata": {},
     "output_type": "display_data"
    }
   ],
   "source": [
    "# Aggregates the total number of recalls for each state\n",
    "state_counts = clean_df.groupby('State')['City'].count().reset_index()\n",
    "state_counts.columns = ['State', 'Recall Count']\n",
    "\n",
    "# Identifies the city with the highest number of recalls within each state\n",
    "top_city_by_state = clean_df.groupby(['State', 'City']).size().reset_index(name='City Recalls')\n",
    "top_city_by_state = top_city_by_state.loc[top_city_by_state.groupby('State')['City Recalls'].idxmax()]\n",
    "\n",
    "# Merges the total recalls per state with the highest city recalls data\n",
    "state_counts = pd.merge(state_counts, top_city_by_state[['State', 'City', 'City Recalls']], on='State', how='left')\n",
    "\n",
    "# Latitude and Longitude for state abbreviations placement\n",
    "state_abbreviation_coords = {\n",
    "    'AL': [32.806671, -86.791130], 'AK': [61.370716, -152.404419], 'AZ': [33.729759, -111.431221], \n",
    "    'AR': [34.969704, -92.373123], 'CA': [36.116203, -119.681564], 'CO': [39.059811, -105.311104], \n",
    "    'CT': [41.597782, -72.755371], 'DE': [39.318523, -75.507141], 'FL': [27.766279, -81.686783], \n",
    "    'GA': [33.040619, -83.643074], 'HI': [21.094318, -157.498337], 'ID': [44.240459, -114.478828], \n",
    "    'IL': [40.349457, -88.986137], 'IN': [39.849426, -86.258278], 'IA': [42.011539, -93.210526], \n",
    "    'KS': [38.526600, -96.726486], 'KY': [37.668140, -84.670067], 'LA': [31.169546, -91.867805], \n",
    "    'ME': [44.693947, -69.381927], 'MD': [39.063946, -76.802101], 'MA': [42.230171, -71.530106], \n",
    "    'MI': [43.326618, -84.536095], 'MN': [45.694454, -93.900192], 'MS': [32.741646, -89.678696], \n",
    "    'MO': [38.456085, -92.288368], 'MT': [46.921925, -110.454353], 'NE': [41.125370, -98.268082], \n",
    "    'NV': [38.313515, -117.055374], 'NH': [43.452492, -71.563896], 'NJ': [40.298904, -74.521011], \n",
    "    'NM': [34.840515, -106.248482], 'NY': [42.165726, -74.948051], 'NC': [35.630066, -79.806419], \n",
    "    'ND': [47.528912, -99.784012], 'OH': [40.388783, -82.764915], 'OK': [35.565342, -96.928917], \n",
    "    'OR': [44.572021, -122.070938], 'PA': [40.590752, -77.209755], 'RI': [41.680893, -71.511780], \n",
    "    'SC': [33.856892, -80.945007], 'SD': [44.299782, -99.438828], 'TN': [35.747845, -86.692345], \n",
    "    'TX': [31.054487, -97.563461], 'UT': [40.150032, -111.862434], 'VT': [44.045876, -72.710686], \n",
    "    'VA': [37.769337, -78.169968], 'WA': [47.400902, -121.490494], 'WV': [38.491226, -80.954456], \n",
    "    'WI': [44.268543, -89.616508], 'WY': [42.755966, -107.302490]\n",
    "}\n",
    "\n",
    "# Function to create the choropleth map that includes state abbreviations\n",
    "def plot_recall_distribution_by_state():\n",
    "    clear_output(wait=True)\n",
    "\n",
    "    # Create the choropleth map\n",
    "    fig = px.choropleth(\n",
    "        state_counts,\n",
    "        locations='State',\n",
    "        locationmode=\"USA-states\",\n",
    "        color='Recall Count',\n",
    "        hover_name='State',\n",
    "        hover_data={\n",
    "            'Recall Count': True,\n",
    "            'City': True,\n",
    "            'City Recalls': True\n",
    "        },\n",
    "        scope=\"usa\",\n",
    "        color_continuous_scale=\"YlOrRd\",\n",
    "        labels={'Recall Count': 'Total Recalls'},\n",
    "        title=\"Total Recalls by State and Top City (2020-2024)\"\n",
    "    )\n",
    "\n",
    "    # Add state abbreviations as annotations on the map\n",
    "    for state, coord in state_abbreviation_coords.items():\n",
    "        fig.add_trace(go.Scattergeo(\n",
    "            locationmode='USA-states',\n",
    "            lon=[coord[1]],\n",
    "            lat=[coord[0]],\n",
    "            text=state,\n",
    "            mode='text',\n",
    "            showlegend=False,\n",
    "            textfont=dict(size=12, color=\"black\"),\n",
    "        ))\n",
    "\n",
    "    # Updates layout for better visualization and adds a title\n",
    "    fig.update_layout(\n",
    "        geo=dict(\n",
    "            lakecolor='rgb(255, 255, 255)',\n",
    "        ),\n",
    "        margin={\"r\":0,\"t\":50,\"l\":0,\"b\":0},\n",
    "        title={\n",
    "            'text': \"Total Recalls by State and Top City (2020-2024)\",\n",
    "            'y':0.95,\n",
    "            'x':0.5,\n",
    "            'xanchor': 'center',\n",
    "            'yanchor': 'top'\n",
    "        }\n",
    "    )\n",
    "\n",
    "    fig.show()\n",
    "\n",
    "plot_recall_distribution_by_state()"
   ]
  },
  {
   "cell_type": "code",
   "execution_count": 7,
   "metadata": {},
   "outputs": [
    {
     "data": {
      "application/vnd.jupyter.widget-view+json": {
       "model_id": "46934361f5d544c1916b91c261a1483d",
       "version_major": 2,
       "version_minor": 0
      },
      "text/plain": [
       "interactive(children=(Dropdown(description='Select Firm:', options=(None, '(33) FRESH IDEATION FOOD GROUP, LLC…"
      ]
     },
     "metadata": {},
     "output_type": "display_data"
    },
    {
     "data": {
      "text/plain": [
       "<function __main__.create_sunburst_chart(firm_with_count)>"
      ]
     },
     "execution_count": 7,
     "metadata": {},
     "output_type": "execute_result"
    }
   ],
   "source": [
    "# Filter the DataFrame to include only recalls in the US (made a copy to avoid SettingWithCopyWarning)\n",
    "us_recall_df = clean_df[clean_df['Country'] == \"United States\"].copy()\n",
    "\n",
    "# Add a count column for each recall for visualization purposes\n",
    "us_recall_df['Recall Count'] = 1\n",
    "\n",
    "# Sort the top 15 recalling firms based on the number of recalls in the US\n",
    "top_15_firms = (\n",
    "    us_recall_df['Recalling Firm']\n",
    "    .value_counts()\n",
    "    .nlargest(15)\n",
    "    .reset_index()\n",
    ")\n",
    "\n",
    "# Remame the columns in the identify the recall count for each\n",
    "top_15_firms.columns = ['Firm Name', 'Recall Count']\n",
    "\n",
    "# Create a list for dropdown options with the name of each firm and their recall counts\n",
    "firm_options = [\n",
    "    f\"({row['Recall Count']}) {row['Firm Name']}\"\n",
    "    for _, row in top_15_firms.iterrows()\n",
    "]\n",
    "\n",
    "# Create dropdown widget for selecting a firm, including \"None\" as an option\n",
    "firm_widget = widgets.Dropdown(\n",
    "    options=[None] + firm_options,\n",
    "    description='Select Firm:',\n",
    "    value=None\n",
    ")\n",
    "\n",
    "# Function to create a Sunburst chart\n",
    "def create_sunburst_chart(firm_with_count):\n",
    "    # Extract firm name from dropdown selection\n",
    "    if firm_with_count is None:\n",
    "        print(\"Select a firm from the dropdown menu.\")\n",
    "        return\n",
    "\n",
    "    try:\n",
    "        # Extract the actual firm name by splitting the string\n",
    "        firm = firm_with_count.split(\") \")[1]\n",
    "    except IndexError:\n",
    "        print(\"Error extracting firm name from the dropdown selection.\")\n",
    "        return\n",
    "\n",
    "    # Filter the data based on the selected firm\n",
    "    filtered_df = us_recall_df[us_recall_df['Recalling Firm'] == firm]\n",
    "\n",
    "    # Ensure there's data to plot\n",
    "    if filtered_df.empty:\n",
    "        print(\"No data available for the selected firm.\")\n",
    "        return\n",
    "\n",
    "    # Create Sunburst chart using Plotly with customized hover information\n",
    "    try:\n",
    "        # Create Sunburst chart with customized hover data\n",
    "        fig = px.sunburst(\n",
    "            filtered_df,\n",
    "            path=['Recalling Firm', 'Product Type', 'Product Description'],\n",
    "            values='Recall Count',  # Use the count column for visualization\n",
    "            title=f\"Top Products Recalled by {firm}\",\n",
    "            color='Product Type',\n",
    "            hover_data={\n",
    "                \"Classification\": True,\n",
    "                \"Product Description\": True,\n",
    "                \"State\": True\n",
    "            }\n",
    "        )\n",
    "        \n",
    "        # Update hover template to display only the firm name\n",
    "        fig.update_traces(\n",
    "            hovertemplate=\"<br>\".join([\n",
    "                \"Firm: \" + firm,\n",
    "                \"Classification: %{customdata[0]}\",\n",
    "                \"Product Description: %{customdata[1]}\",\n",
    "                \"State: %{customdata[2]}\"\n",
    "            ])\n",
    "        )\n",
    "        \n",
    "        fig.show()\n",
    "        \n",
    "        # Create HTML file\n",
    "        fig.write_html(\"./output_data/fda_recalls_by_recall_firm.html\")\n",
    "        \n",
    "        \n",
    "    except Exception as e:\n",
    "        print(f\"An error occurred while creating the Sunburst chart: {e}\")\n",
    "\n",
    "# Create the interactive UI\n",
    "interact(\n",
    "    create_sunburst_chart,\n",
    "    firm_with_count=firm_widget\n",
    ")"
   ]
  },
  {
   "cell_type": "code",
   "execution_count": 8,
   "metadata": {},
   "outputs": [],
   "source": [
    "# Close the connection\n",
    "client.close()"
   ]
  }
 ],
 "metadata": {
  "kernelspec": {
   "display_name": "Python 3",
   "language": "python",
   "name": "python3"
  },
  "language_info": {
   "codemirror_mode": {
    "name": "ipython",
    "version": 3
   },
   "file_extension": ".py",
   "mimetype": "text/x-python",
   "name": "python",
   "nbconvert_exporter": "python",
   "pygments_lexer": "ipython3",
   "version": "3.12.4"
  }
 },
 "nbformat": 4,
 "nbformat_minor": 2
}
